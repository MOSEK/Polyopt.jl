{
 "metadata": {
  "name": ""
 },
 "nbformat": 3,
 "nbformat_minor": 0,
 "worksheets": [
  {
   "cells": [
    {
     "cell_type": "heading",
     "level": 1,
     "metadata": {},
     "source": [
      "Duality properties and sums-of-squares"
     ]
    },
    {
     "cell_type": "heading",
     "level": 2,
     "metadata": {},
     "source": [
      "A simple problem with equality and inequality constraints"
     ]
    },
    {
     "cell_type": "markdown",
     "metadata": {},
     "source": [
      "We consider a problem with both equality and inequality constraints"
     ]
    },
    {
     "cell_type": "markdown",
     "metadata": {},
     "source": [
      "\\begin{array}{ll}\n",
      "\\text{minimize}   & x + z\\\\\n",
      "\\text{subject to} & x - z \\geq 0\\\\\n",
      "                  & x^2 + z^2 = 1.\n",
      "\\end{array}"
     ]
    },
    {
     "cell_type": "code",
     "collapsed": false,
     "input": [
      "using Polyopt"
     ],
     "language": "python",
     "metadata": {},
     "outputs": [],
     "prompt_number": 1
    },
    {
     "cell_type": "code",
     "collapsed": false,
     "input": [
      "x, z = variables([\"x\", \"z\"]);"
     ],
     "language": "python",
     "metadata": {},
     "outputs": [],
     "prompt_number": 2
    },
    {
     "cell_type": "code",
     "collapsed": false,
     "input": [
      "f = x + z;"
     ],
     "language": "python",
     "metadata": {},
     "outputs": [],
     "prompt_number": 3
    },
    {
     "cell_type": "code",
     "collapsed": false,
     "input": [
      "g = x - z;"
     ],
     "language": "python",
     "metadata": {},
     "outputs": [],
     "prompt_number": 4
    },
    {
     "cell_type": "code",
     "collapsed": false,
     "input": [
      "h = x^2 + z^2 - 1;"
     ],
     "language": "python",
     "metadata": {},
     "outputs": [],
     "prompt_number": 5
    },
    {
     "cell_type": "code",
     "collapsed": false,
     "input": [
      "prob = momentprob(2, f, [g], [h]);"
     ],
     "language": "python",
     "metadata": {},
     "outputs": [],
     "prompt_number": 6
    },
    {
     "cell_type": "code",
     "collapsed": false,
     "input": [
      "X, Z, t, y, solsta = solve_mosek(prob);"
     ],
     "language": "python",
     "metadata": {},
     "outputs": [
      {
       "output_type": "stream",
       "stream": "stdout",
       "text": [
        "Open file 'polyopt.task'\n",
        "Computer\n"
       ]
      },
      {
       "output_type": "stream",
       "stream": "stdout",
       "text": [
        "  Platform               : Linux/64-X86    \n",
        "  Cores                  : 20              \n",
        "\n",
        "Problem\n",
        "  Name                   :                 \n",
        "  Objective sense        : max             \n",
        "  Type                   : CONIC (conic optimization problem)\n",
        "  Constraints            : 15              \n",
        "  Cones                  : 0               \n",
        "  Scalar variables       : 7               \n",
        "  Matrix variables       : 2               \n",
        "  Integer variables      : 0               \n",
        "\n",
        "Optimizer started.\n",
        "Conic interior-point optimizer started.\n",
        "Presolve started.\n",
        "Linear dependency checker started.\n",
        "Linear dependency checker terminated.\n",
        "Eliminator started.\n",
        "Total number of eliminations : 0\n",
        "Eliminator terminated.\n",
        "Eliminator - tries                  : 1                 time                   : 0.00            \n",
        "Eliminator - elim's                 : 0               \n",
        "Lin. dep.  - tries                  : 1                 time                   : 0.00            \n",
        "Lin. dep.  - number                 : 0               \n",
        "Presolve terminated. Time: 0.00    \n",
        "rnumcone: 0 0\n",
        "rnummcone: 1 numfrli: 8\n",
        "======\n",
        "nrmc: 1.000000e+00 0.000000e+00\n",
        "flops: 1.120000e+03\n",
        "flops: 1.120000e+03\n",
        "flops: 1.120000e+03\n",
        "Factor flops: 1.12e+03 (0.00e+00)\n",
        "Optimizer  - threads                : 8               \n",
        "Optimizer  - solved problem         : the primal      \n",
        "Optimizer  - Constraints            : 15\n",
        "Optimizer  - Cones                  : 1\n",
        "Optimizer  - Scalar variables       : 8                 conic                  : 8               \n",
        "Optimizer  - Semi-definite variables: 2                 scalarized             : 27              \n",
        "Factor     - setup time             : 0.00              dense det. time        : 0.00            \n",
        "Factor     - ML order time          : 0.00              GP order time          : 0.00            \n",
        "Factor     - nonzeros before factor : 120               after factor           : 120             \n",
        "Factor     - dense dim.             : 0                 flops                  : 3.81e+03        \n",
        "ITE PFEAS    DFEAS    GFEAS    PRSTATUS   POBJ              DOBJ              MU       TIME  \n",
        "0   2.0e+00  1.0e+00  1.0e+00  0.00e+00   0.000000000e+00   0.000000000e+00   1.0e+00  0.00  \n",
        "1   6.4e-01  3.2e-01  4.1e-01  2.86e-01   -4.653334109e-01  -6.237304963e-01  3.2e-01  0.00  \n",
        "2   1.4e-01  6.8e-02  3.2e-01  1.01e+00   -1.250925203e+00  -1.213892948e+00  6.8e-02  0.00  \n",
        "3   1.7e-02  8.3e-03  1.3e-01  1.13e+00   -1.389157294e+00  -1.384192283e+00  8.3e-03  0.00  \n",
        "4   1.6e-03  8.2e-04  3.8e-02  1.11e+00   -1.412333100e+00  -1.411934407e+00  8.2e-04  0.00  \n",
        "5   3.9e-04  2.0e-04  1.8e-02  1.05e+00   -1.413859444e+00  -1.413774675e+00  2.0e-04  0.00  \n",
        "6   1.1e-04  5.5e-05  8.8e-03  1.01e+00   -1.414055001e+00  -1.414038061e+00  5.5e-05  0.00  \n",
        "7   3.1e-05  1.5e-05  4.3e-03  1.01e+00   -1.414185489e+00  -1.414182344e+00  1.5e-05  0.00  \n",
        "8   7.8e-06  3.9e-06  2.1e-03  1.00e+00   -1.414201695e+00  -1.414201132e+00  3.9e-06  0.00  \n",
        "9   1.8e-06  9.2e-07  1.0e-03  1.00e+00   -1.414211646e+00  -1.414211554e+00  9.2e-07  0.00  \n",
        "10  4.4e-07  2.2e-07  4.8e-04  1.00e+00   -1.414212912e+00  -1.414212896e+00  2.2e-07  0.00  \n",
        "11  1.1e-07  5.5e-08  2.4e-04  1.00e+00   -1.414213443e+00  -1.414213440e+00  5.5e-08  0.00  \n",
        "12  2.9e-08  1.4e-08  1.2e-04  1.00e+00   -1.414213518e+00  -1.414213517e+00  1.4e-08  0.00  \n",
        "13  7.3e-09  4.0e-09  6.0e-05  1.00e+00   -1.414213555e+00  -1.414213555e+00  3.6e-09  0.00  \n",
        "Interior-point optimizer terminated. Time: 0.01. \n",
        "\n",
        "Optimizer terminated. Time: 0.02    \n",
        "\n",
        "Interior-point solution summary\n",
        "  Problem status  : PRIMAL_AND_DUAL_FEASIBLE\n",
        "  Solution status : OPTIMAL\n",
        "  Primal.  obj: -1.4142135547e+00   Viol.  con: 7e-09    var: 0e+00    barvar: 0e+00  \n",
        "  Dual.    obj: -1.4142135546e+00   Viol.  con: 0e+00    var: 2e-09    barvar: 2e-09  \n"
       ]
      }
     ],
     "prompt_number": 7
    },
    {
     "cell_type": "markdown",
     "metadata": {},
     "source": [
      "We inspect the solution,"
     ]
    },
    {
     "cell_type": "code",
     "collapsed": false,
     "input": [
      "[prob.basis[1:6] y[1:6]]"
     ],
     "language": "python",
     "metadata": {},
     "outputs": [
      {
       "metadata": {},
       "output_type": "pyout",
       "prompt_number": 8,
       "text": [
        "6x2 Array{Polyopt.Poly{Float64},2}:\n",
        " 1.0  0.9999999984166024 \n",
        " x    -0.7070596417196231\n",
        " z    -0.7071539129169786\n",
        " x^2  0.4999333441983954 \n",
        " x*z  0.4999999917465478 \n",
        " z^2  0.5000666551863145 "
       ]
      }
     ],
     "prompt_number": 8
    },
    {
     "cell_type": "raw",
     "metadata": {},
     "source": [
      "and verify optimality"
     ]
    },
    {
     "cell_type": "code",
     "collapsed": false,
     "input": [
      "t - Polyopt.evalpoly(f, y[2:3])"
     ],
     "language": "python",
     "metadata": {},
     "outputs": [
      {
       "metadata": {},
       "output_type": "pyout",
       "prompt_number": 9,
       "text": [
        "-4.232192374331589e-11"
       ]
      }
     ],
     "prompt_number": 9
    },
    {
     "cell_type": "code",
     "collapsed": false,
     "input": [
      "Polyopt.evalpoly(g, y[2:3]) >= 0"
     ],
     "language": "python",
     "metadata": {},
     "outputs": [
      {
       "metadata": {},
       "output_type": "pyout",
       "prompt_number": 10,
       "text": [
        "true"
       ]
      }
     ],
     "prompt_number": 10
    },
    {
     "cell_type": "code",
     "collapsed": false,
     "input": [
      "abs(Polyopt.evalpoly(h, y[2:3])) < 1e-5"
     ],
     "language": "python",
     "metadata": {},
     "outputs": [
      {
       "metadata": {},
       "output_type": "pyout",
       "prompt_number": 11,
       "text": [
        "true"
       ]
      }
     ],
     "prompt_number": 11
    },
    {
     "cell_type": "heading",
     "level": 2,
     "metadata": {},
     "source": [
      "Duality interpretation"
     ]
    },
    {
     "cell_type": "markdown",
     "metadata": {},
     "source": [
      "The returned solution consists objective value of the relaxation,"
     ]
    },
    {
     "cell_type": "code",
     "collapsed": false,
     "input": [
      "t"
     ],
     "language": "python",
     "metadata": {},
     "outputs": [
      {
       "metadata": {},
       "output_type": "pyout",
       "prompt_number": 12,
       "text": [
        "-1.4142135546789236"
       ]
      }
     ],
     "prompt_number": 12
    },
    {
     "cell_type": "markdown",
     "metadata": {},
     "source": [
      "of two semidefinite matrices $X_1$ and $X_2$, corresponding to $f(x,z)$ and $g(x,z)$,"
     ]
    },
    {
     "cell_type": "code",
     "collapsed": false,
     "input": [
      "X"
     ],
     "language": "python",
     "metadata": {},
     "outputs": [
      {
       "metadata": {},
       "output_type": "pyout",
       "prompt_number": 13,
       "text": [
        "2-element Array{Array{Float64,2},1}:\n",
        " 6x6 Array{Float64,2}:\n",
        "  0.76283    0.139908   0.549553    -0.281833   -0.139357    -0.1294   \n",
        "  0.139908   0.449842   0.00726      0.103131    0.320926    -0.057461 \n",
        "  0.549553   0.00726    0.94984     -0.0810409  -0.00657686   0.3421   \n",
        " -0.281833   0.103131  -0.0810409    0.520101   -0.0584083    0.133258 \n",
        " -0.139357   0.320926  -0.00657686  -0.0584083   0.840046    -0.0584083\n",
        " -0.1294    -0.057461   0.3421       0.133258   -0.0584083    0.586461 \n",
        " 3x3 Array{Float64,2}:\n",
        " 0.30807    0.122553    0.313058 \n",
        " 0.122553   0.205852   -0.0324771\n",
        " 0.313058  -0.0324771   0.475235                                                                                                                                                                                                                                                                                                                                           "
       ]
      }
     ],
     "prompt_number": 13
    },
    {
     "cell_type": "markdown",
     "metadata": {},
     "source": [
      "a symmetric indefinite matrix $Z_1$ corresponding to $h(x,z$),"
     ]
    },
    {
     "cell_type": "code",
     "collapsed": false,
     "input": [
      "Z"
     ],
     "language": "python",
     "metadata": {},
     "outputs": [
      {
       "metadata": {},
       "output_type": "pyout",
       "prompt_number": 14,
       "text": [
        "1-element Array{Array{Float64,2},1}:\n",
        " 3x3 Array{Float64,2}:\n",
        " -0.651383  -0.206057   -0.104482 \n",
        " -0.206057  -0.520101    0.0584083\n",
        " -0.104482   0.0584083  -0.586461 "
       ]
      }
     ],
     "prompt_number": 14
    },
    {
     "cell_type": "markdown",
     "metadata": {},
     "source": [
      "and $y$ from which we extracted the coefficients for the optimal monomial solution,"
     ]
    },
    {
     "cell_type": "code",
     "collapsed": false,
     "input": [
      "y"
     ],
     "language": "python",
     "metadata": {},
     "outputs": [
      {
       "metadata": {},
       "output_type": "pyout",
       "prompt_number": 15,
       "text": [
        "15-element Array{Float64,1}:\n",
        "  1.0     \n",
        " -0.70706 \n",
        " -0.707154\n",
        "  0.499933\n",
        "  0.5     \n",
        "  0.500067\n",
        " -0.353483\n",
        " -0.35353 \n",
        " -0.353577\n",
        " -0.353624\n",
        "  0.249933\n",
        "  0.249967\n",
        "  0.25    \n",
        "  0.250033\n",
        "  0.250067"
       ]
      }
     ],
     "prompt_number": 15
    },
    {
     "cell_type": "markdown",
     "metadata": {},
     "source": [
      "The dual interpretation expresses $f(x,z) - t = v_1^T X_1 v_1 + g(x,z) v_2^T X_2 v_2 + h(x,z) v_2^T Z_1 v_2$, in other words we express $f(x,z)-t$ as"
     ]
    },
    {
     "cell_type": "markdown",
     "metadata": {},
     "source": [
      "$$f(x,z) - t = s_0(x,z) + g(x,z)s_1(x,z) - h(x,z) w(x, z)$$"
     ]
    },
    {
     "cell_type": "markdown",
     "metadata": {},
     "source": [
      "where $s_0(x,z)$ and $s_1(x,z)$ are sums-of-squares, but $w(x,z)$ is not. Let us verify the expression,"
     ]
    },
    {
     "cell_type": "code",
     "collapsed": false,
     "input": [
      "v1 = monomials(2, [x,z])"
     ],
     "language": "python",
     "metadata": {},
     "outputs": [
      {
       "metadata": {},
       "output_type": "pyout",
       "prompt_number": 16,
       "text": [
        "6-element Array{Polyopt.Poly{Int64},1}:\n",
        " 1  \n",
        " x  \n",
        " z  \n",
        " x^2\n",
        " x*z\n",
        " z^2"
       ]
      }
     ],
     "prompt_number": 16
    },
    {
     "cell_type": "code",
     "collapsed": false,
     "input": [
      "v2 = monomials(1, [x,z])"
     ],
     "language": "python",
     "metadata": {},
     "outputs": [
      {
       "metadata": {},
       "output_type": "pyout",
       "prompt_number": 17,
       "text": [
        "3-element Array{Polyopt.Poly{Int64},1}:\n",
        " 1\n",
        " x\n",
        " z"
       ]
      }
     ],
     "prompt_number": 17
    },
    {
     "cell_type": "code",
     "collapsed": false,
     "input": [
      "f-t"
     ],
     "language": "python",
     "metadata": {},
     "outputs": [
      {
       "metadata": {},
       "output_type": "pyout",
       "prompt_number": 18,
       "text": [
        "1.4142135546789236+x+z"
       ]
      }
     ],
     "prompt_number": 18
    },
    {
     "cell_type": "code",
     "collapsed": false,
     "input": [
      "truncate( dot(v1, X[1]*v1) + g*dot(v2, X[2]*v2) + h*dot(v2, Z[1]*v2), 1e-8 )"
     ],
     "language": "python",
     "metadata": {},
     "outputs": [
      {
       "metadata": {},
       "output_type": "pyout",
       "prompt_number": 19,
       "text": [
        "1.4142135583953146+1.0000000000023097*x+0.999999992564098*z"
       ]
      }
     ],
     "prompt_number": 19
    }
   ],
   "metadata": {}
  }
 ]
}