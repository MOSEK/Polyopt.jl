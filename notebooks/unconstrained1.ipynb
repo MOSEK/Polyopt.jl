{
 "metadata": {
  "name": ""
 },
 "nbformat": 3,
 "nbformat_minor": 0,
 "worksheets": [
  {
   "cells": [
    {
     "cell_type": "heading",
     "level": 1,
     "metadata": {},
     "source": [
      "Example of unconstrained mimimization"
     ]
    },
    {
     "cell_type": "heading",
     "level": 2,
     "metadata": {},
     "source": [
      "Solving a simple problem"
     ]
    },
    {
     "cell_type": "code",
     "collapsed": false,
     "input": [
      "using Polyopt;\n"
     ],
     "language": "python",
     "metadata": {},
     "outputs": [
      {
       "output_type": "stream",
       "stream": "stderr",
       "text": [
        "Warning: New definition \n",
        "    convert(Type"
       ]
      },
      {
       "output_type": "stream",
       "stream": "stderr",
       "text": [
        "{Polyopt.Poly{S<:Number}},T<:Number) at /home/joachim/.julia/v0.4/Polyopt/src/polynomial.jl:135\n",
        "is ambiguous with: \n",
        "    convert(Type{T},T) at base.jl:38.\n",
        "To fix, define \n",
        "    convert(Type{Polyopt.Poly{S<:Number}},_<:Polyopt.Poly{S<:Number})\n",
        "before the new definition.\n",
        "WARNING: dlopen_e is deprecated, use Libdl.dlopen_e instead."
       ]
      },
      {
       "output_type": "stream",
       "stream": "stderr",
       "text": [
        "\n",
        " in depwarn at ./deprecated.jl:40\n",
        " in dlopen_e at deprecated.jl:10\n",
        " in anonymous at /home/joachim/.julia/v0.4/Mosek/src/../deps/deps.jl:4\n",
        " in include at ./boot.jl:250\n",
        " in include_from_node1 at ./loading.jl:129\n",
        " in include at ./boot.jl:250\n",
        " in include_from_node1 at ./loading.jl:129\n",
        " in reload_path at ./loading.jl:153\n",
        " in _require at ./loading.jl:68\n",
        " in require at ./loading.jl:54\n",
        " in include at ./boot.jl:250\n",
        " in include_from_node1 at ./loading.jl:129\n",
        " in include at ./boot.jl:250\n",
        " in include_from_node1 at ./loading.jl:129\n",
        " in reload_path at ./loading.jl:153\n",
        " in _require at ./loading.jl:68\n",
        " in require at ./loading.jl:51\n",
        " in include_string at loading.jl:98\n",
        " in execute_request_0x535c5df2 at /home/joachim/.julia/v0.4/IJulia/src/execute_request.jl:157\n",
        " in eventloop at /home/joachim/.julia/v0.4/IJulia/src/IJulia.jl:123\n",
        " in anonymous at task.jl:361\n",
        "WARNING: int32(x) is deprecated, use Int32(x) instead."
       ]
      },
      {
       "output_type": "stream",
       "stream": "stderr",
       "text": [
        "\n",
        " in depwarn at ./deprecated.jl:40\n",
        " in int32 at deprecated.jl:29\n",
        " in include at ./boot.jl:250\n",
        " in include_from_node1 at ./loading.jl:129\n",
        " in include at ./boot.jl:250\n",
        " in include_from_node1 at ./loading.jl:129\n",
        " in reload_path at ./loading.jl:153\n",
        " in _require at ./loading.jl:68\n",
        " in require at ./loading.jl:54\n",
        " in include at ./boot.jl:250\n",
        " in include_from_node1 at ./loading.jl:129\n",
        " in include at ./boot.jl:250\n",
        " in include_from_node1 at ./loading.jl:129\n",
        " in reload_path at ./loading.jl:153\n",
        " in _require at ./loading.jl:68\n",
        " in require at ./loading.jl:51\n",
        " in include_string at loading.jl:98\n",
        " in execute_request_0x535c5df2 at /home/joachim/.julia/v0.4/IJulia/src/execute_request.jl:157\n",
        " in eventloop at /home/joachim/.julia/v0.4/IJulia/src/IJulia.jl:123\n",
        " in anonymous at task.jl:361\n",
        "WARNING: int8(x) is deprecated, use Int8(x) instead."
       ]
      },
      {
       "output_type": "stream",
       "stream": "stderr",
       "text": [
        "\n",
        " in depwarn at ./deprecated.jl:40\n",
        " in int8 at deprecated.jl:29\n",
        " in include at ./boot.jl:250\n",
        " in include_from_node1 at ./loading.jl:129\n",
        " in include at ./boot.jl:250\n",
        " in include_from_node1 at ./loading.jl:129\n",
        " in reload_path at ./loading.jl:153\n",
        " in _require at ./loading.jl:68\n",
        " in require at ./loading.jl:54\n",
        " in include at ./boot.jl:250\n",
        " in include_from_node1 at ./loading.jl:129\n",
        " in include at ./boot.jl:250\n",
        " in include_from_node1 at ./loading.jl:129\n",
        " in reload_path at ./loading.jl:153\n",
        " in _require at ./loading.jl:68\n",
        " in require at ./loading.jl:51\n",
        " in include_string at loading.jl:98\n",
        " in execute_request_0x535c5df2 at /home/joachim/.julia/v0.4/IJulia/src/execute_request.jl:157\n",
        " in eventloop at /home/joachim/.julia/v0.4/IJulia/src/IJulia.jl:123\n",
        " in anonymous at task.jl:361\n"
       ]
      }
     ],
     "prompt_number": 1
    },
    {
     "cell_type": "markdown",
     "metadata": {},
     "source": [
      "We define two variables $x$ and $z$,"
     ]
    },
    {
     "cell_type": "code",
     "collapsed": false,
     "input": [
      "x, z = variables([\"x\", \"z\"]);"
     ],
     "language": "python",
     "metadata": {},
     "outputs": [],
     "prompt_number": 2
    },
    {
     "cell_type": "markdown",
     "metadata": {},
     "source": [
      "and the function $f(x,z)=4 x^2 + xz - 4z^2 - \\frac{21}{10}x^4 + 4z^4 + \\frac{1}{3}x^6$."
     ]
    },
    {
     "cell_type": "code",
     "collapsed": false,
     "input": [
      "f = 4*x^2 + x*z - 4*z^2 - 21//10*x^4 + 4*z^4 + 1//3*x^6;"
     ],
     "language": "python",
     "metadata": {},
     "outputs": [],
     "prompt_number": 3
    },
    {
     "cell_type": "markdown",
     "metadata": {},
     "source": [
      "To minimize $f(x)$ we form a truncated moment problem of order 3,"
     ]
    },
    {
     "cell_type": "code",
     "collapsed": false,
     "input": [
      "prob = momentprob(3, f);"
     ],
     "language": "python",
     "metadata": {},
     "outputs": [
      {
       "output_type": "stream",
       "stream": "stderr",
       "text": [
        "WARNING: [a] concatenation is deprecated; use [a;] instead\n"
       ]
      },
      {
       "output_type": "stream",
       "stream": "stderr",
       "text": [
        " in depwarn at ./deprecated.jl:40\n",
        " in oldstyle_vcat_warning at ./abstractarray.jl:26\n",
        " in indexmap at /home/joachim/.julia/v0.4/Polyopt/src/Polyopt.jl:91\n",
        " in momentprob at /home/joachim/.julia/v0.4/Polyopt/src/Polyopt.jl:142\n",
        " in momentprob at /home/joachim/.julia/v0.4/Polyopt/src/Polyopt.jl:173\n",
        " in include_string at loading.jl:98\n",
        " in execute_request_0x535c5df2 at /home/joachim/.julia/v0.4/IJulia/src/execute_request.jl:157\n",
        " in eventloop at /home/joachim/.julia/v0.4/IJulia/src/IJulia.jl:123\n",
        " in anonymous at task.jl:361\n"
       ]
      }
     ],
     "prompt_number": 4
    },
    {
     "cell_type": "markdown",
     "metadata": {},
     "source": [
      "and we solve the prob,"
     ]
    },
    {
     "cell_type": "code",
     "collapsed": false,
     "input": [
      "X, t, y, solsta = solve_mosek(prob);"
     ],
     "language": "python",
     "metadata": {},
     "outputs": [
      {
       "output_type": "stream",
       "stream": "stderr",
       "text": [
        "WARNING: int32(x) is deprecated, use Int32(x) instead.\n"
       ]
      },
      {
       "output_type": "stream",
       "stream": "stdout",
       "text": [
        "Open file 'polyopt.task'\n",
        "Computer\n"
       ]
      },
      {
       "output_type": "stream",
       "stream": "stderr",
       "text": [
        " in depwarn at ./deprecated.jl:40\n",
        " in int32 at deprecated.jl:29\n",
        " in solve_mosek at /home/joachim/.julia/v0.4/Polyopt/src/solver_mosek.jl:43\n",
        " in solve_mosek at /home/joachim/.julia/v0.4/Polyopt/src/solver_mosek.jl:18\n",
        " in include_string at loading.jl:98\n",
        " in execute_request_0x535c5df2 at /home/joachim/.julia/v0.4/IJulia/src/execute_request.jl:157\n",
        " in eventloop at /home/joachim/.julia/v0.4/IJulia/src/IJulia.jl:123\n",
        " in anonymous at task.jl:361\n",
        "WARNING: int32(x) is deprecated, use Int32(x) instead.\n",
        " in depwarn at ./deprecated.jl:40\n",
        " in int32 at deprecated.jl:29\n",
        " in solve_mosek at /home/joachim/.julia/v0.4/Polyopt/src/solver_mosek.jl:43\n",
        " in solve_mosek at /home/joachim/.julia/v0.4/Polyopt/src/solver_mosek.jl:18\n",
        " in include_string at loading.jl:98\n",
        " in execute_request_0x535c5df2 at /home/joachim/.julia/v0.4/IJulia/src/execute_request.jl:157\n",
        " in eventloop at /home/joachim/.julia/v0.4/IJulia/src/IJulia.jl:123\n",
        " in anonymous at task.jl:361\n",
        "WARNING: float64(x::AbstractArray) is deprecated, use map(Float64,x) instead.\n",
        " in depwarn at ./deprecated.jl:40\n",
        " in float64 at deprecated.jl:29\n",
        " in solve_mosek at /home/joachim/.julia/v0.4/Polyopt/src/solver_mosek.jl:43\n",
        " in solve_mosek at /home/joachim/.julia/v0.4/Polyopt/src/solver_mosek.jl:18\n",
        " in include_string at loading.jl:98\n",
        " in execute_request_0x535c5df2 at /home/joachim/.julia/v0.4/IJulia/src/execute_request.jl:157\n",
        " in eventloop at /home/joachim/.julia/v0.4/IJulia/src/IJulia.jl:123\n",
        " in anonymous at task.jl:361\n",
        "WARNING: float64(x::AbstractArray) is deprecated, use map(Float64,x) instead.\n",
        " in depwarn at ./deprecated.jl:40\n",
        " in float64 at deprecated.jl:29\n",
        " in solve_mosek at /home/joachim/.julia/v0.4/Polyopt/src/solver_mosek.jl:43\n",
        " in solve_mosek at /home/joachim/.julia/v0.4/Polyopt/src/solver_mosek.jl:18\n",
        " in include_string at loading.jl:98\n",
        " in execute_request_0x535c5df2 at /home/joachim/.julia/v0.4/IJulia/src/execute_request.jl:157\n",
        " in eventloop at /home/joachim/.julia/v0.4/IJulia/src/IJulia.jl:123\n",
        " in anonymous at task.jl:361\n",
        "WARNING: int32(x) is deprecated, use Int32(x) instead.\n",
        " in depwarn at ./deprecated.jl:40\n",
        " in int32 at deprecated.jl:29\n",
        " in solve_mosek at /home/joachim/.julia/v0.4/Polyopt/src/solver_mosek.jl:48\n",
        " in solve_mosek at /home/joachim/.julia/v0.4/Polyopt/src/solver_mosek.jl:18\n",
        " in include_string at loading.jl:98\n",
        " in execute_request_0x535c5df2 at /home/joachim/.julia/v0.4/IJulia/src/execute_request.jl:157\n",
        " in eventloop at /home/joachim/.julia/v0.4/IJulia/src/IJulia.jl:123\n",
        " in anonymous at task.jl:361\n",
        "WARNING: float64(x) is deprecated, use Float64(x) instead.\n",
        " in depwarn at ./deprecated.jl:40\n",
        " in float64 at deprecated.jl:29\n",
        " in solve_mosek at /home/joachim/.julia/v0.4/Polyopt/src/solver_mosek.jl:48\n",
        " in solve_mosek at /home/joachim/.julia/v0.4/Polyopt/src/solver_mosek.jl:18\n",
        " in include_string at loading.jl:98\n",
        " in execute_request_0x535c5df2 at /home/joachim/.julia/v0.4/IJulia/src/execute_request.jl:157\n",
        " in eventloop at /home/joachim/.julia/v0.4/IJulia/src/IJulia.jl:123\n",
        " in anonymous at task.jl:361\n",
        "WARNING: int32(x) is deprecated, use Int32(x) instead.\n",
        " in depwarn at ./deprecated.jl:40\n",
        " in int32 at deprecated.jl:29\n",
        " in solve_mosek at /home/joachim/.julia/v0.4/Polyopt/src/solver_mosek.jl:55\n",
        " in solve_mosek at /home/joachim/.julia/v0.4/Polyopt/src/solver_mosek.jl:18\n",
        " in include_string at loading.jl:98\n",
        " in execute_request_0x535c5df2 at /home/joachim/.julia/v0.4/IJulia/src/execute_request.jl:157\n",
        " in eventloop at /home/joachim/.julia/v0.4/IJulia/src/IJulia.jl:123\n",
        " in anonymous at task.jl:361\n",
        "WARNING: int32(x) is deprecated, use Int32(x) instead.\n",
        " in depwarn at ./deprecated.jl:40\n",
        " in int32 at deprecated.jl:29\n",
        " in solve_mosek at /home/joachim/.julia/v0.4/Polyopt/src/solver_mosek.jl:55\n",
        " in solve_mosek at /home/joachim/.julia/v0.4/Polyopt/src/solver_mosek.jl:18\n",
        " in include_string at loading.jl:98\n",
        " in execute_request_0x535c5df2 at /home/joachim/.julia/v0.4/IJulia/src/execute_request.jl:157\n",
        " in eventloop at /home/joachim/.julia/v0.4/IJulia/src/IJulia.jl:123\n",
        " in anonymous at task.jl:361\n",
        "WARNING: float64(x) is deprecated, use Float64(x) instead.\n",
        " in depwarn at ./deprecated.jl:40\n",
        " in float64 at deprecated.jl:29\n",
        " in solve_mosek at /home/joachim/.julia/v0.4/Polyopt/src/solver_mosek.jl:55\n",
        " in solve_mosek at /home/joachim/.julia/v0.4/Polyopt/src/solver_mosek.jl:18\n",
        " in include_string at loading.jl:98\n",
        " in execute_request_0x535c5df2 at /home/joachim/.julia/v0.4/IJulia/src/execute_request.jl:157\n",
        " in eventloop at /home/joachim/.julia/v0.4/IJulia/src/IJulia.jl:123\n",
        " in anonymous at task.jl:361\n",
        "WARNING: int32(x) is deprecated, use Int32(x) instead.\n",
        " in depwarn at ./deprecated.jl:40\n",
        " in int32 at deprecated.jl:29\n",
        " in putconboundslice at /home/joachim/.julia/v0.4/Mosek/src/msk_functions.jl:2846\n",
        " in solve_mosek at /home/joachim/.julia/v0.4/Polyopt/src/solver_mosek.jl:73\n",
        " in solve_mosek at /home/joachim/.julia/v0.4/Polyopt/src/solver_mosek.jl:18\n",
        " in include_string at loading.jl:98\n",
        " in execute_request_0x535c5df2 at /home/joachim/.julia/v0.4/IJulia/src/execute_request.jl:157\n",
        " in eventloop at /home/joachim/.julia/v0.4/IJulia/src/IJulia.jl:123\n",
        " in anonymous at task.jl:361\n",
        "WARNING: int32(x) is deprecated, use Int32(x) instead.\n",
        " in depwarn at ./deprecated.jl:40\n",
        " in int32 at deprecated.jl:29\n",
        " in putconboundslice at /home/joachim/.julia/v0.4/Mosek/src/msk_functions.jl:2846\n",
        " in solve_mosek at /home/joachim/.julia/v0.4/Polyopt/src/solver_mosek.jl:73\n",
        " in solve_mosek at /home/joachim/.julia/v0.4/Polyopt/src/solver_mosek.jl:18\n",
        " in include_string at loading.jl:98\n",
        " in execute_request_0x535c5df2 at /home/joachim/.julia/v0.4/IJulia/src/execute_request.jl:157\n",
        " in eventloop at /home/joachim/.julia/v0.4/IJulia/src/IJulia.jl:123\n",
        " in anonymous at task.jl:361\n",
        "WARNING: float64(x::AbstractArray) is deprecated, use map(Float64,x) instead.\n",
        " in depwarn at ./deprecated.jl:40\n",
        " in float64 at deprecated.jl:29\n",
        " in putconboundslice at /home/joachim/.julia/v0.4/Mosek/src/msk_functions.jl:2846\n",
        " in solve_mosek at /home/joachim/.julia/v0.4/Polyopt/src/solver_mosek.jl:73\n",
        " in solve_mosek at /home/joachim/.julia/v0.4/Polyopt/src/solver_mosek.jl:18\n",
        " in include_string at loading.jl:98\n",
        " in execute_request_0x535c5df2 at /home/joachim/.julia/v0.4/IJulia/src/execute_request.jl:157\n",
        " in eventloop at /home/joachim/.julia/v0.4/IJulia/src/IJulia.jl:123\n",
        " in anonymous at task.jl:361\n",
        "WARNING: float64(x::AbstractArray) is deprecated, use map(Float64,x) instead.\n",
        " in depwarn at ./deprecated.jl:40\n",
        " in float64 at deprecated.jl:29\n",
        " in putconboundslice at /home/joachim/.julia/v0.4/Mosek/src/msk_functions.jl:2846\n",
        " in solve_mosek at /home/joachim/.julia/v0.4/Polyopt/src/solver_mosek.jl:73\n",
        " in solve_mosek at /home/joachim/.julia/v0.4/Polyopt/src/solver_mosek.jl:18\n",
        " in include_string at loading.jl:98\n",
        " in execute_request_0x535c5df2 at /home/joachim/.julia/v0.4/IJulia/src/execute_request.jl:157\n",
        " in eventloop at /home/joachim/.julia/v0.4/IJulia/src/IJulia.jl:123\n",
        " in anonymous at task.jl:361\n"
       ]
      },
      {
       "output_type": "stream",
       "stream": "stdout",
       "text": [
        "  Platform               : Linux/64-X86    \n",
        "  Cores                  : 20              \n",
        "\n",
        "Problem\n",
        "  Name                   :                 \n",
        "  Objective sense        : max             \n",
        "  Type                   : CONIC (conic optimization problem)\n",
        "  Constraints            : 28              \n",
        "  Cones                  : 0               \n",
        "  Scalar variables       : 1               \n",
        "  Matrix variables       : 1               \n",
        "  Integer variables      : 0               \n",
        "\n",
        "Optimizer started.\n",
        "Conic interior-point optimizer started.\n",
        "Presolve started.\n",
        "Linear dependency checker started.\n",
        "Linear dependency checker terminated.\n",
        "Eliminator - tries                  : 0                 time                   : 0.00            \n",
        "Eliminator - elim's                 : 0               \n",
        "Lin. dep.  - tries                  : 1                 time                   : 0.00            \n",
        "Lin. dep.  - number                 : 0               \n",
        "Presolve terminated. Time: 0.00    \n",
        "rnumcone: 0 0\n",
        "rnummcone: 1 numfrli: 2\n",
        "======\n",
        "nrmc: 1.000000e+00 0.000000e+00\n",
        "flops: 7.308000e+03\n",
        "flops: 7.308000e+03\n",
        "flops: 7.308000e+03\n",
        "Factor flops: 7.31e+03 (0.00e+00)\n",
        "Optimizer  - threads                : 8               \n",
        "Optimizer  - solved problem         : the primal      \n",
        "Optimizer  - Constraints            : 28\n",
        "Optimizer  - Cones                  : 1\n",
        "Optimizer  - Scalar variables       : 2                 conic                  : 2               \n",
        "Optimizer  - Semi-definite variables: 1                 scalarized             : 55              \n",
        "Factor     - setup time             : 0.00              dense det. time        : 0.00            \n",
        "Factor     - ML order time          : 0.00              GP order time          : 0.00            \n",
        "Factor     - nonzeros before factor : 406               after factor           : 406             \n",
        "Factor     - dense dim.             : 0                 flops                  : 1.73e+04        \n",
        "ITE PFEAS    DFEAS    GFEAS    PRSTATUS   POBJ              DOBJ              MU       TIME  \n",
        "0   3.0e+00  1.0e+00  1.0e+00  0.00e+00   0.000000000e+00   0.000000000e+00   1.0e+00  0.00  \n",
        "1   6.3e-01  2.1e-01  2.3e-01  -3.79e-01  -1.772682023e+00  -3.597182740e+00  2.1e-01  0.00  \n",
        "2   1.3e-01  4.2e-02  2.4e-01  1.37e+00   -1.445133299e+00  -1.346756752e+00  4.2e-02  0.00  \n",
        "3   2.4e-02  8.1e-03  1.3e-01  1.59e+00   -1.033640298e+00  -1.017400667e+00  8.1e-03  0.00  \n",
        "4   3.2e-03  1.1e-03  5.4e-02  1.43e+00   -1.031299219e+00  -1.029523896e+00  1.1e-03  0.00  \n",
        "5   4.5e-04  1.5e-04  1.9e-02  1.05e+00   -1.031662112e+00  -1.031445761e+00  1.5e-04  0.00  \n",
        "6   5.9e-05  2.0e-05  6.4e-03  9.99e-01   -1.031640197e+00  -1.031616219e+00  2.0e-05  0.00  \n",
        "7   7.5e-06  2.5e-06  2.3e-03  1.02e+00   -1.031630265e+00  -1.031627465e+00  2.5e-06  0.00  \n",
        "8   1.1e-06  3.6e-07  8.6e-04  1.03e+00   -1.031628715e+00  -1.031628328e+00  3.6e-07  0.00  \n",
        "9   1.8e-07  6.1e-08  3.5e-04  1.03e+00   -1.031628501e+00  -1.031628441e+00  6.1e-08  0.00  \n",
        "10  3.6e-08  1.2e-08  1.5e-04  1.03e+00   -1.031628465e+00  -1.031628455e+00  1.2e-08  0.01  \n",
        "11  8.9e-09  2.9e-09  7.4e-05  1.03e+00   -1.031628456e+00  -1.031628454e+00  3.0e-09  0.01  \n",
        "12  1.9e-09  1.5e-09  4.1e-05  1.00e+00   -1.031628456e+00  -1.031628455e+00  8.5e-10  0.01  \n",
        "13  3.1e-10  5.5e-09  1.7e-05  1.00e+00   -1.031628454e+00  -1.031628454e+00  1.4e-10  0.01  \n",
        "Interior-point optimizer terminated. Time: 0.01. \n",
        "\n",
        "Optimizer terminated. Time: 0.02    \n",
        "\n",
        "Interior-point solution summary\n",
        "  Problem status  : PRIMAL_AND_DUAL_FEASIBLE\n",
        "  Solution status : OPTIMAL\n",
        "  Primal.  obj: -1.0316284536e+00   Viol.  con: 5e-10    var: 0e+00    barvar: 0e+00  \n",
        "  Dual.    obj: -1.0316284535e+00   Viol.  con: 0e+00    var: 4e-12    barvar: 1e-10  \n"
       ]
      },
      {
       "output_type": "stream",
       "stream": "stderr",
       "text": [
        "WARNING: int32(x) is deprecated, use Int32(x) instead.\n",
        " in depwarn at ./deprecated.jl:40\n",
        " in int32 at deprecated.jl:29\n",
        " in getbarxj at /home/joachim/.julia/v0.4/Mosek/src/msk_functions.jl:847\n",
        " in solve_mosek at /home/joachim/.julia/v0.4/Polyopt/src/solver_mosek.jl:103\n",
        " in solve_mosek at /home/joachim/.julia/v0.4/Polyopt/src/solver_mosek.jl:18\n",
        " in include_string at loading.jl:98\n",
        " in execute_request_0x535c5df2 at /home/joachim/.julia/v0.4/IJulia/src/execute_request.jl:157\n",
        " in eventloop at /home/joachim/.julia/v0.4/IJulia/src/IJulia.jl:123\n",
        " in anonymous at task.jl:361\n",
        "WARNING: int(x::FloatingPoint) is deprecated, use round(Int,x) instead.\n",
        " in depwarn at ./deprecated.jl:40\n",
        " in int at deprecated.jl:29\n",
        " in solve_mosek at /home/joachim/.julia/v0.4/Polyopt/src/solver_mosek.jl:103\n",
        " in solve_mosek at /home/joachim/.julia/v0.4/Polyopt/src/solver_mosek.jl:18\n",
        " in include_string at loading.jl:98\n",
        " in execute_request_0x535c5df2 at /home/joachim/.julia/v0.4/IJulia/src/execute_request.jl:157\n",
        " in eventloop at /home/joachim/.julia/v0.4/IJulia/src/IJulia.jl:123\n",
        " in anonymous at task.jl:361\n",
        "WARNING: int32(x) is deprecated, use Int32(x) instead.\n",
        " in depwarn at ./deprecated.jl:40\n",
        " in int32 at deprecated.jl:29\n",
        " in getxxslice at /home/joachim/.julia/v0.4/Mosek/src/msk_functions.jl:2288\n",
        " in solve_mosek at /home/joachim/.julia/v0.4/Polyopt/src/solver_mosek.jl:104\n",
        " in solve_mosek at /home/joachim/.julia/v0.4/Polyopt/src/solver_mosek.jl:18\n",
        " in include_string at loading.jl:98\n",
        " in execute_request_0x535c5df2 at /home/joachim/.julia/v0.4/IJulia/src/execute_request.jl:157\n",
        " in eventloop at /home/joachim/.julia/v0.4/IJulia/src/IJulia.jl:123\n",
        " in anonymous at task.jl:361\n",
        "WARNING: int32(x) is deprecated, use Int32(x) instead.\n",
        " in depwarn at ./deprecated.jl:40\n",
        " in int32 at deprecated.jl:29\n",
        " in getxxslice at /home/joachim/.julia/v0.4/Mosek/src/msk_functions.jl:2288\n",
        " in solve_mosek at /home/joachim/.julia/v0.4/Polyopt/src/solver_mosek.jl:104\n",
        " in solve_mosek at /home/joachim/.julia/v0.4/Polyopt/src/solver_mosek.jl:18\n",
        " in include_string at loading.jl:98\n",
        " in execute_request_0x535c5df2 at /home/joachim/.julia/v0.4/IJulia/src/execute_request.jl:157\n",
        " in eventloop at /home/joachim/.julia/v0.4/IJulia/src/IJulia.jl:123\n",
        " in anonymous at task.jl:361\n"
       ]
      }
     ],
     "prompt_number": 5
    },
    {
     "cell_type": "markdown",
     "metadata": {},
     "source": [
      "The optimal lower bound is"
     ]
    },
    {
     "cell_type": "code",
     "collapsed": false,
     "input": [
      "t"
     ],
     "language": "python",
     "metadata": {},
     "outputs": [
      {
       "metadata": {},
       "output_type": "pyout",
       "prompt_number": 6,
       "text": [
        "-1.0316284536472202"
       ]
      }
     ],
     "prompt_number": 6
    },
    {
     "cell_type": "markdown",
     "metadata": {},
     "source": [
      "If an optimal polynomial solution is found, then $y$ corresponds to the monomial basis vector"
     ]
    },
    {
     "cell_type": "code",
     "collapsed": false,
     "input": [
      "[prob.basis y]"
     ],
     "language": "python",
     "metadata": {},
     "outputs": [
      {
       "metadata": {},
       "output_type": "pyout",
       "prompt_number": 7,
       "text": [
        "28x2 Array{Polyopt.Poly{Float64},2}:\n",
        " 1.0      1.000000000004388      \n",
        " x        -6.997099969175702e-17 \n",
        " z        5.549847546966593e-16  \n",
        " x^2      0.008071601849065477   \n",
        " x*z      -0.06402654368986652   \n",
        " z^2      0.5078792714445775     \n",
        " x^3      -5.648762674110467e-19 \n",
        " x^2*z    4.480389061318073e-18  \n",
        " x*z^2    -3.553683304442502e-17 \n",
        " z^3      2.818653532772795e-16  \n",
        " x^4      6.515805553634735e-5   \n",
        " x^3*z    -0.0005167992529581044 \n",
        " x^2*z^2  0.004099399643055172   \n",
        " \u22ee                               \n",
        " x^4*z    3.617023432318623e-20  \n",
        " x^3*z^2  -2.868893710958249e-19 \n",
        " x^2*z^3  2.2754969206911985e-18 \n",
        " x*z^4    -1.8048470386346668e-17\n",
        " z^5      1.43153648778467e-16   \n",
        " x^6      5.510518953028497e-7   \n",
        " x^5*z    -4.1781600744367224e-6 \n",
        " x^4*z^2  3.445429587530473e-5   \n",
        " x^3*z^3  -0.0002617012859429737 \n",
        " x^2*z^4  0.0035973479662905097  \n",
        " x*z^5    -0.01548709834256674   \n",
        " z^6      1.942498678481704      "
       ]
      }
     ],
     "prompt_number": 7
    },
    {
     "cell_type": "markdown",
     "metadata": {},
     "source": [
      "Because of multiple global minima of $f(x,z)$ this is not the case."
     ]
    },
    {
     "cell_type": "heading",
     "level": 2,
     "metadata": {},
     "source": [
      "Perturbing the problem to find global minimum"
     ]
    },
    {
     "cell_type": "markdown",
     "metadata": {},
     "source": [
      " We perturb $f(x,z)$ to find a global minimizer,"
     ]
    },
    {
     "cell_type": "code",
     "collapsed": false,
     "input": [
      "fp = f + 1e-5*dot(randn(2),[x,z])"
     ],
     "language": "python",
     "metadata": {},
     "outputs": [
      {
       "metadata": {},
       "output_type": "pyout",
       "prompt_number": 8,
       "text": [
        "-1.8735132200819206e-6*x-1.174796303876253e-5*z+4.0*x^2+x*z-4.0*z^2-2.1*x^4+4.0*z^4+0.3333333333333333*x^6"
       ]
      }
     ],
     "prompt_number": 8
    },
    {
     "cell_type": "code",
     "collapsed": false,
     "input": [
      "probp = momentprob(3, fp);"
     ],
     "language": "python",
     "metadata": {},
     "outputs": [
      {
       "output_type": "stream",
       "stream": "stderr",
       "text": [
        "WARNING: [a] concatenation is deprecated; use [a;] instead\n"
       ]
      },
      {
       "output_type": "stream",
       "stream": "stderr",
       "text": [
        " in depwarn at ./deprecated.jl:40\n",
        " in oldstyle_vcat_warning at ./abstractarray.jl:26\n",
        " in indexmap at /home/joachim/.julia/v0.4/Polyopt/src/Polyopt.jl:91\n",
        " in momentprob at /home/joachim/.julia/v0.4/Polyopt/src/Polyopt.jl:142\n",
        " in momentprob at /home/joachim/.julia/v0.4/Polyopt/src/Polyopt.jl:173\n",
        " in include_string at loading.jl:98\n",
        " in execute_request_0x535c5df2 at /home/joachim/.julia/v0.4/IJulia/src/execute_request.jl:157\n",
        " in eventloop at /home/joachim/.julia/v0.4/IJulia/src/IJulia.jl:123\n",
        " in anonymous at task.jl:361\n"
       ]
      }
     ],
     "prompt_number": 9
    },
    {
     "cell_type": "code",
     "collapsed": false,
     "input": [
      "Xp, tp, yp, solsta = solve_mosek(probp);"
     ],
     "language": "python",
     "metadata": {},
     "outputs": [
      {
       "output_type": "stream",
       "stream": "stderr",
       "text": [
        "WARNING: int32(x) is deprecated, use Int32(x) instead.\n"
       ]
      },
      {
       "output_type": "stream",
       "stream": "stdout",
       "text": [
        "Open file 'polyopt.task'\n",
        "Computer\n"
       ]
      },
      {
       "output_type": "stream",
       "stream": "stdout",
       "text": [
        "  Platform               : Linux/64-X86    \n",
        "  Cores                  : 20              \n",
        "\n",
        "Problem\n",
        "  Name                   :                 \n",
        "  Objective sense        : max             \n",
        "  Type                   : CONIC (conic optimization problem)\n",
        "  Constraints            : 28              \n",
        "  Cones                  : 0               \n",
        "  Scalar variables       : 1               \n",
        "  Matrix variables       : 1               \n",
        "  Integer variables      : 0               \n",
        "\n",
        "Optimizer started.\n",
        "Conic interior-point optimizer started.\n",
        "Presolve started.\n",
        "Linear dependency checker started.\n",
        "Linear dependency checker terminated.\n",
        "Eliminator - tries                  : 0                 time                   : 0.00            \n",
        "Eliminator - elim's                 : 0               \n",
        "Lin. dep.  - tries                  : 1                 time                   : 0.00            \n",
        "Lin. dep.  - number                 : 0               \n",
        "Presolve terminated. Time: 0.00    \n",
        "rnumcone: 0 0\n",
        "rnummcone: 1 numfrli: 2\n",
        "======\n",
        "nrmc: 1.000000e+00 0.000000e+00\n",
        "flops: 7.308000e+03\n",
        "flops: 7.308000e+03\n",
        "flops: 7.308000e+03\n",
        "Factor flops: 7.31e+03 (0.00e+00)\n",
        "Optimizer  - threads                : 8               \n",
        "Optimizer  - solved problem         : the primal      \n",
        "Optimizer  - Constraints            : 28\n",
        "Optimizer  - Cones                  : 1\n",
        "Optimizer  - Scalar variables       : 2                 conic                  : 2               \n",
        "Optimizer  - Semi-definite variables: 1                 scalarized             : 55              \n",
        "Factor     - setup time             : 0.00              dense det. time        : 0.00            \n",
        "Factor     - ML order time          : 0.00              GP order time          : 0.00            \n",
        "Factor     - nonzeros before factor : 406               after factor           : 406             \n",
        "Factor     - dense dim.             : 0                 flops                  : 1.73e+04        \n",
        "ITE PFEAS    DFEAS    GFEAS    PRSTATUS   POBJ              DOBJ              MU       TIME  \n",
        "0   3.0e+00  1.0e+00  1.0e+00  0.00e+00   0.000000000e+00   0.000000000e+00   1.0e+00  0.00  \n",
        "1   6.3e-01  2.1e-01  2.3e-01  -3.79e-01  -1.772682023e+00  -3.597182740e+00  2.1e-01  0.00  \n",
        "2   1.3e-01  4.2e-02  2.4e-01  1.37e+00   -1.445133299e+00  -1.346756752e+00  4.2e-02  0.00  \n",
        "3   2.4e-02  8.1e-03  1.3e-01  1.59e+00   -1.033640300e+00  -1.017400668e+00  8.1e-03  0.00  \n",
        "4   3.2e-03  1.1e-03  5.4e-02  1.43e+00   -1.031299230e+00  -1.029523912e+00  1.1e-03  0.00  \n",
        "5   4.5e-04  1.5e-04  1.9e-02  1.05e+00   -1.031662151e+00  -1.031445800e+00  1.5e-04  0.00  \n",
        "6   5.9e-05  2.0e-05  6.4e-03  9.99e-01   -1.031640437e+00  -1.031616458e+00  2.0e-05  0.00  \n",
        "7   7.6e-06  2.5e-06  2.3e-03  1.02e+00   -1.031631938e+00  -1.031629103e+00  2.5e-06  0.00  \n",
        "8   1.1e-06  3.7e-07  8.7e-04  1.03e+00   -1.031636184e+00  -1.031635790e+00  3.7e-07  0.00  \n",
        "9   1.9e-07  6.2e-08  3.5e-04  1.03e+00   -1.031636582e+00  -1.031636522e+00  6.2e-08  0.00  \n",
        "10  3.6e-08  1.2e-08  1.5e-04  1.03e+00   -1.031636643e+00  -1.031636633e+00  1.2e-08  0.00  \n",
        "11  8.9e-09  3.4e-09  7.4e-05  1.05e+00   -1.031636655e+00  -1.031636653e+00  2.8e-09  0.00  \n",
        "12  2.4e-09  2.1e-09  3.6e-05  9.96e-01   -1.031636657e+00  -1.031636656e+00  7.5e-10  0.00  \n",
        "Interior-point optimizer terminated. Time: 0.00. \n",
        "\n",
        "Optimizer terminated. Time: 0.01    \n",
        "\n",
        "Interior-point solution summary\n",
        "  Problem status  : PRIMAL_AND_DUAL_FEASIBLE\n",
        "  Solution status : OPTIMAL\n",
        "  Primal.  obj: -1.0316366569e+00   Viol.  con: 4e-09    var: 0e+00    barvar: 0e+00  \n",
        "  Dual.    obj: -1.0316366564e+00   Viol.  con: 0e+00    var: 7e-12    barvar: 8e-10  \n"
       ]
      },
      {
       "output_type": "stream",
       "stream": "stderr",
       "text": [
        " in depwarn at ./deprecated.jl:40\n",
        " in int32 at deprecated.jl:29\n",
        " in solve_mosek at /home/joachim/.julia/v0.4/Polyopt/src/solver_mosek.jl:43\n",
        " in solve_mosek at /home/joachim/.julia/v0.4/Polyopt/src/solver_mosek.jl:18\n",
        " in include_string at loading.jl:98\n",
        " in execute_request_0x535c5df2 at /home/joachim/.julia/v0.4/IJulia/src/execute_request.jl:157\n",
        " in eventloop at /home/joachim/.julia/v0.4/IJulia/src/IJulia.jl:123\n",
        " in anonymous at task.jl:361\n",
        "WARNING: int32(x) is deprecated, use Int32(x) instead.\n",
        " in depwarn at ./deprecated.jl:40\n",
        " in int32 at deprecated.jl:29\n",
        " in solve_mosek at /home/joachim/.julia/v0.4/Polyopt/src/solver_mosek.jl:43\n",
        " in solve_mosek at /home/joachim/.julia/v0.4/Polyopt/src/solver_mosek.jl:18\n",
        " in include_string at loading.jl:98\n",
        " in execute_request_0x535c5df2 at /home/joachim/.julia/v0.4/IJulia/src/execute_request.jl:157\n",
        " in eventloop at /home/joachim/.julia/v0.4/IJulia/src/IJulia.jl:123\n",
        " in anonymous at task.jl:361\n",
        "WARNING: float64(x::AbstractArray) is deprecated, use map(Float64,x) instead.\n",
        " in depwarn at ./deprecated.jl:40\n",
        " in float64 at deprecated.jl:29\n",
        " in solve_mosek at /home/joachim/.julia/v0.4/Polyopt/src/solver_mosek.jl:43\n",
        " in solve_mosek at /home/joachim/.julia/v0.4/Polyopt/src/solver_mosek.jl:18\n",
        " in include_string at loading.jl:98\n",
        " in execute_request_0x535c5df2 at /home/joachim/.julia/v0.4/IJulia/src/execute_request.jl:157\n",
        " in eventloop at /home/joachim/.julia/v0.4/IJulia/src/IJulia.jl:123\n",
        " in anonymous at task.jl:361\n",
        "WARNING: float64(x::AbstractArray) is deprecated, use map(Float64,x) instead.\n",
        " in depwarn at ./deprecated.jl:40\n",
        " in float64 at deprecated.jl:29\n",
        " in solve_mosek at /home/joachim/.julia/v0.4/Polyopt/src/solver_mosek.jl:43\n",
        " in solve_mosek at /home/joachim/.julia/v0.4/Polyopt/src/solver_mosek.jl:18\n",
        " in include_string at loading.jl:98\n",
        " in execute_request_0x535c5df2 at /home/joachim/.julia/v0.4/IJulia/src/execute_request.jl:157\n",
        " in eventloop at /home/joachim/.julia/v0.4/IJulia/src/IJulia.jl:123\n",
        " in anonymous at task.jl:361\n",
        "WARNING: int32(x) is deprecated, use Int32(x) instead.\n",
        " in depwarn at ./deprecated.jl:40\n",
        " in int32 at deprecated.jl:29\n",
        " in solve_mosek at /home/joachim/.julia/v0.4/Polyopt/src/solver_mosek.jl:48\n",
        " in solve_mosek at /home/joachim/.julia/v0.4/Polyopt/src/solver_mosek.jl:18\n",
        " in include_string at loading.jl:98\n",
        " in execute_request_0x535c5df2 at /home/joachim/.julia/v0.4/IJulia/src/execute_request.jl:157\n",
        " in eventloop at /home/joachim/.julia/v0.4/IJulia/src/IJulia.jl:123\n",
        " in anonymous at task.jl:361\n",
        "WARNING: float64(x) is deprecated, use Float64(x) instead.\n",
        " in depwarn at ./deprecated.jl:40\n",
        " in float64 at deprecated.jl:29\n",
        " in solve_mosek at /home/joachim/.julia/v0.4/Polyopt/src/solver_mosek.jl:48\n",
        " in solve_mosek at /home/joachim/.julia/v0.4/Polyopt/src/solver_mosek.jl:18\n",
        " in include_string at loading.jl:98\n",
        " in execute_request_0x535c5df2 at /home/joachim/.julia/v0.4/IJulia/src/execute_request.jl:157\n",
        " in eventloop at /home/joachim/.julia/v0.4/IJulia/src/IJulia.jl:123\n",
        " in anonymous at task.jl:361\n",
        "WARNING: int32(x) is deprecated, use Int32(x) instead.\n",
        " in depwarn at ./deprecated.jl:40\n",
        " in int32 at deprecated.jl:29\n",
        " in solve_mosek at /home/joachim/.julia/v0.4/Polyopt/src/solver_mosek.jl:55\n",
        " in solve_mosek at /home/joachim/.julia/v0.4/Polyopt/src/solver_mosek.jl:18\n",
        " in include_string at loading.jl:98\n",
        " in execute_request_0x535c5df2 at /home/joachim/.julia/v0.4/IJulia/src/execute_request.jl:157\n",
        " in eventloop at /home/joachim/.julia/v0.4/IJulia/src/IJulia.jl:123\n",
        " in anonymous at task.jl:361\n",
        "WARNING: int32(x) is deprecated, use Int32(x) instead.\n",
        " in depwarn at ./deprecated.jl:40\n",
        " in int32 at deprecated.jl:29\n",
        " in solve_mosek at /home/joachim/.julia/v0.4/Polyopt/src/solver_mosek.jl:55\n",
        " in solve_mosek at /home/joachim/.julia/v0.4/Polyopt/src/solver_mosek.jl:18\n",
        " in include_string at loading.jl:98\n",
        " in execute_request_0x535c5df2 at /home/joachim/.julia/v0.4/IJulia/src/execute_request.jl:157\n",
        " in eventloop at /home/joachim/.julia/v0.4/IJulia/src/IJulia.jl:123\n",
        " in anonymous at task.jl:361\n",
        "WARNING: float64(x) is deprecated, use Float64(x) instead.\n",
        " in depwarn at ./deprecated.jl:40\n",
        " in float64 at deprecated.jl:29\n",
        " in solve_mosek at /home/joachim/.julia/v0.4/Polyopt/src/solver_mosek.jl:55\n",
        " in solve_mosek at /home/joachim/.julia/v0.4/Polyopt/src/solver_mosek.jl:18\n",
        " in include_string at loading.jl:98\n",
        " in execute_request_0x535c5df2 at /home/joachim/.julia/v0.4/IJulia/src/execute_request.jl:157\n",
        " in eventloop at /home/joachim/.julia/v0.4/IJulia/src/IJulia.jl:123\n",
        " in anonymous at task.jl:361\n"
       ]
      }
     ],
     "prompt_number": 10
    },
    {
     "cell_type": "markdown",
     "metadata": {},
     "source": [
      "We get (approximately) the same optimal lower bound"
     ]
    },
    {
     "cell_type": "code",
     "collapsed": false,
     "input": [
      "tp"
     ],
     "language": "python",
     "metadata": {},
     "outputs": [
      {
       "metadata": {},
       "output_type": "pyout",
       "prompt_number": 11,
       "text": [
        "-1.0316366568663677"
       ]
      }
     ],
     "prompt_number": 11
    },
    {
     "cell_type": "code",
     "collapsed": false,
     "input": [
      "[probp.basis yp]"
     ],
     "language": "python",
     "metadata": {},
     "outputs": [
      {
       "metadata": {},
       "output_type": "pyout",
       "prompt_number": 12,
       "text": [
        "28x2 Array{Polyopt.Poly{Float64},2}:\n",
        " 1.0      0.9999999999931132    \n",
        " x        -0.08982269257406945  \n",
        " z        0.7125044032875688    \n",
        " x^2      0.00807158984384901   \n",
        " x*z      -0.06402652431724674  \n",
        " z^2      0.5078803036240647    \n",
        " x^3      -0.0007250107853156949\n",
        " x^2*z    0.005751034247064761  \n",
        " x*z^2    -0.045619176075462654 \n",
        " z^3      0.36186695028483534   \n",
        " x^4      6.519294850180642e-5  \n",
        " x^3*z    -0.0005168102391360018\n",
        " x^2*z^2  0.004099403705616756  \n",
        " \u22ee                              \n",
        " x^4*z    4.641989437268711e-5  \n",
        " x^3*z^2  -0.0003682186943161667\n",
        " x^2*z^3  0.002920836977952177  \n",
        " x*z^4    -0.023169080930101626 \n",
        " z^5      0.18378508847340358   \n",
        " x^6      6.677183209164353e-7  \n",
        " x^5*z    -4.212332314930982e-6 \n",
        " x^4*z^2  3.570984439660883e-5  \n",
        " x^3*z^3  -0.0002610243045547927\n",
        " x^2*z^4  0.004452986063493332  \n",
        " x*z^5    -0.015139029148375923 \n",
        " z^6      2.4126744066026045    "
       ]
      }
     ],
     "prompt_number": 12
    },
    {
     "cell_type": "markdown",
     "metadata": {},
     "source": [
      "Now we have found a global minimizer, and can we verify optimality by evaluating $f(x,z)$ at that point"
     ]
    },
    {
     "cell_type": "code",
     "collapsed": false,
     "input": [
      "Polyopt.evalpoly(f, yp[2:3])"
     ],
     "language": "python",
     "metadata": {},
     "outputs": [
      {
       "metadata": {},
       "output_type": "pyout",
       "prompt_number": 13,
       "text": [
        "-1.0316282658110472"
       ]
      }
     ],
     "prompt_number": 13
    },
    {
     "cell_type": "heading",
     "level": 2,
     "metadata": {},
     "source": [
      "Inspecting problem data and validating solutions"
     ]
    },
    {
     "cell_type": "markdown",
     "metadata": {},
     "source": [
      "The monomial basis vector defining the problem stored is stored in <code>prob.basis</code>,"
     ]
    },
    {
     "cell_type": "code",
     "collapsed": false,
     "input": [
      "prob.basis"
     ],
     "language": "python",
     "metadata": {},
     "outputs": [
      {
       "metadata": {},
       "output_type": "pyout",
       "prompt_number": 14,
       "text": [
        "28-element Array{Polyopt.Poly{Int64},1}:\n",
        " 1      \n",
        " x      \n",
        " z      \n",
        " x^2    \n",
        " x*z    \n",
        " z^2    \n",
        " x^3    \n",
        " x^2*z  \n",
        " x*z^2  \n",
        " z^3    \n",
        " x^4    \n",
        " x^3*z  \n",
        " x^2*z^2\n",
        " \u22ee      \n",
        " x^4*z  \n",
        " x^3*z^2\n",
        " x^2*z^3\n",
        " x*z^4  \n",
        " z^5    \n",
        " x^6    \n",
        " x^5*z  \n",
        " x^4*z^2\n",
        " x^3*z^3\n",
        " x^2*z^4\n",
        " x*z^5  \n",
        " z^6    "
       ]
      }
     ],
     "prompt_number": 14
    },
    {
     "cell_type": "markdown",
     "metadata": {},
     "source": [
      "The coefficients for $f$ are stored in <code>prob.obj</code>,"
     ]
    },
    {
     "cell_type": "code",
     "collapsed": false,
     "input": [
      "dot(prob.obj, prob.basis)"
     ],
     "language": "python",
     "metadata": {},
     "outputs": [
      {
       "metadata": {},
       "output_type": "pyout",
       "prompt_number": 15,
       "text": [
        "4//1*x^2+x*z-4//1*z^2-21//10*x^4+4//1*z^4+1//3*x^6"
       ]
      }
     ],
     "prompt_number": 15
    },
    {
     "cell_type": "markdown",
     "metadata": {},
     "source": [
      "The lower triangular part of the symmetric matrices defining the moment matrix are stored in <code>prob.mom[1]</code> column by column,"
     ]
    },
    {
     "cell_type": "code",
     "collapsed": false,
     "input": [
      "size(prob.mom[1])"
     ],
     "language": "python",
     "metadata": {},
     "outputs": [
      {
       "metadata": {},
       "output_type": "pyout",
       "prompt_number": 16,
       "text": [
        "(100,28)"
       ]
      }
     ],
     "prompt_number": 16
    },
    {
     "cell_type": "code",
     "collapsed": false,
     "input": [
      "reshape(prob.mom[1]*prob.basis, 10, 10)"
     ],
     "language": "python",
     "metadata": {},
     "outputs": [
      {
       "metadata": {},
       "output_type": "pyout",
       "prompt_number": 17,
       "text": [
        "10x10 Array{Polyopt.Poly{Int64},2}:\n",
        " 1      0        0        0        0        \u2026  0        0        0        0  \n",
        " x      x^2      0        0        0           0        0        0        0  \n",
        " z      x*z      z^2      0        0           0        0        0        0  \n",
        " x^2    x^3      x^2*z    x^4      0           0        0        0        0  \n",
        " x*z    x^2*z    x*z^2    x^3*z    x^2*z^2     0        0        0        0  \n",
        " z^2    x*z^2    z^3      x^2*z^2  x*z^3    \u2026  0        0        0        0  \n",
        " x^3    x^4      x^3*z    x^5      x^4*z       x^6      0        0        0  \n",
        " x^2*z  x^3*z    x^2*z^2  x^4*z    x^3*z^2     x^5*z    x^4*z^2  0        0  \n",
        " x*z^2  x^2*z^2  x*z^3    x^3*z^2  x^2*z^3     x^4*z^2  x^3*z^3  x^2*z^4  0  \n",
        " z^3    x*z^3    z^4      x^2*z^3  x*z^4       x^3*z^3  x^2*z^4  x*z^5    z^6"
       ]
      }
     ],
     "prompt_number": 17
    },
    {
     "cell_type": "markdown",
     "metadata": {},
     "source": [
      "and similarly the moment matrix evaluated at <code>yp</code> is"
     ]
    },
    {
     "cell_type": "code",
     "collapsed": false,
     "input": [
      "M=reshape(prob.mom[1]*yp, 10, 10)"
     ],
     "language": "python",
     "metadata": {},
     "outputs": [
      {
       "metadata": {},
       "output_type": "pyout",
       "prompt_number": 18,
       "text": [
        "10x10 Array{Float64,2}:\n",
        "  1.0           0.0          \u2026   0.0           0.0         0.0    \n",
        " -0.0898227     0.00807159       0.0           0.0         0.0    \n",
        "  0.712504     -0.0640265        0.0           0.0         0.0    \n",
        "  0.00807159   -0.000725011      0.0           0.0         0.0    \n",
        " -0.0640265     0.00575103       0.0           0.0         0.0    \n",
        "  0.50788      -0.0456192    \u2026   0.0           0.0         0.0    \n",
        " -0.000725011   6.51929e-5       0.0           0.0         0.0    \n",
        "  0.00575103   -0.00051681       3.57098e-5    0.0         0.0    \n",
        " -0.0456192     0.0040994       -0.000261024   0.00445299  0.0    \n",
        "  0.361867     -0.0325178        0.00445299   -0.015139    2.41267"
       ]
      }
     ],
     "prompt_number": 18
    },
    {
     "cell_type": "code",
     "collapsed": false,
     "input": [
      "eigvals(M)"
     ],
     "language": "python",
     "metadata": {},
     "outputs": [
      {
       "metadata": {},
       "output_type": "pyout",
       "prompt_number": 19,
       "text": [
        "10-element Array{Float64,1}:\n",
        " 2.41267   \n",
        " 0.00445299\n",
        " 3.57098e-5\n",
        " 6.67718e-7\n",
        " 0.257942  \n",
        " 0.0040994 \n",
        " 6.51929e-5\n",
        " 0.50788   \n",
        " 0.00807159\n",
        " 1.0       "
       ]
      }
     ],
     "prompt_number": 19
    },
    {
     "cell_type": "markdown",
     "metadata": {},
     "source": [
      "The (primal) solution is a semidefinite matrix"
     ]
    },
    {
     "cell_type": "code",
     "collapsed": false,
     "input": [
      "Xp[1]"
     ],
     "language": "python",
     "metadata": {},
     "outputs": [
      {
       "metadata": {},
       "output_type": "pyout",
       "prompt_number": 20,
       "text": [
        "10x10 Array{Float64,2}:\n",
        "  1.03164      -9.36798e-7   -5.87399e-6   \u2026   1.04649e-8    3.75221e-10\n",
        " -9.36798e-7    3.7536        0.472112         0.00098592   -1.40401e-6 \n",
        " -5.87399e-6    0.472112      0.0593885        0.000124054  -1.73185e-7 \n",
        "  0.123201      5.82365e-6    4.08092e-5      -4.98383e-8    1.28061e-8 \n",
        "  0.0278875    -4.05106e-5   -3.61552e-5       3.09201e-8   -2.09948e-9 \n",
        " -2.02969       3.61448e-5   -3.62133e-10  \u2026   2.09959e-9   -1.61112e-15\n",
        " -5.82363e-6   -1.0977       -0.138053        -0.000301753   1.30698e-7 \n",
        " -2.98604e-7    0.000904117   0.000110089     -1.30698e-7   -6.38704e-7 \n",
        "  1.04649e-8    0.00098592    0.000124054      1.27853e-6    3.21526e-21\n",
        "  3.75221e-10  -1.40401e-6   -1.73185e-7       3.21526e-21   1.12626e-9 "
       ]
      }
     ],
     "prompt_number": 20
    },
    {
     "cell_type": "code",
     "collapsed": false,
     "input": [
      "eigvals(Xp[1])"
     ],
     "language": "python",
     "metadata": {},
     "outputs": [
      {
       "metadata": {},
       "output_type": "pyout",
       "prompt_number": 21,
       "text": [
        "10-element Array{Float64,1}:\n",
        " 4.23972e-10\n",
        " 1.1049e-9  \n",
        " 1.00586e-6 \n",
        " 1.11172e-5 \n",
        " 0.000597331\n",
        " 0.0113694  \n",
        " 0.0371316  \n",
        " 0.497624   \n",
        " 4.13495    \n",
        " 5.04381    "
       ]
      }
     ],
     "prompt_number": 21
    },
    {
     "cell_type": "markdown",
     "metadata": {},
     "source": [
      "If we store <code>Xp[1]</code> in vectorized form (conforming with <code>prob.mom</code>),"
     ]
    },
    {
     "cell_type": "code",
     "collapsed": false,
     "input": [
      "xp = vec(tril( 2*X[1] - diagm(diag(Xp[1])) ))"
     ],
     "language": "python",
     "metadata": {},
     "outputs": [
      {
       "metadata": {},
       "output_type": "pyout",
       "prompt_number": 22,
       "text": [
        "100-element Array{Float64,1}:\n",
        "  1.03162    \n",
        " -1.03428e-16\n",
        " -1.30191e-17\n",
        "  0.246564   \n",
        "  0.0557667  \n",
        " -4.05938    \n",
        "  2.23641e-17\n",
        "  1.72039e-19\n",
        " -2.0479e-20 \n",
        "  8.40961e-22\n",
        "  0.0        \n",
        "  3.75327    \n",
        "  0.944233   \n",
        "  \u22ee          \n",
        " -3.37017e-8 \n",
        " -6.59256e-20\n",
        "  0.0        \n",
        "  0.0        \n",
        "  0.0        \n",
        "  0.0        \n",
        "  0.0        \n",
        "  0.0        \n",
        "  0.0        \n",
        "  0.0        \n",
        "  0.0        \n",
        " -7.01915e-10"
       ]
      }
     ],
     "prompt_number": 22
    },
    {
     "cell_type": "markdown",
     "metadata": {},
     "source": [
      "then we can verify that "
     ]
    },
    {
     "cell_type": "code",
     "collapsed": false,
     "input": [
      "prob.mom[1]'*xp - (prob.obj - tp*eye(28,1))"
     ],
     "language": "python",
     "metadata": {},
     "outputs": [
      {
       "metadata": {},
       "output_type": "pyout",
       "prompt_number": 23,
       "text": [
        "28x1 Array{Float64,2}:\n",
        " -1.64062e-5 \n",
        " -1.03428e-16\n",
        " -1.30191e-17\n",
        " -0.00016133 \n",
        " -4.85814e-11\n",
        " -4.46638e-6 \n",
        " -1.40581e-16\n",
        " -2.78609e-16\n",
        "  1.41173e-16\n",
        "  2.18661e-17\n",
        " -0.000217567\n",
        "  9.22967e-12\n",
        "  0.000377272\n",
        "  \u22ee          \n",
        "  6.88873e-17\n",
        " -3.60256e-17\n",
        " -3.35084e-19\n",
        "  4.56117e-20\n",
        " -9.85248e-22\n",
        " -5.85637e-10\n",
        " -2.32495e-14\n",
        " -5.55214e-5 \n",
        "  4.87571e-17\n",
        " -6.55906e-7 \n",
        " -6.59256e-20\n",
        " -7.01915e-10"
       ]
      }
     ],
     "prompt_number": 23
    },
    {
     "cell_type": "code",
     "collapsed": false,
     "input": [],
     "language": "python",
     "metadata": {},
     "outputs": []
    }
   ],
   "metadata": {}
  }
 ]
}