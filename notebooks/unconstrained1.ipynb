{
 "metadata": {
  "name": ""
 },
 "nbformat": 3,
 "nbformat_minor": 0,
 "worksheets": [
  {
   "cells": [
    {
     "cell_type": "heading",
     "level": 1,
     "metadata": {},
     "source": [
      "Example of unconstrained mimimization"
     ]
    },
    {
     "cell_type": "heading",
     "level": 2,
     "metadata": {},
     "source": [
      "Solving a simple problem"
     ]
    },
    {
     "cell_type": "code",
     "collapsed": false,
     "input": [
      "using Polyopt\n"
     ],
     "language": "python",
     "metadata": {},
     "outputs": [],
     "prompt_number": 1
    },
    {
     "cell_type": "markdown",
     "metadata": {},
     "source": [
      "We define two variables $x$ and $z$,"
     ]
    },
    {
     "cell_type": "code",
     "collapsed": false,
     "input": [
      "x, z = variables([\"x\", \"z\"]);"
     ],
     "language": "python",
     "metadata": {},
     "outputs": [],
     "prompt_number": 2
    },
    {
     "cell_type": "markdown",
     "metadata": {},
     "source": [
      "and the function $f(x,z)=4 x^2 + xz - 4z^2 - \\frac{21}{10}x^4 + 4z^4 + \\frac{1}{3}x^6$."
     ]
    },
    {
     "cell_type": "code",
     "collapsed": false,
     "input": [
      "f = 4*x^2 + x*z - 4*z^2 - 21//10*x^4 + 4*z^4 + 1//3*x^6;"
     ],
     "language": "python",
     "metadata": {},
     "outputs": [],
     "prompt_number": 3
    },
    {
     "cell_type": "markdown",
     "metadata": {},
     "source": [
      "To minimize $f(x)$ we form a moment relaxation of order 3,"
     ]
    },
    {
     "cell_type": "code",
     "collapsed": false,
     "input": [
      "prob = momentprob(3, f);"
     ],
     "language": "python",
     "metadata": {},
     "outputs": [],
     "prompt_number": 4
    },
    {
     "cell_type": "markdown",
     "metadata": {},
     "source": [
      "and we solve it,"
     ]
    },
    {
     "cell_type": "code",
     "collapsed": false,
     "input": [
      "X, Z, t, y, solsta = solve_mosek(prob);"
     ],
     "language": "python",
     "metadata": {},
     "outputs": [
      {
       "output_type": "stream",
       "stream": "stdout",
       "text": [
        "Open file 'polyopt.task'\n",
        "Computer\n"
       ]
      },
      {
       "output_type": "stream",
       "stream": "stdout",
       "text": [
        "  Platform               : Linux/64-X86    \n",
        "  Cores                  : 20              \n",
        "\n",
        "Problem\n",
        "  Name                   :                 \n",
        "  Objective sense        : max             \n",
        "  Type                   : CONIC (conic optimization problem)\n",
        "  Constraints            : 28              \n",
        "  Cones                  : 0               \n",
        "  Scalar variables       : 1               \n",
        "  Matrix variables       : 1               \n",
        "  Integer variables      : 0               \n",
        "\n",
        "Optimizer started.\n",
        "Conic interior-point optimizer started.\n",
        "Presolve started.\n",
        "Linear dependency checker started.\n",
        "Linear dependency checker terminated.\n",
        "Eliminator - tries                  : 0                 time                   : 0.00            \n",
        "Eliminator - elim's                 : 0               \n",
        "Lin. dep.  - tries                  : 1                 time                   : 0.00            \n",
        "Lin. dep.  - number                 : 0               \n",
        "Presolve terminated. Time: 0.00    \n",
        "rnumcone: 0 0\n",
        "rnummcone: 1 numfrli: 2\n",
        "======\n",
        "nrmc: 1.000000e+00 0.000000e+00\n",
        "flops: 7.308000e+03\n",
        "flops: 7.308000e+03\n",
        "flops: 7.308000e+03\n",
        "Factor flops: 7.31e+03 (0.00e+00)\n",
        "Optimizer  - threads                : 8               \n",
        "Optimizer  - solved problem         : the primal      \n",
        "Optimizer  - Constraints            : 28\n",
        "Optimizer  - Cones                  : 1\n",
        "Optimizer  - Scalar variables       : 2                 conic                  : 2               \n",
        "Optimizer  - Semi-definite variables: 1                 scalarized             : 55              \n",
        "Factor     - setup time             : 0.00              dense det. time        : 0.00            \n",
        "Factor     - ML order time          : 0.00              GP order time          : 0.00            \n",
        "Factor     - nonzeros before factor : 406               after factor           : 406             \n",
        "Factor     - dense dim.             : 0                 flops                  : 1.73e+04        \n",
        "ITE PFEAS    DFEAS    GFEAS    PRSTATUS   POBJ              DOBJ              MU       TIME  \n",
        "0   3.0e+00  1.0e+00  1.0e+00  0.00e+00   0.000000000e+00   0.000000000e+00   1.0e+00  0.00  \n",
        "1   6.3e-01  2.1e-01  2.3e-01  -3.79e-01  -1.772682023e+00  -3.597182740e+00  2.1e-01  0.00  \n",
        "2   1.3e-01  4.2e-02  2.4e-01  1.37e+00   -1.445133299e+00  -1.346756752e+00  4.2e-02  0.00  \n",
        "3   2.4e-02  8.1e-03  1.3e-01  1.59e+00   -1.033640298e+00  -1.017400667e+00  8.1e-03  0.00  \n",
        "4   3.2e-03  1.1e-03  5.4e-02  1.43e+00   -1.031299219e+00  -1.029523896e+00  1.1e-03  0.00  \n",
        "5   4.5e-04  1.5e-04  1.9e-02  1.05e+00   -1.031662112e+00  -1.031445761e+00  1.5e-04  0.00  \n",
        "6   5.9e-05  2.0e-05  6.4e-03  9.99e-01   -1.031640197e+00  -1.031616219e+00  2.0e-05  0.00  \n",
        "7   7.5e-06  2.5e-06  2.3e-03  1.02e+00   -1.031630265e+00  -1.031627465e+00  2.5e-06  0.00  \n",
        "8   1.1e-06  3.6e-07  8.6e-04  1.03e+00   -1.031628715e+00  -1.031628328e+00  3.6e-07  0.00  \n",
        "9   1.8e-07  6.1e-08  3.5e-04  1.03e+00   -1.031628501e+00  -1.031628441e+00  6.1e-08  0.00  \n",
        "10  3.6e-08  1.2e-08  1.5e-04  1.03e+00   -1.031628465e+00  -1.031628455e+00  1.2e-08  0.00  \n",
        "11  8.9e-09  2.9e-09  7.4e-05  1.03e+00   -1.031628456e+00  -1.031628454e+00  3.0e-09  0.01  \n",
        "12  1.9e-09  1.5e-09  4.1e-05  1.00e+00   -1.031628456e+00  -1.031628455e+00  8.5e-10  0.01  \n",
        "13  3.1e-10  5.5e-09  1.7e-05  1.00e+00   -1.031628454e+00  -1.031628454e+00  1.4e-10  0.01  \n",
        "Interior-point optimizer terminated. Time: 0.01. \n",
        "\n",
        "Optimizer terminated. Time: 0.03    \n",
        "\n",
        "Interior-point solution summary\n",
        "  Problem status  : PRIMAL_AND_DUAL_FEASIBLE\n",
        "  Solution status : OPTIMAL\n",
        "  Primal.  obj: -1.0316284536e+00   Viol.  con: 5e-10    var: 0e+00    barvar: 0e+00  \n",
        "  Dual.    obj: -1.0316284535e+00   Viol.  con: 0e+00    var: 4e-12    barvar: 1e-10  \n"
       ]
      }
     ],
     "prompt_number": 5
    },
    {
     "cell_type": "markdown",
     "metadata": {},
     "source": [
      "The optimal lower bound is"
     ]
    },
    {
     "cell_type": "code",
     "collapsed": false,
     "input": [
      "t"
     ],
     "language": "python",
     "metadata": {},
     "outputs": [
      {
       "metadata": {},
       "output_type": "pyout",
       "prompt_number": 6,
       "text": [
        "-1.0316284536472202"
       ]
      }
     ],
     "prompt_number": 6
    },
    {
     "cell_type": "markdown",
     "metadata": {},
     "source": [
      "If an optimal polynomial solution is found, then $y$ corresponds to the monomial basis vector"
     ]
    },
    {
     "cell_type": "code",
     "collapsed": false,
     "input": [
      "[prob.basis y]"
     ],
     "language": "python",
     "metadata": {},
     "outputs": [
      {
       "metadata": {},
       "output_type": "pyout",
       "prompt_number": 7,
       "text": [
        "28x2 Array{Polyopt.Poly{Float64},2}:\n",
        " 1.0      1.000000000004388      \n",
        " x        -6.997099969175702e-17 \n",
        " z        5.549847546966593e-16  \n",
        " x^2      0.008071601849065477   \n",
        " x*z      -0.06402654368986652   \n",
        " z^2      0.5078792714445775     \n",
        " x^3      -5.648762674110467e-19 \n",
        " x^2*z    4.480389061318073e-18  \n",
        " x*z^2    -3.553683304442502e-17 \n",
        " z^3      2.818653532772795e-16  \n",
        " x^4      6.515805553634735e-5   \n",
        " x^3*z    -0.0005167992529581044 \n",
        " x^2*z^2  0.004099399643055172   \n",
        " \u22ee                               \n",
        " x^4*z    3.617023432318623e-20  \n",
        " x^3*z^2  -2.868893710958249e-19 \n",
        " x^2*z^3  2.2754969206911985e-18 \n",
        " x*z^4    -1.8048470386346668e-17\n",
        " z^5      1.43153648778467e-16   \n",
        " x^6      5.510518953028497e-7   \n",
        " x^5*z    -4.1781600744367224e-6 \n",
        " x^4*z^2  3.445429587530473e-5   \n",
        " x^3*z^3  -0.0002617012859429737 \n",
        " x^2*z^4  0.0035973479662905097  \n",
        " x*z^5    -0.01548709834256674   \n",
        " z^6      1.942498678481704      "
       ]
      }
     ],
     "prompt_number": 7
    },
    {
     "cell_type": "markdown",
     "metadata": {},
     "source": [
      "Because of multiple global minima of $f(x,z)$ this is not the case."
     ]
    },
    {
     "cell_type": "heading",
     "level": 2,
     "metadata": {},
     "source": [
      "Perturbing the problem to find global minimum"
     ]
    },
    {
     "cell_type": "markdown",
     "metadata": {},
     "source": [
      " We perturb $f(x,z)$ to find a global minimizer,"
     ]
    },
    {
     "cell_type": "code",
     "collapsed": false,
     "input": [
      "fp = f + 1e-4*(x+z)"
     ],
     "language": "python",
     "metadata": {},
     "outputs": [
      {
       "metadata": {},
       "output_type": "pyout",
       "prompt_number": 8,
       "text": [
        "0.0001*x+0.0001*z+4.0*x^2+x*z-4.0*z^2-2.1*x^4+4.0*z^4+0.3333333333333333*x^6"
       ]
      }
     ],
     "prompt_number": 8
    },
    {
     "cell_type": "code",
     "collapsed": false,
     "input": [
      "probp = momentprob(3, fp);"
     ],
     "language": "python",
     "metadata": {},
     "outputs": [],
     "prompt_number": 9
    },
    {
     "cell_type": "code",
     "collapsed": false,
     "input": [
      "Xp, Zp, tp, yp, solsta = solve_mosek(probp);"
     ],
     "language": "python",
     "metadata": {},
     "outputs": [
      {
       "output_type": "stream",
       "stream": "stdout",
       "text": [
        "Open file 'polyopt.task'\n",
        "Computer\n"
       ]
      },
      {
       "output_type": "stream",
       "stream": "stdout",
       "text": [
        "  Platform               : Linux/64-X86    \n",
        "  Cores                  : 20              \n",
        "\n",
        "Problem\n",
        "  Name                   :                 \n",
        "  Objective sense        : max             \n",
        "  Type                   : CONIC (conic optimization problem)\n",
        "  Constraints            : 28              \n",
        "  Cones                  : 0               \n",
        "  Scalar variables       : 1               \n",
        "  Matrix variables       : 1               \n",
        "  Integer variables      : 0               \n",
        "\n",
        "Optimizer started.\n",
        "Conic interior-point optimizer started.\n",
        "Presolve started.\n",
        "Linear dependency checker started.\n",
        "Linear dependency checker terminated.\n",
        "Eliminator - tries                  : 0                 time                   : 0.00            \n",
        "Eliminator - elim's                 : 0               \n",
        "Lin. dep.  - tries                  : 1                 time                   : 0.00            \n",
        "Lin. dep.  - number                 : 0               \n",
        "Presolve terminated. Time: 0.00    \n",
        "rnumcone: 0 0\n",
        "rnummcone: 1 numfrli: 2\n",
        "======\n",
        "nrmc: 1.000000e+00 0.000000e+00\n",
        "flops: 7.308000e+03\n",
        "flops: 7.308000e+03\n",
        "flops: 7.308000e+03\n",
        "Factor flops: 7.31e+03 (0.00e+00)\n",
        "Optimizer  - threads                : 8               \n",
        "Optimizer  - solved problem         : the primal      \n",
        "Optimizer  - Constraints            : 28\n",
        "Optimizer  - Cones                  : 1\n",
        "Optimizer  - Scalar variables       : 2                 conic                  : 2               \n",
        "Optimizer  - Semi-definite variables: 1                 scalarized             : 55              \n",
        "Factor     - setup time             : 0.00              dense det. time        : 0.00            \n",
        "Factor     - ML order time          : 0.00              GP order time          : 0.00            \n",
        "Factor     - nonzeros before factor : 406               after factor           : 406             \n",
        "Factor     - dense dim.             : 0                 flops                  : 1.73e+04        \n",
        "ITE PFEAS    DFEAS    GFEAS    PRSTATUS   POBJ              DOBJ              MU       TIME  \n",
        "0   3.0e+00  1.0e+00  1.0e+00  0.00e+00   0.000000000e+00   0.000000000e+00   1.0e+00  0.00  \n",
        "1   6.3e-01  2.1e-01  2.3e-01  -3.79e-01  -1.772682023e+00  -3.597182743e+00  2.1e-01  0.00  \n",
        "2   1.3e-01  4.2e-02  2.4e-01  1.37e+00   -1.445133303e+00  -1.346756757e+00  4.2e-02  0.00  \n",
        "3   2.4e-02  8.1e-03  1.3e-01  1.59e+00   -1.033640381e+00  -1.017400736e+00  8.1e-03  0.00  \n",
        "4   3.2e-03  1.1e-03  5.4e-02  1.43e+00   -1.031299868e+00  -1.029524835e+00  1.1e-03  0.00  \n",
        "5   4.5e-04  1.5e-04  1.9e-02  1.05e+00   -1.031664343e+00  -1.031448000e+00  1.5e-04  0.00  \n",
        "6   5.9e-05  2.0e-05  6.5e-03  9.99e-01   -1.031653825e+00  -1.031629782e+00  2.0e-05  0.00  \n",
        "7   7.5e-06  2.5e-06  2.3e-03  1.02e+00   -1.031687371e+00  -1.031684561e+00  2.5e-06  0.00  \n",
        "8   1.1e-06  3.6e-07  8.6e-04  1.03e+00   -1.031690264e+00  -1.031689880e+00  3.6e-07  0.00  \n",
        "9   1.8e-07  6.1e-08  3.5e-04  1.03e+00   -1.031690656e+00  -1.031690596e+00  6.1e-08  0.00  \n",
        "10  3.7e-08  1.2e-08  1.5e-04  1.03e+00   -1.031690720e+00  -1.031690710e+00  1.2e-08  0.00  \n",
        "11  9.5e-09  3.3e-09  8.1e-05  1.06e+00   -1.031690733e+00  -1.031690730e+00  3.3e-09  0.00  \n",
        "12  2.2e-09  1.0e-09  4.4e-05  9.95e-01   -1.031690736e+00  -1.031690736e+00  9.9e-10  0.00  \n",
        "13  4.4e-10  7.0e-10  1.7e-05  9.99e-01   -1.031690736e+00  -1.031690735e+00  1.5e-10  0.00  \n",
        "Interior-point optimizer terminated. Time: 0.01. \n",
        "\n",
        "Optimizer terminated. Time: 0.01    \n",
        "\n",
        "Interior-point solution summary\n",
        "  Problem status  : PRIMAL_AND_DUAL_FEASIBLE\n",
        "  Solution status : OPTIMAL\n",
        "  Primal.  obj: -1.0316907356e+00   Viol.  con: 6e-10    var: 0e+00    barvar: 0e+00  \n",
        "  Dual.    obj: -1.0316907355e+00   Viol.  con: 0e+00    var: 4e-12    barvar: 2e-10  \n"
       ]
      }
     ],
     "prompt_number": 10
    },
    {
     "cell_type": "markdown",
     "metadata": {},
     "source": [
      "We get (approximately) the same optimal lower bound"
     ]
    },
    {
     "cell_type": "code",
     "collapsed": false,
     "input": [
      "tp"
     ],
     "language": "python",
     "metadata": {},
     "outputs": [
      {
       "metadata": {},
       "output_type": "pyout",
       "prompt_number": 11,
       "text": [
        "-1.0316907355809783"
       ]
      }
     ],
     "prompt_number": 11
    },
    {
     "cell_type": "code",
     "collapsed": false,
     "input": [
      "[probp.basis yp]"
     ],
     "language": "python",
     "metadata": {},
     "outputs": [
      {
       "metadata": {},
       "output_type": "pyout",
       "prompt_number": 12,
       "text": [
        "28x2 Array{Polyopt.Poly{Float64},2}:\n",
        " 1.0      1.0000000000041598    \n",
        " x        0.08982946954088881   \n",
        " z        -0.7126581662208067   \n",
        " x^2      0.008069418398607073  \n",
        " x*z      -0.06401836085923991  \n",
        " z^2      0.5078868566915041    \n",
        " x^3      0.0007248713722239313 \n",
        " x^2*z    -0.005750735300990493 \n",
        " x*z^2    0.045623206892459474  \n",
        " z^3      -0.3619497156919179   \n",
        " x^4      6.512317056314525e-5  \n",
        " x^3*z    -0.0005165935466372649\n",
        " x^2*z^2  0.004098351940546461  \n",
        " \u22ee                              \n",
        " x^4*z    -4.640507532510359e-5 \n",
        " x^3*z^2  0.0003681526423081197 \n",
        " x^2*z^3  -0.002920722872448896 \n",
        " x*z^4    0.02317142714907657   \n",
        " z^5      -0.18382950618493943  \n",
        " x^6      5.519776206762691e-7  \n",
        " x^5*z    -4.175472063935965e-6 \n",
        " x^4*z^2  3.454534377264772e-5  \n",
        " x^3*z^3  -0.0002614298490318489\n",
        " x^2*z^4  0.0036707546060880144 \n",
        " x*z^5    -0.01537887590351591  \n",
        " z^6      1.9826424600902461    "
       ]
      }
     ],
     "prompt_number": 12
    },
    {
     "cell_type": "markdown",
     "metadata": {},
     "source": [
      "Now we have found a global minimizer, and can we verify optimality by evaluating $f(x,z)$ at that point"
     ]
    },
    {
     "cell_type": "code",
     "collapsed": false,
     "input": [
      "Polyopt.evalpoly(f, yp[2:3])"
     ],
     "language": "python",
     "metadata": {},
     "outputs": [
      {
       "metadata": {},
       "output_type": "pyout",
       "prompt_number": 13,
       "text": [
        "-1.0316284528288873"
       ]
      }
     ],
     "prompt_number": 13
    },
    {
     "cell_type": "heading",
     "level": 2,
     "metadata": {},
     "source": [
      "Inspecting problem data and validating solutions"
     ]
    },
    {
     "cell_type": "markdown",
     "metadata": {},
     "source": [
      "The monomial basis vector defining the problem stored is stored in <code>prob.basis</code>,"
     ]
    },
    {
     "cell_type": "code",
     "collapsed": false,
     "input": [
      "prob.basis"
     ],
     "language": "python",
     "metadata": {},
     "outputs": [
      {
       "metadata": {},
       "output_type": "pyout",
       "prompt_number": 14,
       "text": [
        "28-element Array{Polyopt.Poly{Int64},1}:\n",
        " 1      \n",
        " x      \n",
        " z      \n",
        " x^2    \n",
        " x*z    \n",
        " z^2    \n",
        " x^3    \n",
        " x^2*z  \n",
        " x*z^2  \n",
        " z^3    \n",
        " x^4    \n",
        " x^3*z  \n",
        " x^2*z^2\n",
        " \u22ee      \n",
        " x^4*z  \n",
        " x^3*z^2\n",
        " x^2*z^3\n",
        " x*z^4  \n",
        " z^5    \n",
        " x^6    \n",
        " x^5*z  \n",
        " x^4*z^2\n",
        " x^3*z^3\n",
        " x^2*z^4\n",
        " x*z^5  \n",
        " z^6    "
       ]
      }
     ],
     "prompt_number": 14
    },
    {
     "cell_type": "markdown",
     "metadata": {},
     "source": [
      "The coefficients for $f$ are stored in <code>prob.obj</code>,"
     ]
    },
    {
     "cell_type": "code",
     "collapsed": false,
     "input": [
      "dot(prob.obj, prob.basis)"
     ],
     "language": "python",
     "metadata": {},
     "outputs": [
      {
       "metadata": {},
       "output_type": "pyout",
       "prompt_number": 15,
       "text": [
        "4//1*x^2+x*z-4//1*z^2-21//10*x^4+4//1*z^4+1//3*x^6"
       ]
      }
     ],
     "prompt_number": 15
    },
    {
     "cell_type": "markdown",
     "metadata": {},
     "source": [
      "The lower triangular part of the symmetric matrices defining the moment matrix are stored in <code>prob.mom[1]</code> column by column,"
     ]
    },
    {
     "cell_type": "code",
     "collapsed": false,
     "input": [
      "size(prob.mom[1])"
     ],
     "language": "python",
     "metadata": {},
     "outputs": [
      {
       "metadata": {},
       "output_type": "pyout",
       "prompt_number": 16,
       "text": [
        "(100,28)"
       ]
      }
     ],
     "prompt_number": 16
    },
    {
     "cell_type": "code",
     "collapsed": false,
     "input": [
      "reshape(prob.mom[1]*prob.basis, 10, 10)"
     ],
     "language": "python",
     "metadata": {},
     "outputs": [
      {
       "metadata": {},
       "output_type": "pyout",
       "prompt_number": 17,
       "text": [
        "10x10 Array{Polyopt.Poly{Int64},2}:\n",
        " 1      0        0        0        0        \u2026  0        0        0        0  \n",
        " x      x^2      0        0        0           0        0        0        0  \n",
        " z      x*z      z^2      0        0           0        0        0        0  \n",
        " x^2    x^3      x^2*z    x^4      0           0        0        0        0  \n",
        " x*z    x^2*z    x*z^2    x^3*z    x^2*z^2     0        0        0        0  \n",
        " z^2    x*z^2    z^3      x^2*z^2  x*z^3    \u2026  0        0        0        0  \n",
        " x^3    x^4      x^3*z    x^5      x^4*z       x^6      0        0        0  \n",
        " x^2*z  x^3*z    x^2*z^2  x^4*z    x^3*z^2     x^5*z    x^4*z^2  0        0  \n",
        " x*z^2  x^2*z^2  x*z^3    x^3*z^2  x^2*z^3     x^4*z^2  x^3*z^3  x^2*z^4  0  \n",
        " z^3    x*z^3    z^4      x^2*z^3  x*z^4       x^3*z^3  x^2*z^4  x*z^5    z^6"
       ]
      }
     ],
     "prompt_number": 17
    },
    {
     "cell_type": "markdown",
     "metadata": {},
     "source": [
      "and similarly the moment matrix evaluated at <code>yp</code> is"
     ]
    },
    {
     "cell_type": "code",
     "collapsed": false,
     "input": [
      "M=reshape(prob.mom[1]*yp, 10, 10)"
     ],
     "language": "python",
     "metadata": {},
     "outputs": [
      {
       "metadata": {},
       "output_type": "pyout",
       "prompt_number": 18,
       "text": [
        "10x10 Array{Float64,2}:\n",
        "  1.0           0.0          \u2026   0.0          0.0         0.0    \n",
        "  0.0898295     0.00806942       0.0          0.0         0.0    \n",
        " -0.712658     -0.0640184        0.0          0.0         0.0    \n",
        "  0.00806942    0.000724871      0.0          0.0         0.0    \n",
        " -0.0640184    -0.00575074       0.0          0.0         0.0    \n",
        "  0.507887      0.0456232    \u2026   0.0          0.0         0.0    \n",
        "  0.000724871   6.51232e-5       0.0          0.0         0.0    \n",
        " -0.00575074   -0.000516594      3.45453e-5   0.0         0.0    \n",
        "  0.0456232     0.00409835      -0.00026143   0.00367075  0.0    \n",
        " -0.36195      -0.0325141        0.00367075  -0.0153789   1.98264"
       ]
      }
     ],
     "prompt_number": 18
    },
    {
     "cell_type": "code",
     "collapsed": false,
     "input": [
      "eigvals(Symmetric(M,:L))"
     ],
     "language": "python",
     "metadata": {},
     "outputs": [
      {
       "metadata": {},
       "output_type": "pyout",
       "prompt_number": 19,
       "text": [
        "10-element Array{Float64,1}:\n",
        " -1.53538e-10\n",
        " -1.25904e-10\n",
        "  4.67425e-10\n",
        "  8.60225e-9 \n",
        "  2.64828e-8 \n",
        "  1.10728e-7 \n",
        "  3.7465e-6  \n",
        "  0.0015867  \n",
        "  1.38802    \n",
        "  2.3748     "
       ]
      }
     ],
     "prompt_number": 19
    },
    {
     "cell_type": "markdown",
     "metadata": {},
     "source": [
      "The (primal) solution is a semidefinite matrix"
     ]
    },
    {
     "cell_type": "code",
     "collapsed": false,
     "input": [
      "Xp[1]"
     ],
     "language": "python",
     "metadata": {},
     "outputs": [
      {
       "metadata": {},
       "output_type": "pyout",
       "prompt_number": 20,
       "text": [
        "10x10 Array{Float64,2}:\n",
        "  1.03169       5.0e-5        5.0e-5       \u2026  -1.52791e-8   -5.70029e-10\n",
        "  5.0e-5        3.75349       0.472064         0.000900119  -2.27431e-7 \n",
        "  5.0e-5        0.472064      0.0594312        0.000113208  -2.63689e-8 \n",
        "  0.123254     -4.05782e-6   -0.000137965      7.10813e-8   -1.49138e-8 \n",
        "  0.0279364     0.000137399   7.22438e-5      -3.27856e-8   -1.03144e-8 \n",
        " -2.02972      -7.22286e-5    5.62719e-10  \u2026   1.03143e-8    6.00349e-16\n",
        "  4.0578e-6    -1.09785      -0.13806         -0.000274592  -4.3668e-8  \n",
        "  5.65932e-7    0.00067033    8.03953e-5       4.3668e-8    -3.09292e-7 \n",
        " -1.52791e-8    0.000900119   0.000113208      6.18804e-7   -2.89773e-20\n",
        " -5.70029e-10  -2.27431e-7   -2.63689e-8      -2.89773e-20   2.19246e-10"
       ]
      }
     ],
     "prompt_number": 20
    },
    {
     "cell_type": "code",
     "collapsed": false,
     "input": [
      "eigvals(Xp[1])"
     ],
     "language": "python",
     "metadata": {},
     "outputs": [
      {
       "metadata": {},
       "output_type": "pyout",
       "prompt_number": 21,
       "text": [
        "10-element Array{Float64,1}:\n",
        " 4.40717e-11\n",
        " 1.90889e-10\n",
        " 3.92923e-7 \n",
        " 8.41972e-5 \n",
        " 0.000545798\n",
        " 0.0112803  \n",
        " 0.0372988  \n",
        " 0.498385   \n",
        " 4.13492    \n",
        " 5.04386    "
       ]
      }
     ],
     "prompt_number": 21
    },
    {
     "cell_type": "markdown",
     "metadata": {},
     "source": [
      "If we store <code>Xp[1]</code> in vectorized form (conforming with <code>prob.mom</code>),"
     ]
    },
    {
     "cell_type": "code",
     "collapsed": false,
     "input": [
      "xp = vec(tril( 2*X[1] - diagm(diag(Xp[1])) ))"
     ],
     "language": "python",
     "metadata": {},
     "outputs": [
      {
       "metadata": {},
       "output_type": "pyout",
       "prompt_number": 22,
       "text": [
        "100-element Array{Float64,1}:\n",
        "  1.03157    \n",
        " -1.03428e-16\n",
        " -1.30191e-17\n",
        "  0.246564   \n",
        "  0.0557667  \n",
        " -4.05938    \n",
        "  2.23641e-17\n",
        "  1.72039e-19\n",
        " -2.0479e-20 \n",
        "  8.40961e-22\n",
        "  0.0        \n",
        "  3.75338    \n",
        "  0.944233   \n",
        "  \u22ee          \n",
        "  6.26029e-7 \n",
        " -6.59256e-20\n",
        "  0.0        \n",
        "  0.0        \n",
        "  0.0        \n",
        "  0.0        \n",
        "  0.0        \n",
        "  0.0        \n",
        "  0.0        \n",
        "  0.0        \n",
        "  0.0        \n",
        "  2.05097e-10"
       ]
      }
     ],
     "prompt_number": 22
    },
    {
     "cell_type": "markdown",
     "metadata": {},
     "source": [
      "then we can verify that "
     ]
    },
    {
     "cell_type": "code",
     "collapsed": false,
     "input": [
      "prob.mom[1]'*xp - (prob.obj - tp*eye(28,1))"
     ],
     "language": "python",
     "metadata": {},
     "outputs": [
      {
       "metadata": {},
       "output_type": "pyout",
       "prompt_number": 23,
       "text": [
        "28x1 Array{Float64,2}:\n",
        " -0.000124563\n",
        " -1.03428e-16\n",
        " -1.30191e-17\n",
        " -5.65758e-5 \n",
        " -4.85814e-11\n",
        " -4.70834e-5 \n",
        " -1.40581e-16\n",
        " -2.78609e-16\n",
        "  1.41173e-16\n",
        "  2.18661e-17\n",
        " -0.00050709 \n",
        "  9.22967e-12\n",
        " -0.00027938 \n",
        "  \u22ee          \n",
        "  6.88873e-17\n",
        " -3.60256e-17\n",
        " -3.35084e-19\n",
        "  4.56117e-20\n",
        " -9.85248e-22\n",
        "  1.72642e-10\n",
        " -2.32495e-14\n",
        " -1.19864e-6 \n",
        "  4.87571e-17\n",
        "  3.82494e-9 \n",
        " -6.59256e-20\n",
        "  2.05097e-10"
       ]
      }
     ],
     "prompt_number": 23
    },
    {
     "cell_type": "code",
     "collapsed": false,
     "input": [],
     "language": "python",
     "metadata": {},
     "outputs": []
    }
   ],
   "metadata": {}
  }
 ]
}