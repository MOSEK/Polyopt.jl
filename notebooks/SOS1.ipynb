{
 "metadata": {
  "name": ""
 },
 "nbformat": 3,
 "nbformat_minor": 0,
 "worksheets": [
  {
   "cells": [
    {
     "cell_type": "heading",
     "level": 1,
     "metadata": {},
     "source": [
      "Sums of squares certicates"
     ]
    },
    {
     "cell_type": "markdown",
     "metadata": {},
     "source": [
      "We examime whether $f(x,z) = 2 x^4 + 2 x^3 z - x^2 z^2 + 5 z^4$ can be written as a sum of squares."
     ]
    },
    {
     "cell_type": "code",
     "collapsed": false,
     "input": [
      "using Polyopt"
     ],
     "language": "python",
     "metadata": {},
     "outputs": [],
     "prompt_number": 1
    },
    {
     "cell_type": "code",
     "collapsed": false,
     "input": [
      "x, z = variables([\"x\", \"z\"]);"
     ],
     "language": "python",
     "metadata": {},
     "outputs": [],
     "prompt_number": 2
    },
    {
     "cell_type": "code",
     "collapsed": false,
     "input": [
      "f = 2*x^4 + 2*x^3*z - x^2*z^2 + 5*z^4;"
     ],
     "language": "python",
     "metadata": {},
     "outputs": [],
     "prompt_number": 3
    },
    {
     "cell_type": "markdown",
     "metadata": {},
     "source": [
      "The degree of $f$ is 4, so we need a second order relaxation,"
     ]
    },
    {
     "cell_type": "code",
     "collapsed": false,
     "input": [
      "prob = momentprob(2, f);"
     ],
     "language": "python",
     "metadata": {},
     "outputs": [],
     "prompt_number": 4
    },
    {
     "cell_type": "markdown",
     "metadata": {},
     "source": [
      "We solve the problem,"
     ]
    },
    {
     "cell_type": "code",
     "collapsed": false,
     "input": [
      "X, Z, t, y, solsta = solve_mosek(prob);"
     ],
     "language": "python",
     "metadata": {},
     "outputs": [
      {
       "output_type": "stream",
       "stream": "stdout",
       "text": [
        "Open file 'polyopt.task'\n",
        "Computer\n"
       ]
      },
      {
       "output_type": "stream",
       "stream": "stdout",
       "text": [
        "  Platform               : Linux/64-X86    \n",
        "  Cores                  : 20              \n",
        "\n",
        "Problem\n",
        "  Name                   :                 \n",
        "  Objective sense        : max             \n",
        "  Type                   : CONIC (conic optimization problem)\n",
        "  Constraints            : 15              \n",
        "  Cones                  : 0               \n",
        "  Scalar variables       : 1               \n",
        "  Matrix variables       : 1               \n",
        "  Integer variables      : 0               \n",
        "\n",
        "Optimizer started.\n",
        "Conic interior-point optimizer started.\n",
        "Presolve started.\n",
        "Linear dependency checker started.\n",
        "Linear dependency checker terminated.\n",
        "Eliminator - tries                  : 0                 time                   : 0.00            \n",
        "Eliminator - elim's                 : 0               \n",
        "Lin. dep.  - tries                  : 1                 time                   : 0.00            \n",
        "Lin. dep.  - number                 : 0               \n",
        "Presolve terminated. Time: 0.00    \n",
        "rnumcone: 0 0\n",
        "rnummcone: 1 numfrli: 2\n",
        "======\n",
        "nrmc: 1.000000e+00 0.000000e+00\n",
        "flops: 1.120000e+03\n",
        "flops: 1.120000e+03\n",
        "flops: 1.120000e+03\n",
        "Factor flops: 1.12e+03 (0.00e+00)\n",
        "Optimizer  - threads                : 8               \n",
        "Optimizer  - solved problem         : the primal      \n",
        "Optimizer  - Constraints            : 15\n",
        "Optimizer  - Cones                  : 1\n",
        "Optimizer  - Scalar variables       : 2                 conic                  : 2               \n",
        "Optimizer  - Semi-definite variables: 1                 scalarized             : 21              \n",
        "Factor     - setup time             : 0.00              dense det. time        : 0.00            \n",
        "Factor     - ML order time          : 0.00              GP order time          : 0.00            \n",
        "Factor     - nonzeros before factor : 120               after factor           : 120             \n",
        "Factor     - dense dim.             : 0                 flops                  : 3.10e+03        \n",
        "ITE PFEAS    DFEAS    GFEAS    PRSTATUS   POBJ              DOBJ              MU       TIME  \n",
        "0   1.5e+00  1.0e+00  1.0e+00  0.00e+00   0.000000000e+00   0.000000000e+00   1.0e+00  0.00  \n",
        "1   3.1e-01  2.1e-01  3.7e-01  2.33e-02   -1.056985241e+00  -1.198994361e+00  2.1e-01  0.00  \n",
        "2   5.8e-02  3.8e-02  2.3e-01  1.55e+00   -8.359333125e-02  -5.057825847e-02  3.8e-02  0.00  \n",
        "3   1.2e-02  7.8e-03  1.1e-01  1.17e+00   -3.081228563e-02  -2.447346289e-02  7.8e-03  0.00  \n",
        "4   2.8e-03  1.9e-03  5.3e-02  1.09e+00   -6.266733278e-03  -4.923378331e-03  1.9e-03  0.00  \n",
        "5   8.2e-04  5.4e-04  2.8e-02  1.04e+00   -2.728768959e-03  -2.389405363e-03  5.4e-04  0.00  \n",
        "6   3.0e-04  2.0e-04  1.8e-02  1.05e+00   -2.873706023e-04  -1.554517993e-04  2.0e-04  0.00  \n",
        "7   7.6e-05  5.1e-05  8.7e-03  1.00e+00   -3.200709212e-04  -2.912119718e-04  5.1e-05  0.00  \n",
        "8   1.6e-05  1.1e-05  4.1e-03  1.01e+00   -2.615638049e-05  -1.910262187e-05  1.1e-05  0.00  \n",
        "9   3.2e-06  2.1e-06  1.8e-03  1.00e+00   -9.387786501e-06  -8.091193782e-06  2.1e-06  0.00  \n",
        "10  8.2e-07  5.4e-07  9.2e-04  1.00e+00   -1.571764301e-06  -1.232789015e-06  5.4e-07  0.00  \n",
        "11  2.3e-07  1.5e-07  4.8e-04  9.94e-01   -8.508596163e-07  -7.612496935e-07  1.5e-07  0.00  \n",
        "12  7.6e-08  5.1e-08  2.8e-04  1.02e+00   -8.022144734e-08  -4.798783316e-08  5.1e-08  0.00  \n",
        "13  1.8e-08  1.2e-08  1.3e-04  9.96e-01   -6.967776405e-08  -6.290656461e-08  1.2e-08  0.00  \n",
        "14  3.9e-09  2.6e-09  6.4e-05  1.00e+00   -6.785510239e-09  -5.126086700e-09  2.6e-09  0.00  \n",
        "15  8.5e-10  5.7e-10  3.0e-05  1.00e+00   -2.744113176e-09  -2.393426955e-09  5.7e-10  0.00  \n",
        "Interior-point optimizer terminated. Time: 0.00. \n",
        "\n",
        "Optimizer terminated. Time: 0.02    \n",
        "\n",
        "Interior-point solution summary\n",
        "  Problem status  : PRIMAL_AND_DUAL_FEASIBLE\n",
        "  Solution status : OPTIMAL\n",
        "  Primal.  obj: -2.7441131756e-09   Viol.  con: 1e-09    var: 0e+00    barvar: 0e+00  \n",
        "  Dual.    obj: -2.3934269555e-09   Viol.  con: 0e+00    var: 5e-10    barvar: 8e-10  \n"
       ]
      }
     ],
     "prompt_number": 5
    },
    {
     "cell_type": "markdown",
     "metadata": {},
     "source": [
      "Since $t$ is zero, we have a sum-of-squares certificate"
     ]
    },
    {
     "cell_type": "code",
     "collapsed": false,
     "input": [
      "t"
     ],
     "language": "python",
     "metadata": {},
     "outputs": [
      {
       "metadata": {},
       "output_type": "pyout",
       "prompt_number": 6,
       "text": [
        "-2.7441131755846803e-9"
       ]
      }
     ],
     "prompt_number": 6
    },
    {
     "cell_type": "code",
     "collapsed": false,
     "input": [
      "X[1]"
     ],
     "language": "python",
     "metadata": {},
     "outputs": [
      {
       "metadata": {},
       "output_type": "pyout",
       "prompt_number": 7,
       "text": [
        "6x6 Array{Float64,2}:\n",
        "  3.5748e-9    -1.17357e-22  -3.47853e-23  \u2026  -2.69485e-5   -6.75613e-5 \n",
        " -1.17357e-22   8.12634e-5    2.69485e-5       2.05174e-18   7.45146e-18\n",
        " -3.47853e-23   2.69485e-5    0.000135123     -6.30832e-18  -1.28392e-19\n",
        " -4.06312e-5    1.44371e-18   6.58806e-19      1.0          -1.16006    \n",
        " -2.69485e-5    2.05174e-18  -6.30832e-18      1.32012       1.05737e-15\n",
        " -6.75613e-5    7.45146e-18  -1.28392e-19  \u2026   1.05737e-15   5.0        "
       ]
      }
     ],
     "prompt_number": 7
    },
    {
     "cell_type": "markdown",
     "metadata": {},
     "source": [
      "To verify the sum-of-squares certificate, we compute a monomial vector"
     ]
    },
    {
     "cell_type": "code",
     "collapsed": false,
     "input": [
      "v = monomials(2, [x, z])"
     ],
     "language": "python",
     "metadata": {},
     "outputs": [
      {
       "metadata": {},
       "output_type": "pyout",
       "prompt_number": 8,
       "text": [
        "6-element Array{Polyopt.Poly{Int64},1}:\n",
        " 1  \n",
        " x  \n",
        " z  \n",
        " x^2\n",
        " x*z\n",
        " z^2"
       ]
      }
     ],
     "prompt_number": 8
    },
    {
     "cell_type": "code",
     "collapsed": false,
     "input": [
      "u = chol(X[1])*v"
     ],
     "language": "python",
     "metadata": {},
     "outputs": [
      {
       "metadata": {},
       "output_type": "pyout",
       "prompt_number": 9,
       "text": [
        "6-element Array{Polyopt.Poly{Float64},1}:\n",
        " 5.978962622658172e-5-1.9628357385631057e-18*x-5.817944470744686e-19*z-0.6795700996866398*x^2-0.4507217856447296*x*z-1.1299832335994617*z^2\n",
        " 0.009014621341896588*x+0.0029894197519566863*z+1.2183299176888203e-17*x^2+1.2946149119155642e-16*x*z+5.8055532715815005e-16*z^2           \n",
        " 0.011233291295643039*z+2.020913715452732e-17*x^2-6.193694765069122e-16*x*z-2.244519140970537e-16*z^2                                      \n",
        " 1.2402356548704312*x^2+0.559331565753306*x*z-1.5545119493406843*z^2                                                                       \n",
        " 0.8967244428771833*x*z+0.4016613405281354*z^2                                                                                             \n",
        " 1.0701862722424218*z^2                                                                                                                    "
       ]
      }
     ],
     "prompt_number": 9
    },
    {
     "cell_type": "markdown",
     "metadata": {},
     "source": [
      "or discarding monomial terms with small coeffients,"
     ]
    },
    {
     "cell_type": "code",
     "collapsed": false,
     "input": [
      "u = [truncate(ui, 1e-8) for ui=u ]"
     ],
     "language": "python",
     "metadata": {},
     "outputs": [
      {
       "metadata": {},
       "output_type": "pyout",
       "prompt_number": 10,
       "text": [
        "6-element Array{Polyopt.Poly{T<:Number},1}:\n",
        " 5.978962622658172e-5-0.6795700996866398*x^2-0.4507217856447296*x*z-1.1299832335994617*z^2\n",
        " 0.009014621341896588*x+0.0029894197519566863*z                                           \n",
        " 0.011233291295643039*z                                                                   \n",
        " 1.2402356548704312*x^2+0.559331565753306*x*z-1.5545119493406843*z^2                      \n",
        " 0.8967244428771833*x*z+0.4016613405281354*z^2                                            \n",
        " 1.0701862722424218*z^2                                                                   "
       ]
      }
     ],
     "prompt_number": 10
    },
    {
     "cell_type": "markdown",
     "metadata": {},
     "source": [
      "and the sum-of-squares term can be evaluated to "
     ]
    },
    {
     "cell_type": "code",
     "collapsed": false,
     "input": [
      "truncate( dot(u, u), 1e-8 )"
     ],
     "language": "python",
     "metadata": {},
     "outputs": [
      {
       "metadata": {},
       "output_type": "pyout",
       "prompt_number": 11,
       "text": [
        "1.999999999999997*x^4+1.9999999990865687*x^3*z-0.999999998629859*x^2*z^2+4.9999999986298596*z^4"
       ]
      }
     ],
     "prompt_number": 11
    }
   ],
   "metadata": {}
  }
 ]
}