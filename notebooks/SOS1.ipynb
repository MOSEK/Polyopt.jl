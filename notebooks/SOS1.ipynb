{
 "metadata": {
  "name": ""
 },
 "nbformat": 3,
 "nbformat_minor": 0,
 "worksheets": [
  {
   "cells": [
    {
     "cell_type": "heading",
     "level": 1,
     "metadata": {},
     "source": [
      "Sums of squares certicates"
     ]
    },
    {
     "cell_type": "markdown",
     "metadata": {},
     "source": [
      "We examime whether $f(x,z) = 2 x^4 + 2 x^3 z - x^2 z^2 + 5 z^4$ can be written as a sum of squares."
     ]
    },
    {
     "cell_type": "code",
     "collapsed": false,
     "input": [
      "using Polyopt"
     ],
     "language": "python",
     "metadata": {},
     "outputs": [
      {
       "output_type": "stream",
       "stream": "stderr",
       "text": [
        "Warning: New definition \n",
        "    convert(Type"
       ]
      },
      {
       "output_type": "stream",
       "stream": "stderr",
       "text": [
        "{Polyopt.Poly{S<:Number}},T<:Number) at /home/joachim/.julia/v0.4/Polyopt/src/polynomial.jl:135\n",
        "is ambiguous with: \n",
        "    convert(Type{T},T) at base.jl:40.\n",
        "To fix, define \n",
        "    convert(Type{Polyopt.Poly{S<:Number}},_<:Polyopt.Poly{S<:Number})\n",
        "before the new definition.\n",
        "WARNING: dlopen_e is deprecated, use Libdl.dlopen_e instead."
       ]
      },
      {
       "output_type": "stream",
       "stream": "stderr",
       "text": [
        "\n",
        " in depwarn at ./deprecated.jl:40\n",
        " in dlopen_e at deprecated.jl:10\n",
        " in anonymous at /home/joachim/.julia/v0.4/Mosek/src/../deps/deps.jl:4\n",
        " in include at ./boot.jl:250\n",
        " in include_from_node1 at ./loading.jl:129\n",
        " in include at ./boot.jl:250\n",
        " in include_from_node1 at ./loading.jl:129\n",
        " in reload_path at ./loading.jl:153\n",
        " in _require at ./loading.jl:68\n",
        " in require at ./loading.jl:54\n",
        " in include at ./boot.jl:250\n",
        " in include_from_node1 at ./loading.jl:129\n",
        " in include at ./boot.jl:250\n",
        " in include_from_node1 at ./loading.jl:129\n",
        " in reload_path at ./loading.jl:153\n",
        " in _require at ./loading.jl:68\n",
        " in require at ./loading.jl:51\n",
        " in include_string at loading.jl:98\n",
        " in execute_request_0x535c5df2 at /home/joachim/.julia/v0.4/IJulia/src/execute_request.jl:157\n",
        " in eventloop at /home/joachim/.julia/v0.4/IJulia/src/IJulia.jl:123\n",
        " in anonymous at task.jl:361\n",
        "WARNING: int32(x) is deprecated, use Int32(x) instead."
       ]
      },
      {
       "output_type": "stream",
       "stream": "stderr",
       "text": [
        "\n",
        " in depwarn at ./deprecated.jl:40\n",
        " in int32 at deprecated.jl:29\n",
        " in include at ./boot.jl:250\n",
        " in include_from_node1 at ./loading.jl:129\n",
        " in include at ./boot.jl:250\n",
        " in include_from_node1 at ./loading.jl:129\n",
        " in reload_path at ./loading.jl:153\n",
        " in _require at ./loading.jl:68\n",
        " in require at ./loading.jl:54\n",
        " in include at ./boot.jl:250\n",
        " in include_from_node1 at ./loading.jl:129\n",
        " in include at ./boot.jl:250\n",
        " in include_from_node1 at ./loading.jl:129\n",
        " in reload_path at ./loading.jl:153\n",
        " in _require at ./loading.jl:68\n",
        " in require at ./loading.jl:51\n",
        " in include_string at loading.jl:98\n",
        " in execute_request_0x535c5df2 at /home/joachim/.julia/v0.4/IJulia/src/execute_request.jl:157\n",
        " in eventloop at /home/joachim/.julia/v0.4/IJulia/src/IJulia.jl:123\n",
        " in anonymous at task.jl:361\n",
        "WARNING: int8(x) is deprecated, use Int8(x) instead."
       ]
      },
      {
       "output_type": "stream",
       "stream": "stderr",
       "text": [
        "\n",
        " in depwarn at ./deprecated.jl:40\n",
        " in int8 at deprecated.jl:29\n",
        " in include at ./boot.jl:250\n",
        " in include_from_node1 at ./loading.jl:129\n",
        " in include at ./boot.jl:250\n",
        " in include_from_node1 at ./loading.jl:129\n",
        " in reload_path at ./loading.jl:153\n",
        " in _require at ./loading.jl:68\n",
        " in require at ./loading.jl:54\n",
        " in include at ./boot.jl:250\n",
        " in include_from_node1 at ./loading.jl:129\n",
        " in include at ./boot.jl:250\n",
        " in include_from_node1 at ./loading.jl:129\n",
        " in reload_path at ./loading.jl:153\n",
        " in _require at ./loading.jl:68\n",
        " in require at ./loading.jl:51\n",
        " in include_string at loading.jl:98\n",
        " in execute_request_0x535c5df2 at /home/joachim/.julia/v0.4/IJulia/src/execute_request.jl:157\n",
        " in eventloop at /home/joachim/.julia/v0.4/IJulia/src/IJulia.jl:123\n",
        " in anonymous at task.jl:361\n"
       ]
      }
     ],
     "prompt_number": 1
    },
    {
     "cell_type": "code",
     "collapsed": false,
     "input": [
      "x, z = variables([\"x\", \"z\"])"
     ],
     "language": "python",
     "metadata": {},
     "outputs": [
      {
       "metadata": {},
       "output_type": "pyout",
       "prompt_number": 2,
       "text": [
        "2-element Array{Polyopt.Poly{Int64},1}:\n",
        " x\n",
        " z"
       ]
      }
     ],
     "prompt_number": 2
    },
    {
     "cell_type": "code",
     "collapsed": false,
     "input": [
      "f = 2*x^4 + 2*x^3*z - x^2*z^2 + 5*z^4"
     ],
     "language": "python",
     "metadata": {},
     "outputs": [
      {
       "metadata": {},
       "output_type": "pyout",
       "prompt_number": 3,
       "text": [
        "2*x^4+2*x^3*z-x^2*z^2+5*z^4"
       ]
      }
     ],
     "prompt_number": 3
    },
    {
     "cell_type": "markdown",
     "metadata": {},
     "source": [
      "The degree of $f$ is 4, so we need a second order relaxation,"
     ]
    },
    {
     "cell_type": "code",
     "collapsed": false,
     "input": [
      "prob = momentprob(2, f);"
     ],
     "language": "python",
     "metadata": {},
     "outputs": [
      {
       "output_type": "stream",
       "stream": "stderr",
       "text": [
        "WARNING: [a] concatenation is deprecated; use [a;] instead\n"
       ]
      },
      {
       "output_type": "stream",
       "stream": "stderr",
       "text": [
        " in depwarn at ./deprecated.jl:40\n",
        " in oldstyle_vcat_warning at ./abstractarray.jl:26\n",
        " in indexmap at /home/joachim/.julia/v0.4/Polyopt/src/Polyopt.jl:91\n",
        " in momentprob at /home/joachim/.julia/v0.4/Polyopt/src/Polyopt.jl:142\n",
        " in momentprob at /home/joachim/.julia/v0.4/Polyopt/src/Polyopt.jl:173\n",
        " in include_string at loading.jl:98\n",
        " in execute_request_0x535c5df2 at /home/joachim/.julia/v0.4/IJulia/src/execute_request.jl:157\n",
        " in eventloop at /home/joachim/.julia/v0.4/IJulia/src/IJulia.jl:123\n",
        " in anonymous at task.jl:361\n"
       ]
      }
     ],
     "prompt_number": 4
    },
    {
     "cell_type": "code",
     "collapsed": false,
     "input": [
      "X, t, y, solsta = solve_mosek(prob);"
     ],
     "language": "python",
     "metadata": {},
     "outputs": [
      {
       "output_type": "stream",
       "stream": "stderr",
       "text": [
        "WARNING: int32(x) is deprecated, use Int32(x) instead."
       ]
      },
      {
       "output_type": "stream",
       "stream": "stdout",
       "text": [
        "Open file 'polyopt.task'\n",
        "Computer\n"
       ]
      },
      {
       "output_type": "stream",
       "stream": "stderr",
       "text": [
        "\n",
        " in depwarn at ./deprecated.jl:40\n",
        " in int32 at deprecated.jl:29\n",
        " in solve_mosek at /home/joachim/.julia/v0.4/Polyopt/src/solver_mosek.jl:43\n",
        " in solve_mosek at /home/joachim/.julia/v0.4/Polyopt/src/solver_mosek.jl:18\n",
        " in include_string at loading.jl:98\n",
        " in execute_request_0x535c5df2 at /home/joachim/.julia/v0.4/IJulia/src/execute_request.jl:157\n",
        " in eventloop at /home/joachim/.julia/v0.4/IJulia/src/IJulia.jl:123\n",
        " in anonymous at task.jl:361\n",
        "WARNING: int32(x) is deprecated, use Int32(x) instead.\n",
        " in depwarn at ./deprecated.jl:40\n",
        " in int32 at deprecated.jl:29\n",
        " in solve_mosek at /home/joachim/.julia/v0.4/Polyopt/src/solver_mosek.jl:43\n",
        " in solve_mosek at /home/joachim/.julia/v0.4/Polyopt/src/solver_mosek.jl:18\n",
        " in include_string at loading.jl:98\n",
        " in execute_request_0x535c5df2 at /home/joachim/.julia/v0.4/IJulia/src/execute_request.jl:157\n",
        " in eventloop at /home/joachim/.julia/v0.4/IJulia/src/IJulia.jl:123\n",
        " in anonymous at task.jl:361\n",
        "WARNING: float64(x::AbstractArray) is deprecated, use map(Float64,x) instead.\n",
        " in depwarn at ./deprecated.jl:40\n",
        " in float64 at deprecated.jl:29\n",
        " in solve_mosek at /home/joachim/.julia/v0.4/Polyopt/src/solver_mosek.jl:43\n",
        " in solve_mosek at /home/joachim/.julia/v0.4/Polyopt/src/solver_mosek.jl:18\n",
        " in include_string at loading.jl:98\n",
        " in execute_request_0x535c5df2 at /home/joachim/.julia/v0.4/IJulia/src/execute_request.jl:157\n",
        " in eventloop at /home/joachim/.julia/v0.4/IJulia/src/IJulia.jl:123\n",
        " in anonymous at task.jl:361\n",
        "WARNING: float64(x::AbstractArray) is deprecated, use map(Float64,x) instead.\n",
        " in depwarn at ./deprecated.jl:40\n",
        " in float64 at deprecated.jl:29\n",
        " in solve_mosek at /home/joachim/.julia/v0.4/Polyopt/src/solver_mosek.jl:43\n",
        " in solve_mosek at /home/joachim/.julia/v0.4/Polyopt/src/solver_mosek.jl:18\n",
        " in include_string at loading.jl:98\n",
        " in execute_request_0x535c5df2 at /home/joachim/.julia/v0.4/IJulia/src/execute_request.jl:157\n",
        " in eventloop at /home/joachim/.julia/v0.4/IJulia/src/IJulia.jl:123\n",
        " in anonymous at task.jl:361\n",
        "WARNING: int32(x) is deprecated, use Int32(x) instead.\n",
        " in depwarn at ./deprecated.jl:40\n",
        " in int32 at deprecated.jl:29\n",
        " in solve_mosek at /home/joachim/.julia/v0.4/Polyopt/src/solver_mosek.jl:48\n",
        " in solve_mosek at /home/joachim/.julia/v0.4/Polyopt/src/solver_mosek.jl:18\n",
        " in include_string at loading.jl:98\n",
        " in execute_request_0x535c5df2 at /home/joachim/.julia/v0.4/IJulia/src/execute_request.jl:157\n",
        " in eventloop at /home/joachim/.julia/v0.4/IJulia/src/IJulia.jl:123\n",
        " in anonymous at task.jl:361\n",
        "WARNING: float64(x) is deprecated, use Float64(x) instead.\n",
        " in depwarn at ./deprecated.jl:40\n",
        " in float64 at deprecated.jl:29\n",
        " in solve_mosek at /home/joachim/.julia/v0.4/Polyopt/src/solver_mosek.jl:48\n",
        " in solve_mosek at /home/joachim/.julia/v0.4/Polyopt/src/solver_mosek.jl:18\n",
        " in include_string at loading.jl:98\n",
        " in execute_request_0x535c5df2 at /home/joachim/.julia/v0.4/IJulia/src/execute_request.jl:157\n",
        " in eventloop at /home/joachim/.julia/v0.4/IJulia/src/IJulia.jl:123\n",
        " in anonymous at task.jl:361\n",
        "WARNING: int32(x) is deprecated, use Int32(x) instead.\n",
        " in depwarn at ./deprecated.jl:40\n",
        " in int32 at deprecated.jl:29\n",
        " in solve_mosek at /home/joachim/.julia/v0.4/Polyopt/src/solver_mosek.jl:55\n",
        " in solve_mosek at /home/joachim/.julia/v0.4/Polyopt/src/solver_mosek.jl:18\n",
        " in include_string at loading.jl:98\n",
        " in execute_request_0x535c5df2 at /home/joachim/.julia/v0.4/IJulia/src/execute_request.jl:157\n",
        " in eventloop at /home/joachim/.julia/v0.4/IJulia/src/IJulia.jl:123\n",
        " in anonymous at task.jl:361\n",
        "WARNING: int32(x) is deprecated, use Int32(x) instead.\n",
        " in depwarn at ./deprecated.jl:40\n",
        " in int32 at deprecated.jl:29\n",
        " in solve_mosek at /home/joachim/.julia/v0.4/Polyopt/src/solver_mosek.jl:55\n",
        " in solve_mosek at /home/joachim/.julia/v0.4/Polyopt/src/solver_mosek.jl:18\n",
        " in include_string at loading.jl:98\n",
        " in execute_request_0x535c5df2 at /home/joachim/.julia/v0.4/IJulia/src/execute_request.jl:157\n",
        " in eventloop at /home/joachim/.julia/v0.4/IJulia/src/IJulia.jl:123\n",
        " in anonymous at task.jl:361\n",
        "WARNING: float64(x) is deprecated, use Float64(x) instead.\n",
        " in depwarn at ./deprecated.jl:40\n",
        " in float64 at deprecated.jl:29\n",
        " in solve_mosek at /home/joachim/.julia/v0.4/Polyopt/src/solver_mosek.jl:55\n",
        " in solve_mosek at /home/joachim/.julia/v0.4/Polyopt/src/solver_mosek.jl:18\n",
        " in include_string at loading.jl:98\n",
        " in execute_request_0x535c5df2 at /home/joachim/.julia/v0.4/IJulia/src/execute_request.jl:157\n",
        " in eventloop at /home/joachim/.julia/v0.4/IJulia/src/IJulia.jl:123\n",
        " in anonymous at task.jl:361\n",
        "WARNING: int32(x) is deprecated, use Int32(x) instead.\n",
        " in depwarn at ./deprecated.jl:40\n",
        " in int32 at deprecated.jl:29\n",
        " in putconboundslice at /home/joachim/.julia/v0.4/Mosek/src/msk_functions.jl:2846\n",
        " in solve_mosek at /home/joachim/.julia/v0.4/Polyopt/src/solver_mosek.jl:73\n",
        " in solve_mosek at /home/joachim/.julia/v0.4/Polyopt/src/solver_mosek.jl:18\n",
        " in include_string at loading.jl:98\n",
        " in execute_request_0x535c5df2 at /home/joachim/.julia/v0.4/IJulia/src/execute_request.jl:157\n",
        " in eventloop at /home/joachim/.julia/v0.4/IJulia/src/IJulia.jl:123\n",
        " in anonymous at task.jl:361\n",
        "WARNING: int32(x) is deprecated, use Int32(x) instead.\n",
        " in depwarn at ./deprecated.jl:40\n",
        " in int32 at deprecated.jl:29\n",
        " in putconboundslice at /home/joachim/.julia/v0.4/Mosek/src/msk_functions.jl:2846\n",
        " in solve_mosek at /home/joachim/.julia/v0.4/Polyopt/src/solver_mosek.jl:73\n",
        " in solve_mosek at /home/joachim/.julia/v0.4/Polyopt/src/solver_mosek.jl:18\n",
        " in include_string at loading.jl:98\n",
        " in execute_request_0x535c5df2 at /home/joachim/.julia/v0.4/IJulia/src/execute_request.jl:157\n",
        " in eventloop at /home/joachim/.julia/v0.4/IJulia/src/IJulia.jl:123\n",
        " in anonymous at task.jl:361\n",
        "WARNING: float64(x::AbstractArray) is deprecated, use map(Float64,x) instead.\n",
        " in depwarn at ./deprecated.jl:40\n",
        " in float64 at deprecated.jl:29\n",
        " in putconboundslice at /home/joachim/.julia/v0.4/Mosek/src/msk_functions.jl:2846\n",
        " in solve_mosek at /home/joachim/.julia/v0.4/Polyopt/src/solver_mosek.jl:73\n",
        " in solve_mosek at /home/joachim/.julia/v0.4/Polyopt/src/solver_mosek.jl:18\n",
        " in include_string at loading.jl:98\n",
        " in execute_request_0x535c5df2 at /home/joachim/.julia/v0.4/IJulia/src/execute_request.jl:157\n",
        " in eventloop at /home/joachim/.julia/v0.4/IJulia/src/IJulia.jl:123\n",
        " in anonymous at task.jl:361\n",
        "WARNING: float64(x::AbstractArray) is deprecated, use map(Float64,x) instead.\n",
        " in depwarn at ./deprecated.jl:40\n",
        " in float64 at deprecated.jl:29\n",
        " in putconboundslice at /home/joachim/.julia/v0.4/Mosek/src/msk_functions.jl:2846\n",
        " in solve_mosek at /home/joachim/.julia/v0.4/Polyopt/src/solver_mosek.jl:73\n",
        " in solve_mosek at /home/joachim/.julia/v0.4/Polyopt/src/solver_mosek.jl:18\n",
        " in include_string at loading.jl:98\n",
        " in execute_request_0x535c5df2 at /home/joachim/.julia/v0.4/IJulia/src/execute_request.jl:157\n",
        " in eventloop at /home/joachim/.julia/v0.4/IJulia/src/IJulia.jl:123\n",
        " in anonymous at task.jl:361\n",
        "WARNING: int32(x) is deprecated, use Int32(x) instead.\n",
        " in depwarn at ./deprecated.jl:40\n",
        " in int32 at deprecated.jl:29\n",
        " in getbarxj at /home/joachim/.julia/v0.4/Mosek/src/msk_functions.jl:847\n",
        " in solve_mosek at /home/joachim/.julia/v0.4/Polyopt/src/solver_mosek.jl:103\n",
        " in solve_mosek at /home/joachim/.julia/v0.4/Polyopt/src/solver_mosek.jl:18\n",
        " in include_string at loading.jl:98\n",
        " in execute_request_0x535c5df2 at /home/joachim/.julia/v0.4/IJulia/src/execute_request.jl:157\n",
        " in eventloop at /home/joachim/.julia/v0.4/IJulia/src/IJulia.jl:123\n",
        " in anonymous at task.jl:361\n",
        "WARNING: int(x::FloatingPoint) is deprecated, use round(Int,x) instead.\n",
        " in depwarn at ./deprecated.jl:40\n",
        " in int at deprecated.jl:29\n",
        " in solve_mosek at /home/joachim/.julia/v0.4/Polyopt/src/solver_mosek.jl:103\n",
        " in solve_mosek at /home/joachim/.julia/v0.4/Polyopt/src/solver_mosek.jl:18\n",
        " in include_string at loading.jl:98\n",
        " in execute_request_0x535c5df2 at /home/joachim/.julia/v0.4/IJulia/src/execute_request.jl:157\n",
        " in eventloop at /home/joachim/.julia/v0.4/IJulia/src/IJulia.jl:123\n",
        " in anonymous at task.jl:361\n",
        "WARNING: int32(x) is deprecated, use Int32(x) instead."
       ]
      },
      {
       "output_type": "stream",
       "stream": "stdout",
       "text": [
        "  Platform               : Linux/64-X86    \n",
        "  Cores                  : 20              \n",
        "\n",
        "Problem\n",
        "  Name                   :                 \n",
        "  Objective sense        : max             \n",
        "  Type                   : CONIC (conic optimization problem)\n",
        "  Constraints            : 15              \n",
        "  Cones                  : 0               \n",
        "  Scalar variables       : 1               \n",
        "  Matrix variables       : 1               \n",
        "  Integer variables      : 0               \n",
        "\n",
        "Optimizer started.\n",
        "Conic interior-point optimizer started.\n",
        "Presolve started.\n",
        "Linear dependency checker started.\n",
        "Linear dependency checker terminated.\n",
        "Eliminator - tries                  : 0                 time                   : 0.00            \n",
        "Eliminator - elim's                 : 0               \n",
        "Lin. dep.  - tries                  : 1                 time                   : 0.00            \n",
        "Lin. dep.  - number                 : 0               \n",
        "Presolve terminated. Time: 0.00    \n",
        "rnumcone: 0 0\n",
        "rnummcone: 1 numfrli: 2\n",
        "======\n",
        "nrmc: 1.000000e+00 0.000000e+00\n",
        "flops: 1.120000e+03\n",
        "flops: 1.120000e+03\n",
        "flops: 1.120000e+03\n",
        "Factor flops: 1.12e+03 (0.00e+00)\n",
        "Optimizer  - threads                : 8               \n",
        "Optimizer  - solved problem         : the primal      \n",
        "Optimizer  - Constraints            : 15\n",
        "Optimizer  - Cones                  : 1\n",
        "Optimizer  - Scalar variables       : 2                 conic                  : 2               \n",
        "Optimizer  - Semi-definite variables: 1                 scalarized             : 21              \n",
        "Factor     - setup time             : 0.00              dense det. time        : 0.00            \n",
        "Factor     - ML order time          : 0.00              GP order time          : 0.00            \n",
        "Factor     - nonzeros before factor : 120               after factor           : 120             \n",
        "Factor     - dense dim.             : 0                 flops                  : 3.10e+03        \n",
        "ITE PFEAS    DFEAS    GFEAS    PRSTATUS   POBJ              DOBJ              MU       TIME  \n",
        "0   1.5e+00  1.0e+00  1.0e+00  0.00e+00   0.000000000e+00   0.000000000e+00   1.0e+00  0.00  \n",
        "1   3.1e-01  2.1e-01  3.7e-01  2.33e-02   -1.056985241e+00  -1.198994361e+00  2.1e-01  0.00  \n",
        "2   5.8e-02  3.8e-02  2.3e-01  1.55e+00   -8.359333125e-02  -5.057825847e-02  3.8e-02  0.00  \n",
        "3   1.2e-02  7.8e-03  1.1e-01  1.17e+00   -3.081228563e-02  -2.447346289e-02  7.8e-03  0.00  \n",
        "4   2.8e-03  1.9e-03  5.3e-02  1.09e+00   -6.266733278e-03  -4.923378331e-03  1.9e-03  0.00  \n",
        "5   8.2e-04  5.4e-04  2.8e-02  1.04e+00   -2.728768959e-03  -2.389405363e-03  5.4e-04  0.00  \n",
        "6   3.0e-04  2.0e-04  1.8e-02  1.05e+00   -2.873706023e-04  -1.554517993e-04  2.0e-04  0.00  \n",
        "7   7.6e-05  5.1e-05  8.7e-03  1.00e+00   -3.200709212e-04  -2.912119718e-04  5.1e-05  0.00  \n",
        "8   1.6e-05  1.1e-05  4.1e-03  1.01e+00   -2.615638049e-05  -1.910262187e-05  1.1e-05  0.00  \n",
        "9   3.2e-06  2.1e-06  1.8e-03  1.00e+00   -9.387786501e-06  -8.091193782e-06  2.1e-06  0.00  \n",
        "10  8.2e-07  5.4e-07  9.2e-04  1.00e+00   -1.571764301e-06  -1.232789015e-06  5.4e-07  0.00  \n",
        "11  2.3e-07  1.5e-07  4.8e-04  9.94e-01   -8.508596163e-07  -7.612496935e-07  1.5e-07  0.00  \n",
        "12  7.6e-08  5.1e-08  2.8e-04  1.02e+00   -8.022144734e-08  -4.798783316e-08  5.1e-08  0.00  \n",
        "13  1.8e-08  1.2e-08  1.3e-04  9.96e-01   -6.967776405e-08  -6.290656461e-08  1.2e-08  0.00  \n",
        "14  3.9e-09  2.6e-09  6.4e-05  1.00e+00   -6.785510239e-09  -5.126086700e-09  2.6e-09  0.00  \n",
        "15  8.5e-10  5.7e-10  3.0e-05  1.00e+00   -2.744113176e-09  -2.393426955e-09  5.7e-10  0.00  \n",
        "Interior-point optimizer terminated. Time: 0.01. \n",
        "\n",
        "Optimizer terminated. Time: 0.02    \n",
        "\n",
        "Interior-point solution summary\n",
        "  Problem status  : PRIMAL_AND_DUAL_FEASIBLE\n",
        "  Solution status : OPTIMAL\n",
        "  Primal.  obj: -2.7441131756e-09   Viol.  con: 1e-09    var: 0e+00    barvar: 0e+00  \n",
        "  Dual.    obj: -2.3934269555e-09   Viol.  con: 0e+00    var: 5e-10    barvar: 8e-10  \n"
       ]
      },
      {
       "output_type": "stream",
       "stream": "stderr",
       "text": [
        "\n",
        " in depwarn at ./deprecated.jl:40\n",
        " in int32 at deprecated.jl:29\n",
        " in getxxslice at /home/joachim/.julia/v0.4/Mosek/src/msk_functions.jl:2288\n",
        " in solve_mosek at /home/joachim/.julia/v0.4/Polyopt/src/solver_mosek.jl:104\n",
        " in solve_mosek at /home/joachim/.julia/v0.4/Polyopt/src/solver_mosek.jl:18\n",
        " in include_string at loading.jl:98\n",
        " in execute_request_0x535c5df2 at /home/joachim/.julia/v0.4/IJulia/src/execute_request.jl:157\n",
        " in eventloop at /home/joachim/.julia/v0.4/IJulia/src/IJulia.jl:123\n",
        " in anonymous at task.jl:361\n",
        "WARNING: int32(x) is deprecated, use Int32(x) instead.\n",
        " in depwarn at ./deprecated.jl:40\n",
        " in int32 at deprecated.jl:29\n",
        " in getxxslice at /home/joachim/.julia/v0.4/Mosek/src/msk_functions.jl:2288\n",
        " in solve_mosek at /home/joachim/.julia/v0.4/Polyopt/src/solver_mosek.jl:104\n",
        " in solve_mosek at /home/joachim/.julia/v0.4/Polyopt/src/solver_mosek.jl:18\n",
        " in include_string at loading.jl:98\n",
        " in execute_request_0x535c5df2 at /home/joachim/.julia/v0.4/IJulia/src/execute_request.jl:157\n",
        " in eventloop at /home/joachim/.julia/v0.4/IJulia/src/IJulia.jl:123\n",
        " in anonymous at task.jl:361\n"
       ]
      }
     ],
     "prompt_number": 5
    },
    {
     "cell_type": "markdown",
     "metadata": {},
     "source": [
      "Since $t$ is zero, we have a sums of squares certificate"
     ]
    },
    {
     "cell_type": "code",
     "collapsed": false,
     "input": [
      "t"
     ],
     "language": "python",
     "metadata": {},
     "outputs": [
      {
       "metadata": {},
       "output_type": "pyout",
       "prompt_number": 6,
       "text": [
        "-2.7441131755846803e-9"
       ]
      }
     ],
     "prompt_number": 6
    },
    {
     "cell_type": "code",
     "collapsed": false,
     "input": [
      "X[1]"
     ],
     "language": "python",
     "metadata": {},
     "outputs": [
      {
       "metadata": {},
       "output_type": "pyout",
       "prompt_number": 7,
       "text": [
        "6x6 Array{Float64,2}:\n",
        "  3.5748e-9    -1.17357e-22  -3.47853e-23  \u2026  -2.69485e-5   -6.75613e-5 \n",
        " -1.17357e-22   8.12634e-5    2.69485e-5       2.05174e-18   7.45146e-18\n",
        " -3.47853e-23   2.69485e-5    0.000135123     -6.30832e-18  -1.28392e-19\n",
        " -4.06312e-5    1.44371e-18   6.58806e-19      1.0          -1.16006    \n",
        " -2.69485e-5    2.05174e-18  -6.30832e-18      1.32012       1.05737e-15\n",
        " -6.75613e-5    7.45146e-18  -1.28392e-19  \u2026   1.05737e-15   5.0        "
       ]
      }
     ],
     "prompt_number": 7
    },
    {
     "cell_type": "markdown",
     "metadata": {},
     "source": [
      "To verify the sums of squares certificate, we compute a monomial vector"
     ]
    },
    {
     "cell_type": "code",
     "collapsed": false,
     "input": [
      "v = monomials(2, [x, z])"
     ],
     "language": "python",
     "metadata": {},
     "outputs": [
      {
       "metadata": {},
       "output_type": "pyout",
       "prompt_number": 8,
       "text": [
        "6-element Array{Polyopt.Poly{Int64},1}:\n",
        " 1  \n",
        " x  \n",
        " z  \n",
        " x^2\n",
        " x*z\n",
        " z^2"
       ]
      }
     ],
     "prompt_number": 8
    },
    {
     "cell_type": "code",
     "collapsed": false,
     "input": [
      "dot(v, X[1]*v)"
     ],
     "language": "python",
     "metadata": {},
     "outputs": [
      {
       "metadata": {},
       "output_type": "pyout",
       "prompt_number": 9,
       "text": [
        "3.5747994043143486e-9-2.3471443030572916e-22*x-6.957054506256652e-23*z+9.13427727281934e-10*x^2+1.6263032587282567e-19*x*z+9.134277264145722e-10*z^2+2.887424614597033e-18*x^3+5.4210907611018836e-18*x^2*z+2.286284677910112e-18*x*z^2-2.5678440042236725e-19*z^3+1.999999999999997*x^4+1.9999999990865687*x^3*z-0.9999999986298591*x^2*z^2+2.114748420187921e-15*x*z^3+4.9999999986298596*z^4"
       ]
      }
     ],
     "prompt_number": 9
    },
    {
     "cell_type": "markdown",
     "metadata": {},
     "source": [
      "or discarding monomials with small coefficients,"
     ]
    },
    {
     "cell_type": "code",
     "collapsed": false,
     "input": [
      "truncate(dot(v, X[1]*v), 1e-8)"
     ],
     "language": "python",
     "metadata": {},
     "outputs": [
      {
       "metadata": {},
       "output_type": "pyout",
       "prompt_number": 10,
       "text": [
        "1.999999999999997*x^4+1.9999999990865687*x^3*z-0.9999999986298591*x^2*z^2+4.9999999986298596*z^4"
       ]
      }
     ],
     "prompt_number": 10
    },
    {
     "cell_type": "code",
     "collapsed": false,
     "input": [],
     "language": "python",
     "metadata": {},
     "outputs": []
    }
   ],
   "metadata": {}
  }
 ]
}