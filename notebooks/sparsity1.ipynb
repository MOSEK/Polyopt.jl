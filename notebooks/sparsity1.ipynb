{
 "metadata": {
  "name": ""
 },
 "nbformat": 3,
 "nbformat_minor": 0,
 "worksheets": [
  {
   "cells": [
    {
     "cell_type": "heading",
     "level": 1,
     "metadata": {},
     "source": [
      "Sparse polynomial optimization using correlative sparsity"
     ]
    },
    {
     "cell_type": "heading",
     "level": 2,
     "metadata": {},
     "source": [
      "A motivating toy example"
     ]
    },
    {
     "cell_type": "markdown",
     "metadata": {},
     "source": [
      "One approach for exploiting sparsity in polynomial optimization is based on <i>correlative sparsity</i> and proposed by Waki, Kim, Kojima and Muramatsu. We motivate this approach by considering the following problem,"
     ]
    },
    {
     "cell_type": "markdown",
     "metadata": {},
     "source": [
      "\\begin{array}{ll}\n",
      "\\text{minimize}   & x_1 - x_2 + x_3 - x_4 - (x_1^3 + x_2^3 + x_3^3 + x_4^3)\\\\\n",
      "\\text{subject to} & -1 \\leq x_1 x_2 \\leq 1\\\\\n",
      "                  & -1 \\leq x_2 x_3 \\leq 1\\\\\n",
      "                  & -1 \\leq x_3 x_4 \\leq 1\\\\\n",
      "                  & x_1^2 \\leq 1\\\\\n",
      "                  & x_2^2 \\leq 1\\\\\n",
      "                  & x_3^2 \\leq 1\\\\\n",
      "                  & x_4^2 \\leq 1\n",
      "\\end{array}"
     ]
    },
    {
     "cell_type": "markdown",
     "metadata": {},
     "source": [
      "We first setup and solve the standard second-order moment relaxation"
     ]
    },
    {
     "cell_type": "code",
     "collapsed": false,
     "input": [
      "using Polyopt"
     ],
     "language": "python",
     "metadata": {},
     "outputs": [],
     "prompt_number": 1
    },
    {
     "cell_type": "code",
     "collapsed": false,
     "input": [
      "x1,x2,x3,x4 = variables([\"x1\",\"x2\",\"x3\",\"x4\"]);"
     ],
     "language": "python",
     "metadata": {},
     "outputs": [],
     "prompt_number": 2
    },
    {
     "cell_type": "code",
     "collapsed": false,
     "input": [
      "f = x1-x2+x3-x4 - (x1^3+x2^3+x3^3+x4^3);"
     ],
     "language": "python",
     "metadata": {},
     "outputs": [],
     "prompt_number": 3
    },
    {
     "cell_type": "code",
     "collapsed": false,
     "input": [
      " g = [-1-x1*x2, 1-x1*x2,\n",
      "      -1-x2*x3, 1-x2*x3,\n",
      "      -1-x3*x4, 1-x3*x4,\n",
      "       1-x1^2,\n",
      "       1-x2^2,\n",
      "       1-x3^2,\n",
      "       1-x4^2 ];"
     ],
     "language": "python",
     "metadata": {},
     "outputs": [],
     "prompt_number": 4
    },
    {
     "cell_type": "code",
     "collapsed": false,
     "input": [
      "prob = momentprob(2, f, g);"
     ],
     "language": "python",
     "metadata": {},
     "outputs": [],
     "prompt_number": 5
    },
    {
     "cell_type": "code",
     "collapsed": false,
     "input": [
      "X, Z, t, y, solsta = solve_mosek(prob);"
     ],
     "language": "python",
     "metadata": {},
     "outputs": [
      {
       "output_type": "stream",
       "stream": "stdout",
       "text": [
        "Open file 'polyopt.task'\n",
        "Computer\n"
       ]
      },
      {
       "output_type": "stream",
       "stream": "stdout",
       "text": [
        "  Platform               : Linux/64-X86    \n",
        "  Cores                  : 20              \n",
        "\n",
        "Problem\n",
        "  Name                   :                 \n",
        "  Objective sense        : max             \n",
        "  Type                   : CONIC (conic optimization problem)\n",
        "  Constraints            : 70              \n",
        "  Cones                  : 0               \n",
        "  Scalar variables       : 1               \n",
        "  Matrix variables       : 11              \n",
        "  Integer variables      : 0               \n",
        "\n",
        "Optimizer started.\n",
        "Conic interior-point optimizer started.\n",
        "Presolve started.\n",
        "Linear dependency checker started.\n",
        "Linear dependency checker terminated.\n",
        "Eliminator - tries                  : 0                 time                   : 0.00            \n",
        "Eliminator - elim's                 : 0               \n",
        "Lin. dep.  - tries                  : 1                 time                   : 0.00            \n",
        "Lin. dep.  - number                 : 0               \n",
        "Presolve terminated. Time: 0.00    \n",
        "rnumcone: 0 0\n",
        "rnummcone: 1 numfrli: 2\n",
        "======\n",
        "nrmc: 1.000000e+00 0.000000e+00\n",
        "flops: 1.143100e+05\n",
        "flops: 1.143100e+05\n",
        "flops: 1.143100e+05\n",
        "Factor flops: 1.14e+05 (0.00e+00)\n",
        "Optimizer  - threads                : 8               \n",
        "Optimizer  - solved problem         : the primal      \n",
        "Optimizer  - Constraints            : 70\n",
        "Optimizer  - Cones                  : 1\n",
        "Optimizer  - Scalar variables       : 2                 conic                  : 2               \n",
        "Optimizer  - Semi-definite variables: 11                scalarized             : 270             \n",
        "Factor     - setup time             : 0.00              dense det. time        : 0.00            \n",
        "Factor     - ML order time          : 0.00              GP order time          : 0.00            \n",
        "Factor     - nonzeros before factor : 2485              after factor           : 2485            \n",
        "Factor     - dense dim.             : 0                 flops                  : 1.92e+05        \n",
        "ITE PFEAS    DFEAS    GFEAS    PRSTATUS   POBJ              DOBJ              MU       TIME  \n",
        "0   5.0e+00  1.0e+00  1.0e+00  0.00e+00   0.000000000e+00   0.000000000e+00   1.0e+00  0.00  \n",
        "1   1.2e+00  2.5e-01  2.8e-01  -3.89e-02  7.685400655e-02   -2.755310218e-01  2.5e-01  0.01  \n",
        "2   1.8e-01  3.7e-02  3.3e-02  -2.53e-01  3.672140564e-01   -6.819967610e-01  3.7e-02  0.01  \n",
        "3   4.0e-02  8.0e-03  1.5e-02  6.20e-01   -3.049079429e+00  -3.282129227e+00  8.0e-03  0.01  \n",
        "4   2.0e-03  4.0e-04  3.5e-03  9.71e-01   -3.970318245e+00  -3.981454610e+00  4.0e-04  0.01  \n",
        "5   1.1e-04  2.2e-05  8.4e-04  1.01e+00   -3.998876434e+00  -3.999447285e+00  2.2e-05  0.01  \n",
        "6   3.4e-06  6.8e-07  1.6e-04  1.02e+00   -3.999977038e+00  -3.999990977e+00  6.8e-07  0.01  \n",
        "7   1.6e-07  3.1e-08  4.0e-05  1.05e+00   -3.999999300e+00  -3.999999748e+00  3.1e-08  0.01  \n",
        "8   9.8e-09  2.0e-09  1.1e-05  1.04e+00   -3.999999960e+00  -3.999999985e+00  2.0e-09  0.02  \n",
        "9   2.9e-10  6.6e-10  1.7e-06  1.00e+00   -3.999999999e+00  -4.000000000e+00  5.0e-11  0.02  \n",
        "10  2.8e-12  2.8e-08  1.5e-07  1.00e+00   -4.000000000e+00  -4.000000000e+00  4.0e-13  0.02  \n",
        "Interior-point optimizer terminated. Time: 0.02. \n",
        "\n",
        "Optimizer terminated. Time: 0.04    \n",
        "\n",
        "Interior-point solution summary\n",
        "  Problem status  : PRIMAL_AND_DUAL_FEASIBLE\n",
        "  Solution status : OPTIMAL\n",
        "  Primal.  obj: -4.0000000000e+00   Viol.  con: 1e-11    var: 0e+00    barvar: 0e+00  \n",
        "  Dual.    obj: -4.0000000000e+00   Viol.  con: 0e+00    var: 4e-13    barvar: 2e-12  \n"
       ]
      }
     ],
     "prompt_number": 6
    },
    {
     "cell_type": "markdown",
     "metadata": {},
     "source": [
      "We inspect the solution"
     ]
    },
    {
     "cell_type": "code",
     "collapsed": false,
     "input": [
      "[ prob.basis[1:5] y[1:5] ]"
     ],
     "language": "python",
     "metadata": {},
     "outputs": [
      {
       "metadata": {},
       "output_type": "pyout",
       "prompt_number": 7,
       "text": [
        "5x2 Array{Polyopt.Poly{Float64},2}:\n",
        " 1.0  0.9999999999996232 \n",
        " x1   -0.9999999999990266\n",
        " x2   0.9999999999991235 \n",
        " x3   -0.9999999999991452\n",
        " x4   0.999999999999054  "
       ]
      }
     ],
     "prompt_number": 7
    },
    {
     "cell_type": "markdown",
     "metadata": {},
     "source": [
      "which is feasible"
     ]
    },
    {
     "cell_type": "code",
     "collapsed": false,
     "input": [
      "[ Polyopt.evalpoly(gi, y[2:5]) for gi=g ]"
     ],
     "language": "python",
     "metadata": {},
     "outputs": [
      {
       "metadata": {},
       "output_type": "pyout",
       "prompt_number": 8,
       "text": [
        "10-element Array{Any,1}:\n",
        " -1.84996e-12\n",
        "  2.0        \n",
        " -1.73128e-12\n",
        "  2.0        \n",
        " -1.80078e-12\n",
        "  2.0        \n",
        "  1.94689e-12\n",
        "  1.75304e-12\n",
        "  1.70952e-12\n",
        "  1.89204e-12"
       ]
      }
     ],
     "prompt_number": 8
    },
    {
     "cell_type": "markdown",
     "metadata": {},
     "source": [
      "so we have found an optimal solution."
     ]
    },
    {
     "cell_type": "heading",
     "level": 2,
     "metadata": {},
     "source": [
      "Correlative sparsity"
     ]
    },
    {
     "cell_type": "markdown",
     "metadata": {},
     "source": [
      "The correlative sparsity pattern $C$ is a symmetric matrix with the number variables as dimension.\n",
      "An element $C_{ij}$ is nonzero if either\n",
      "* $i=j$, i.e., we include the diagonal.\n",
      "* $x_i$ and $x_j$ appear in the same term of the objective function.\n",
      "* $x_i$ and $x_j$ both appear in a constraint $g(x)\\geq 0$ or $h(x)=0$."
     ]
    },
    {
     "cell_type": "markdown",
     "metadata": {},
     "source": [
      "For the simple example, let us recall"
     ]
    },
    {
     "cell_type": "code",
     "collapsed": false,
     "input": [
      "f"
     ],
     "language": "python",
     "metadata": {},
     "outputs": [
      {
       "metadata": {},
       "output_type": "pyout",
       "prompt_number": 9,
       "text": [
        "x1-x2+x3-x4-x1^3-x2^3-x3^3-x4^3"
       ]
      }
     ],
     "prompt_number": 9
    },
    {
     "cell_type": "code",
     "collapsed": false,
     "input": [
      "g"
     ],
     "language": "python",
     "metadata": {},
     "outputs": [
      {
       "metadata": {},
       "output_type": "pyout",
       "prompt_number": 10,
       "text": [
        "10-element Array{Polyopt.Poly{Int64},1}:\n",
        " -1-x1*x2\n",
        " 1-x1*x2 \n",
        " -1-x2*x3\n",
        " 1-x2*x3 \n",
        " -1-x3*x4\n",
        " 1-x3*x4 \n",
        " 1-x1^2  \n",
        " 1-x2^2  \n",
        " 1-x3^2  \n",
        " 1-x4^2  "
       ]
      }
     ],
     "prompt_number": 10
    },
    {
     "cell_type": "markdown",
     "metadata": {},
     "source": [
      "Let us compute the correlative sparsity pattern"
     ]
    },
    {
     "cell_type": "code",
     "collapsed": false,
     "input": [
      "C = Polyopt.correlative_sparsity(f, g);"
     ],
     "language": "python",
     "metadata": {},
     "outputs": [],
     "prompt_number": 11
    },
    {
     "cell_type": "code",
     "collapsed": false,
     "input": [
      "full(C)"
     ],
     "language": "python",
     "metadata": {},
     "outputs": [
      {
       "metadata": {},
       "output_type": "pyout",
       "prompt_number": 12,
       "text": [
        "4x4 Array{Int64,2}:\n",
        " 1  1  0  0\n",
        " 1  1  1  0\n",
        " 0  1  1  1\n",
        " 0  0  1  1"
       ]
      }
     ],
     "prompt_number": 12
    },
    {
     "cell_type": "markdown",
     "metadata": {},
     "source": [
      "This is a <i>chordal</i> matrix with 3 cliques,"
     ]
    },
    {
     "cell_type": "code",
     "collapsed": false,
     "input": [
      "K = Array{Int,1}[ [1,2], [2,3], [3,4] ]"
     ],
     "language": "python",
     "metadata": {},
     "outputs": [
      {
       "metadata": {},
       "output_type": "pyout",
       "prompt_number": 13,
       "text": [
        "3-element Array{Array{Int64,1},1}:\n",
        " [1,2]\n",
        " [2,3]\n",
        " [3,4]"
       ]
      }
     ],
     "prompt_number": 13
    },
    {
     "cell_type": "markdown",
     "metadata": {},
     "source": [
      "Note that each function $g_i(x)$ involves only variables indexed by one of the cliques, and the objective function $f(x)$ involves only variables in the clique cover."
     ]
    },
    {
     "cell_type": "heading",
     "level": 2,
     "metadata": {},
     "source": [
      "A weaker chordal moment relaxation formed over the cliques "
     ]
    },
    {
     "cell_type": "markdown",
     "metadata": {},
     "source": [
      "In the standard moment relaxation we consider a monomial basis vector"
     ]
    },
    {
     "cell_type": "code",
     "collapsed": false,
     "input": [
      "u = monomials(2, [x1,x2,x3,x4])"
     ],
     "language": "python",
     "metadata": {},
     "outputs": [
      {
       "metadata": {},
       "output_type": "pyout",
       "prompt_number": 14,
       "text": [
        "15-element Array{Polyopt.Poly{Int64},1}:\n",
        " 1    \n",
        " x1   \n",
        " x2   \n",
        " x3   \n",
        " x4   \n",
        " x1^2 \n",
        " x1*x2\n",
        " x1*x3\n",
        " x1*x4\n",
        " x2^2 \n",
        " x2*x3\n",
        " x2*x4\n",
        " x3^2 \n",
        " x3*x4\n",
        " x4^2 "
       ]
      }
     ],
     "prompt_number": 14
    },
    {
     "cell_type": "markdown",
     "metadata": {},
     "source": [
      "and the second-order moment matrix $M_2(y)\\succeq 0$ corresponds to"
     ]
    },
    {
     "cell_type": "code",
     "collapsed": false,
     "input": [
      "u*u'"
     ],
     "language": "python",
     "metadata": {},
     "outputs": [
      {
       "metadata": {},
       "output_type": "pyout",
       "prompt_number": 15,
       "text": [
        "15x15 Array{Polyopt.Poly{Int64},2}:\n",
        " 1      x1        x2        x3        \u2026  x3^2        x3*x4        x4^2      \n",
        " x1     x1^2      x1*x2     x1*x3        x1*x3^2     x1*x3*x4     x1*x4^2   \n",
        " x2     x1*x2     x2^2      x2*x3        x2*x3^2     x2*x3*x4     x2*x4^2   \n",
        " x3     x1*x3     x2*x3     x3^2         x3^3        x3^2*x4      x3*x4^2   \n",
        " x4     x1*x4     x2*x4     x3*x4        x3^2*x4     x3*x4^2      x4^3      \n",
        " x1^2   x1^3      x1^2*x2   x1^2*x3   \u2026  x1^2*x3^2   x1^2*x3*x4   x1^2*x4^2 \n",
        " x1*x2  x1^2*x2   x1*x2^2   x1*x2*x3     x1*x2*x3^2  x1*x2*x3*x4  x1*x2*x4^2\n",
        " x1*x3  x1^2*x3   x1*x2*x3  x1*x3^2      x1*x3^3     x1*x3^2*x4   x1*x3*x4^2\n",
        " x1*x4  x1^2*x4   x1*x2*x4  x1*x3*x4     x1*x3^2*x4  x1*x3*x4^2   x1*x4^3   \n",
        " x2^2   x1*x2^2   x2^3      x2^2*x3      x2^2*x3^2   x2^2*x3*x4   x2^2*x4^2 \n",
        " x2*x3  x1*x2*x3  x2^2*x3   x2*x3^2   \u2026  x2*x3^3     x2*x3^2*x4   x2*x3*x4^2\n",
        " x2*x4  x1*x2*x4  x2^2*x4   x2*x3*x4     x2*x3^2*x4  x2*x3*x4^2   x2*x4^3   \n",
        " x3^2   x1*x3^2   x2*x3^2   x3^3         x3^4        x3^3*x4      x3^2*x4^2 \n",
        " x3*x4  x1*x3*x4  x2*x3*x4  x3^2*x4      x3^3*x4     x3^2*x4^2    x3*x4^3   \n",
        " x4^2   x1*x4^2   x2*x4^2   x3*x4^2      x3^2*x4^2   x3*x4^3      x4^4      "
       ]
      }
     ],
     "prompt_number": 15
    },
    {
     "cell_type": "markdown",
     "metadata": {},
     "source": [
      "In the chordal relaxation we consider basis vectors formed over the cliques"
     ]
    },
    {
     "cell_type": "code",
     "collapsed": false,
     "input": [
      "uk = [ monomials(2, [x1,x2,x3,x4][ki]) for ki=K ]"
     ],
     "language": "python",
     "metadata": {},
     "outputs": [
      {
       "metadata": {},
       "output_type": "pyout",
       "prompt_number": 16,
       "text": [
        "3-element Array{Any,1}:\n",
        " [1,x1,x2,x1^2,x1*x2,x2^2]\n",
        " [1,x2,x3,x2^2,x2*x3,x3^2]\n",
        " [1,x3,x4,x3^2,x3*x4,x4^2]"
       ]
      }
     ],
     "prompt_number": 16
    },
    {
     "cell_type": "markdown",
     "metadata": {},
     "source": [
      "and the moment constraint $M_2(y)\\succeq 0$ is replaced by three smaller constraints $M_2(y, K_i)\\succeq 0$ corresponding to"
     ]
    },
    {
     "cell_type": "code",
     "collapsed": false,
     "input": [
      "uk[1]*uk[1]'"
     ],
     "language": "python",
     "metadata": {},
     "outputs": [
      {
       "metadata": {},
       "output_type": "pyout",
       "prompt_number": 17,
       "text": [
        "6x6 Array{Polyopt.Poly{Int64},2}:\n",
        " 1      x1       x2       x1^2       x1*x2      x2^2     \n",
        " x1     x1^2     x1*x2    x1^3       x1^2*x2    x1*x2^2  \n",
        " x2     x1*x2    x2^2     x1^2*x2    x1*x2^2    x2^3     \n",
        " x1^2   x1^3     x1^2*x2  x1^4       x1^3*x2    x1^2*x2^2\n",
        " x1*x2  x1^2*x2  x1*x2^2  x1^3*x2    x1^2*x2^2  x1*x2^3  \n",
        " x2^2   x1*x2^2  x2^3     x1^2*x2^2  x1*x2^3    x2^4     "
       ]
      }
     ],
     "prompt_number": 17
    },
    {
     "cell_type": "code",
     "collapsed": false,
     "input": [
      "uk[2]*uk[2]'"
     ],
     "language": "python",
     "metadata": {},
     "outputs": [
      {
       "metadata": {},
       "output_type": "pyout",
       "prompt_number": 18,
       "text": [
        "6x6 Array{Polyopt.Poly{Int64},2}:\n",
        " 1      x2       x3       x2^2       x2*x3      x3^2     \n",
        " x2     x2^2     x2*x3    x2^3       x2^2*x3    x2*x3^2  \n",
        " x3     x2*x3    x3^2     x2^2*x3    x2*x3^2    x3^3     \n",
        " x2^2   x2^3     x2^2*x3  x2^4       x2^3*x3    x2^2*x3^2\n",
        " x2*x3  x2^2*x3  x2*x3^2  x2^3*x3    x2^2*x3^2  x2*x3^3  \n",
        " x3^2   x2*x3^2  x3^3     x2^2*x3^2  x2*x3^3    x3^4     "
       ]
      }
     ],
     "prompt_number": 18
    },
    {
     "cell_type": "code",
     "collapsed": false,
     "input": [
      "uk[3]*uk[3]'"
     ],
     "language": "python",
     "metadata": {},
     "outputs": [
      {
       "metadata": {},
       "output_type": "pyout",
       "prompt_number": 19,
       "text": [
        "6x6 Array{Polyopt.Poly{Int64},2}:\n",
        " 1      x3       x4       x3^2       x3*x4      x4^2     \n",
        " x3     x3^2     x3*x4    x3^3       x3^2*x4    x3*x4^2  \n",
        " x4     x3*x4    x4^2     x3^2*x4    x3*x4^2    x4^3     \n",
        " x3^2   x3^3     x3^2*x4  x3^4       x3^3*x4    x3^2*x4^2\n",
        " x3*x4  x3^2*x4  x3*x4^2  x3^3*x4    x3^2*x4^2  x3*x4^3  \n",
        " x4^2   x3*x4^2  x4^3     x3^2*x4^2  x3*x4^3    x4^4     "
       ]
      }
     ],
     "prompt_number": 19
    },
    {
     "cell_type": "markdown",
     "metadata": {},
     "source": [
      "Similarly we consider the <i>localization matrices</i> for $g_i(x)\\geq 0$. For the standard second-order moment relexation we have"
     ]
    },
    {
     "cell_type": "code",
     "collapsed": false,
     "input": [
      "v = monomials(1, [x1,x2,x3,x4])"
     ],
     "language": "python",
     "metadata": {},
     "outputs": [
      {
       "metadata": {},
       "output_type": "pyout",
       "prompt_number": 20,
       "text": [
        "5-element Array{Polyopt.Poly{Int64},1}:\n",
        " 1 \n",
        " x1\n",
        " x2\n",
        " x3\n",
        " x4"
       ]
      }
     ],
     "prompt_number": 20
    },
    {
     "cell_type": "code",
     "collapsed": false,
     "input": [
      "g[1]"
     ],
     "language": "python",
     "metadata": {},
     "outputs": [
      {
       "metadata": {},
       "output_type": "pyout",
       "prompt_number": 21,
       "text": [
        "-1-x1*x2"
       ]
      }
     ],
     "prompt_number": 21
    },
    {
     "cell_type": "markdown",
     "metadata": {},
     "source": [
      "and the localization matrix for $g_1(x) \\geq 0$ is $M_1(g_1 y)\\succeq 0$ corresponding to"
     ]
    },
    {
     "cell_type": "code",
     "collapsed": false,
     "input": [
      "g[1]*v*v'"
     ],
     "language": "python",
     "metadata": {},
     "outputs": [
      {
       "metadata": {},
       "output_type": "pyout",
       "prompt_number": 22,
       "text": [
        "5x5 Array{Polyopt.Poly{Int64},2}:\n",
        " -1-x1*x2      -x1-x1^2*x2        -x2-x1*x2^2        \u2026  -x4-x1*x2*x4      \n",
        " -x1-x1^2*x2   -x1^2-x1^3*x2      -x1*x2-x1^2*x2^2      -x1*x4-x1^2*x2*x4 \n",
        " -x2-x1*x2^2   -x1*x2-x1^2*x2^2   -x2^2-x1*x2^3         -x2*x4-x1*x2^2*x4 \n",
        " -x3-x1*x2*x3  -x1*x3-x1^2*x2*x3  -x2*x3-x1*x2^2*x3     -x3*x4-x1*x2*x3*x4\n",
        " -x4-x1*x2*x4  -x1*x4-x1^2*x2*x4  -x2*x4-x1*x2^2*x4     -x4^2-x1*x2*x4^2  "
       ]
      }
     ],
     "prompt_number": 22
    },
    {
     "cell_type": "markdown",
     "metadata": {},
     "source": [
      "In the chordal relaxation we have"
     ]
    },
    {
     "cell_type": "code",
     "collapsed": false,
     "input": [
      "vk = [ monomials(1, [x1,x2,x3,x4][ki]) for ki=K ]"
     ],
     "language": "python",
     "metadata": {},
     "outputs": [
      {
       "metadata": {},
       "output_type": "pyout",
       "prompt_number": 23,
       "text": [
        "3-element Array{Any,1}:\n",
        " [1,x1,x2]\n",
        " [1,x2,x3]\n",
        " [1,x3,x4]"
       ]
      }
     ],
     "prompt_number": 23
    },
    {
     "cell_type": "markdown",
     "metadata": {},
     "source": [
      "and we replace $M_1(g_1 y)\\succeq 0$ by $M_1(g_1 y, K_1)\\succeq 0$ corresponding to"
     ]
    },
    {
     "cell_type": "code",
     "collapsed": false,
     "input": [
      "g[1]*vk[1]*vk[1]'"
     ],
     "language": "python",
     "metadata": {},
     "outputs": [
      {
       "metadata": {},
       "output_type": "pyout",
       "prompt_number": 24,
       "text": [
        "3x3 Array{Polyopt.Poly{Int64},2}:\n",
        " -1-x1*x2     -x1-x1^2*x2       -x2-x1*x2^2     \n",
        " -x1-x1^2*x2  -x1^2-x1^3*x2     -x1*x2-x1^2*x2^2\n",
        " -x2-x1*x2^2  -x1*x2-x1^2*x2^2  -x2^2-x1*x2^3   "
       ]
      }
     ],
     "prompt_number": 24
    },
    {
     "cell_type": "markdown",
     "metadata": {},
     "source": [
      "and similarly for all $g_i(x)\\geq 0$."
     ]
    },
    {
     "cell_type": "heading",
     "level": 2,
     "metadata": {},
     "source": [
      "Solving the chordal moment relaxation"
     ]
    },
    {
     "cell_type": "markdown",
     "metadata": {},
     "source": [
      "Given a clique-cover $K$ we can form the chordal moment relaxation as"
     ]
    },
    {
     "cell_type": "code",
     "collapsed": false,
     "input": [
      "probc = Polyopt.momentprob_chordal(2, K, f, g, [ 1, 1, 2, 2, 3, 3, 1, 2, 3, 3 ]);"
     ],
     "language": "python",
     "metadata": {},
     "outputs": [],
     "prompt_number": 25
    },
    {
     "cell_type": "markdown",
     "metadata": {},
     "source": [
      "where the last argument is a clique index-list for each function $g_i$, i.e., $g_1(x)$ and $g_2(x)$ are covered by $K_1$, $g_3(x)$ and $g_4(x)$ are covered by $K_2$, etc. We then solve the chordal relaxation"
     ]
    },
    {
     "cell_type": "code",
     "collapsed": false,
     "input": [
      "Xc, Zc, tc, yc, solstac = solve_mosek(probc);"
     ],
     "language": "python",
     "metadata": {},
     "outputs": [
      {
       "output_type": "stream",
       "stream": "stdout",
       "text": [
        "Open file 'polyopt.task'\n",
        "Computer\n"
       ]
      },
      {
       "output_type": "stream",
       "stream": "stdout",
       "text": [
        "  Platform               : Linux/64-X86    \n",
        "  Cores                  : 20              \n",
        "\n",
        "Problem\n",
        "  Name                   :                 \n",
        "  Objective sense        : max             \n",
        "  Type                   : CONIC (conic optimization problem)\n",
        "  Constraints            : 70              \n",
        "  Cones                  : 0               \n",
        "  Scalar variables       : 1               \n",
        "  Matrix variables       : 13              \n",
        "  Integer variables      : 0               \n",
        "\n",
        "Optimizer started.\n",
        "Conic interior-point optimizer started.\n",
        "Presolve started.\n",
        "Linear dependency checker started.\n",
        "Linear dependency checker terminated.\n",
        "Eliminator - tries                  : 0                 time                   : 0.00            \n",
        "Eliminator - elim's                 : 0               \n",
        "Lin. dep.  - tries                  : 1                 time                   : 0.00            \n",
        "Lin. dep.  - number                 : 0               \n",
        "Presolve terminated. Time: 0.00    \n",
        "rnumcone: 0 0\n",
        "rnummcone: 1 numfrli: 2\n",
        "======\n",
        "nrmc: 1.000000e+00 0.000000e+00\n",
        "flops: 3.280000e+03\n",
        "flops: 3.280000e+03\n",
        "flops: 3.280000e+03\n",
        "Factor flops: 3.28e+03 (0.00e+00)\n",
        "Optimizer  - threads                : 8               \n",
        "Optimizer  - solved problem         : the primal      \n",
        "Optimizer  - Constraints            : 35\n",
        "Optimizer  - Cones                  : 1\n",
        "Optimizer  - Scalar variables       : 2                 conic                  : 2               \n",
        "Optimizer  - Semi-definite variables: 13                scalarized             : 123             \n",
        "Factor     - setup time             : 0.00              dense det. time        : 0.00            \n",
        "Factor     - ML order time          : 0.00              GP order time          : 0.00            \n",
        "Factor     - nonzeros before factor : 330               after factor           : 330             \n",
        "Factor     - dense dim.             : 0                 flops                  : 1.34e+04        \n",
        "ITE PFEAS    DFEAS    GFEAS    PRSTATUS   POBJ              DOBJ              MU       TIME  \n",
        "0   7.0e+00  1.0e+00  1.0e+00  0.00e+00   0.000000000e+00   0.000000000e+00   1.0e+00  0.00  \n",
        "1   1.7e+00  2.4e-01  2.7e-01  -7.15e-03  -1.380133222e-01  -5.069574673e-01  2.4e-01  0.01  \n",
        "2   3.5e-01  5.1e-02  6.8e-02  9.70e-02   -9.909177864e-01  -1.393074169e+00  5.1e-02  0.01  \n",
        "3   3.8e-02  5.4e-03  2.9e-02  7.96e-01   -3.774895397e+00  -3.792600633e+00  5.4e-03  0.01  \n",
        "4   1.9e-04  2.7e-05  2.0e-03  9.49e-01   -3.999208401e+00  -3.999318700e+00  2.7e-05  0.01  \n",
        "5   5.2e-06  7.5e-07  3.2e-04  1.00e+00   -3.999982445e+00  -3.999985445e+00  7.5e-07  0.01  \n",
        "6   4.4e-08  6.3e-09  3.0e-05  1.00e+00   -3.999999872e+00  -3.999999897e+00  6.3e-09  0.01  \n",
        "7   3.9e-09  8.1e-10  1.3e-05  9.81e-01   -3.999999992e+00  -3.999999993e+00  6.6e-10  0.01  \n",
        "8   4.7e-11  9.6e-09  1.1e-06  1.00e+00   -4.000000000e+00  -4.000000000e+00  5.1e-12  0.01  \n",
        "Interior-point optimizer terminated. Time: 0.01. \n",
        "\n",
        "Optimizer terminated. Time: 0.01    \n",
        "\n",
        "Interior-point solution summary\n",
        "  Problem status  : PRIMAL_AND_DUAL_FEASIBLE\n",
        "  Solution status : OPTIMAL\n",
        "  Primal.  obj: -3.9999999999e+00   Viol.  con: 1e-10    var: 0e+00    barvar: 0e+00  \n",
        "  Dual.    obj: -4.0000000000e+00   Viol.  con: 0e+00    var: 2e-11    barvar: 1e-11  \n"
       ]
      }
     ],
     "prompt_number": 26
    },
    {
     "cell_type": "code",
     "collapsed": false,
     "input": [
      "[ probc.basis[1:5] yc[1:5] ]"
     ],
     "language": "python",
     "metadata": {},
     "outputs": [
      {
       "metadata": {},
       "output_type": "pyout",
       "prompt_number": 27,
       "text": [
        "5x2 Array{Polyopt.Poly{Float64},2}:\n",
        " 1.0  0.9999999999803442 \n",
        " x1   -0.9999999999744619\n",
        " x2   0.99999999998346   \n",
        " x3   -0.9999999999857416\n",
        " x4   0.9999999999866013 "
       ]
      }
     ],
     "prompt_number": 27
    },
    {
     "cell_type": "markdown",
     "metadata": {},
     "source": [
      "In this case we also recover the optimal value at the second order relaxation. In general this is not always the case, except when all polynomials are of degree 2 or less, but under mild assumptions the hierarchy of chordal moment relaxations converges to the optimal solution (just as the regular moment relaxations)."
     ]
    },
    {
     "cell_type": "heading",
     "level": 2,
     "metadata": {},
     "source": [
      "Duality and sums-of-squares certificates"
     ]
    },
    {
     "cell_type": "markdown",
     "metadata": {},
     "source": [
      "The sums-of-squares certificate is also evaluted over the cliques, in this case we have"
     ]
    },
    {
     "cell_type": "code",
     "collapsed": false,
     "input": [
      "r = dot(uk[1], Xc[1]*uk[1]) + dot(uk[2], Xc[2]*uk[2]) + dot(uk[3], Xc[3]*uk[3]) + \n",
      "        g[1]*dot(vk[1], Xc[4]*vk[1]) +\n",
      "        g[2]*dot(vk[1], Xc[5]*vk[1]) +\n",
      "        g[3]*dot(vk[2], Xc[6]*vk[2]) +\n",
      "        g[4]*dot(vk[2], Xc[7]*vk[2]) +\n",
      "        g[5]*dot(vk[3], Xc[8]*vk[3]) +\n",
      "        g[6]*dot(vk[3], Xc[9]*vk[3]) +\n",
      "        g[7]*dot(vk[1], Xc[10]*vk[1]) +\n",
      "        g[8]*dot(vk[2], Xc[11]*vk[2]) +\n",
      "        g[9]*dot(vk[3], Xc[12]*vk[3]) +\n",
      "        g[10]*dot(vk[3], Xc[13]*vk[3]);"
     ],
     "language": "python",
     "metadata": {},
     "outputs": [],
     "prompt_number": 28
    },
    {
     "cell_type": "code",
     "collapsed": false,
     "input": [
      "truncate( f - tc - r, 1e-8 )"
     ],
     "language": "python",
     "metadata": {},
     "outputs": [
      {
       "metadata": {},
       "output_type": "pyout",
       "prompt_number": 29,
       "text": [
        "0.0"
       ]
      }
     ],
     "prompt_number": 29
    },
    {
     "cell_type": "heading",
     "level": 2,
     "metadata": {},
     "source": [
      "An example where the chordal relaxation is weaker"
     ]
    },
    {
     "cell_type": "markdown",
     "metadata": {},
     "source": [
      "We consider an example by Nie and Demmel (with added norm bounds),"
     ]
    },
    {
     "cell_type": "code",
     "collapsed": false,
     "input": [
      "x1, x2, x3 = variables([\"x1\", \"x2\", \"x3\"]);"
     ],
     "language": "python",
     "metadata": {},
     "outputs": [],
     "prompt_number": 30
    },
    {
     "cell_type": "code",
     "collapsed": false,
     "input": [
      "g1, g2 = x1^4 + (x1*x2-1)^2, x2^2*x3^2 + (x3^2-1)^2;"
     ],
     "language": "python",
     "metadata": {},
     "outputs": [],
     "prompt_number": 31
    },
    {
     "cell_type": "code",
     "collapsed": false,
     "input": [
      "f = g1+g2;"
     ],
     "language": "python",
     "metadata": {},
     "outputs": [],
     "prompt_number": 32
    },
    {
     "cell_type": "code",
     "collapsed": false,
     "input": [
      "g = [g1, g2, 1-x1^2, 1-x2^2, 1-x3^2];"
     ],
     "language": "python",
     "metadata": {},
     "outputs": [],
     "prompt_number": 33
    },
    {
     "cell_type": "code",
     "collapsed": false,
     "input": [
      "prob = momentprob(2, f, g);"
     ],
     "language": "python",
     "metadata": {},
     "outputs": [],
     "prompt_number": 34
    },
    {
     "cell_type": "code",
     "collapsed": false,
     "input": [
      "X, Z, t, y, solsta = solve_mosek(prob);"
     ],
     "language": "python",
     "metadata": {},
     "outputs": [
      {
       "output_type": "stream",
       "stream": "stdout",
       "text": [
        "Open file 'polyopt.task'\n",
        "Computer\n"
       ]
      },
      {
       "output_type": "stream",
       "stream": "stdout",
       "text": [
        "  Platform               : Linux/64-X86    \n",
        "  Cores                  : 20              \n",
        "\n",
        "Problem\n",
        "  Name                   :                 \n",
        "  Objective sense        : max             \n",
        "  Type                   : CONIC (conic optimization problem)\n",
        "  Constraints            : 35              \n",
        "  Cones                  : 0               \n",
        "  Scalar variables       : 1               \n",
        "  Matrix variables       : 6               \n",
        "  Integer variables      : 0               \n",
        "\n",
        "Optimizer started.\n",
        "Conic interior-point optimizer started.\n",
        "Presolve started.\n",
        "Linear dependency checker started.\n",
        "Linear dependency checker terminated.\n",
        "Eliminator - tries                  : 0                 time                   : 0.00            \n",
        "Eliminator - elim's                 : 0               \n",
        "Lin. dep.  - tries                  : 1                 time                   : 0.00            \n",
        "Lin. dep.  - number                 : 0               \n",
        "Presolve terminated. Time: 0.00    \n",
        "rnumcone: 0 0\n",
        "rnummcone: 1 numfrli: 2\n",
        "======\n",
        "nrmc: 1.000000e+00 0.000000e+00\n",
        "flops: 1.428000e+04\n",
        "flops: 1.428000e+04\n",
        "flops: 1.428000e+04\n",
        "Factor flops: 1.43e+04 (0.00e+00)\n",
        "Optimizer  - threads                : 8               \n",
        "Optimizer  - solved problem         : the primal      \n",
        "Optimizer  - Constraints            : 35\n",
        "Optimizer  - Cones                  : 1\n",
        "Optimizer  - Scalar variables       : 2                 conic                  : 2               \n",
        "Optimizer  - Semi-definite variables: 6                 scalarized             : 87              \n",
        "Factor     - setup time             : 0.00              dense det. time        : 0.00            \n",
        "Factor     - ML order time          : 0.00              GP order time          : 0.00            \n",
        "Factor     - nonzeros before factor : 630               after factor           : 630             \n",
        "Factor     - dense dim.             : 0                 flops                  : 2.96e+04        \n",
        "ITE PFEAS    DFEAS    GFEAS    PRSTATUS   POBJ              DOBJ              MU       TIME  \n",
        "0   5.0e+00  1.0e+00  1.0e+00  0.00e+00   0.000000000e+00   0.000000000e+00   1.0e+00  0.00  \n",
        "1   1.8e+00  3.7e-01  2.4e+00  2.37e+00   -1.756050830e-01  4.109825383e-01   3.7e-01  0.00  \n",
        "2   5.8e-01  1.2e-01  8.9e-01  1.77e+00   6.458715023e-01   7.671781418e-01   1.2e-01  0.00  \n",
        "3   9.2e-02  1.8e-02  3.6e-01  1.22e+00   8.474918467e-01   8.646078677e-01   1.8e-02  0.00  \n",
        "4   1.5e-02  3.0e-03  1.5e-01  1.05e+00   8.497362526e-01   8.524929713e-01   3.0e-03  0.00  \n",
        "5   3.2e-03  6.5e-04  6.9e-02  1.01e+00   8.494616263e-01   8.500474691e-01   6.5e-04  0.00  \n",
        "6   5.9e-04  1.2e-04  3.0e-02  1.00e+00   8.496814671e-01   8.497887721e-01   1.2e-04  0.00  \n",
        "7   7.8e-06  1.6e-06  3.4e-03  1.00e+00   8.498564500e-01   8.498578865e-01   1.6e-06  0.00  \n",
        "8   9.0e-07  1.8e-07  1.2e-03  1.00e+00   8.498583292e-01   8.498584949e-01   1.8e-07  0.01  \n",
        "9   1.0e-07  2.1e-08  4.0e-04  1.00e+00   8.498584369e-01   8.498584558e-01   2.1e-08  0.01  \n",
        "10  2.9e-09  8.2e-10  6.7e-05  1.00e+00   8.498584466e-01   8.498584472e-01   5.9e-10  0.01  \n",
        "11  1.2e-10  2.9e-09  1.4e-05  1.00e+00   8.498584470e-01   8.498584470e-01   2.5e-11  0.01  \n",
        "Interior-point optimizer terminated. Time: 0.01. \n",
        "\n",
        "Optimizer terminated. Time: 0.01    \n",
        "\n",
        "Interior-point solution summary\n",
        "  Problem status  : PRIMAL_AND_DUAL_FEASIBLE\n",
        "  Solution status : OPTIMAL\n",
        "  Primal.  obj: 8.4985844697e-01    Viol.  con: 9e-11    var: 0e+00    barvar: 0e+00  \n",
        "  Dual.    obj: 8.4985844699e-01    Viol.  con: 0e+00    var: 2e-11    barvar: 8e-12  \n"
       ]
      }
     ],
     "prompt_number": 35
    },
    {
     "cell_type": "markdown",
     "metadata": {},
     "source": [
      "Let us form and solve the chordal moment relaxation also"
     ]
    },
    {
     "cell_type": "code",
     "collapsed": false,
     "input": [
      "C = Polyopt.correlative_sparsity(f, g);"
     ],
     "language": "python",
     "metadata": {},
     "outputs": [],
     "prompt_number": 36
    },
    {
     "cell_type": "code",
     "collapsed": false,
     "input": [
      "full(C)"
     ],
     "language": "python",
     "metadata": {},
     "outputs": [
      {
       "metadata": {},
       "output_type": "pyout",
       "prompt_number": 37,
       "text": [
        "3x3 Array{Int64,2}:\n",
        " 1  1  0\n",
        " 1  1  1\n",
        " 0  1  1"
       ]
      }
     ],
     "prompt_number": 37
    },
    {
     "cell_type": "markdown",
     "metadata": {},
     "source": [
      "where we identify the clique-cover"
     ]
    },
    {
     "cell_type": "code",
     "collapsed": false,
     "input": [
      "K = Array{Int,1}[ [1,2], [2,3] ];"
     ],
     "language": "python",
     "metadata": {},
     "outputs": [],
     "prompt_number": 38
    },
    {
     "cell_type": "markdown",
     "metadata": {},
     "source": [
      "and we form and solve the chordal relaxation"
     ]
    },
    {
     "cell_type": "code",
     "collapsed": false,
     "input": [
      "probc = Polyopt.momentprob_chordal(2, K, f, g, [ 1, 2, 1, 2, 2 ]);"
     ],
     "language": "python",
     "metadata": {},
     "outputs": [],
     "prompt_number": 39
    },
    {
     "cell_type": "code",
     "collapsed": false,
     "input": [
      "Xc, Zc, tc, yc, solstac = solve_mosek(probc);"
     ],
     "language": "python",
     "metadata": {},
     "outputs": [
      {
       "output_type": "stream",
       "stream": "stdout",
       "text": [
        "Open file 'polyopt.task'\n",
        "Computer\n"
       ]
      },
      {
       "output_type": "stream",
       "stream": "stdout",
       "text": [
        "  Platform               : Linux/64-X86    \n",
        "  Cores                  : 20              \n",
        "\n",
        "Problem\n",
        "  Name                   :                 \n",
        "  Objective sense        : max             \n",
        "  Type                   : CONIC (conic optimization problem)\n",
        "  Constraints            : 35              \n",
        "  Cones                  : 0               \n",
        "  Scalar variables       : 1               \n",
        "  Matrix variables       : 7               \n",
        "  Integer variables      : 0               \n",
        "\n",
        "Optimizer started.\n",
        "Conic interior-point optimizer started.\n",
        "Presolve started.\n",
        "Linear dependency checker started.\n",
        "Linear dependency checker terminated.\n",
        "Eliminator - tries                  : 0                 time                   : 0.00            \n",
        "Eliminator - elim's                 : 0               \n",
        "Lin. dep.  - tries                  : 1                 time                   : 0.00            \n",
        "Lin. dep.  - number                 : 0               \n",
        "Presolve terminated. Time: 0.00    \n",
        "rnumcone: 0 0\n",
        "rnummcone: 1 numfrli: 2\n",
        "======\n",
        "nrmc: 1.000000e+00 0.000000e+00\n",
        "flops: 2.200000e+03\n",
        "flops: 2.200000e+03\n",
        "flops: 2.200000e+03\n",
        "Factor flops: 2.20e+03 (0.00e+00)\n",
        "Optimizer  - threads                : 8               \n",
        "Optimizer  - solved problem         : the primal      \n",
        "Optimizer  - Constraints            : 25\n",
        "Optimizer  - Cones                  : 1\n",
        "Optimizer  - Scalar variables       : 2                 conic                  : 2               \n",
        "Optimizer  - Semi-definite variables: 7                 scalarized             : 62              \n",
        "Factor     - setup time             : 0.00              dense det. time        : 0.00            \n",
        "Factor     - ML order time          : 0.00              GP order time          : 0.00            \n",
        "Factor     - nonzeros before factor : 225               after factor           : 225             \n",
        "Factor     - dense dim.             : 0                 flops                  : 7.48e+03        \n",
        "ITE PFEAS    DFEAS    GFEAS    PRSTATUS   POBJ              DOBJ              MU       TIME  \n",
        "0   6.0e+00  1.0e+00  1.0e+00  0.00e+00   0.000000000e+00   0.000000000e+00   1.0e+00  0.00  \n",
        "1   2.0e+00  3.4e-01  2.1e+00  2.26e+00   -1.837122358e-01  3.863639929e-01   3.4e-01  0.00  \n",
        "2   5.1e-01  8.4e-02  7.4e-01  1.73e+00   5.061478537e-01   5.955374276e-01   8.4e-02  0.00  \n",
        "3   7.9e-02  1.3e-02  3.1e-01  1.11e+00   7.724503884e-01   7.860163102e-01   1.3e-02  0.00  \n",
        "4   1.2e-02  2.1e-03  1.2e-01  1.04e+00   7.959575786e-01   7.980310302e-01   2.1e-03  0.00  \n",
        "5   1.7e-03  2.9e-04  4.6e-02  1.01e+00   8.022333864e-01   8.025220009e-01   2.9e-04  0.00  \n",
        "6   1.9e-04  3.2e-05  1.5e-02  1.00e+00   8.031887687e-01   8.032203123e-01   3.2e-05  0.00  \n",
        "7   1.9e-05  3.2e-06  4.8e-03  9.99e-01   8.032891907e-01   8.032923431e-01   3.2e-06  0.00  \n",
        "8   1.4e-06  2.4e-07  1.3e-03  9.99e-01   8.032985970e-01   8.032988301e-01   2.4e-07  0.01  \n",
        "9   7.0e-08  1.2e-08  2.9e-04  1.00e+00   8.032992329e-01   8.032992445e-01   1.2e-08  0.01  \n",
        "10  4.9e-09  1.7e-09  9.5e-05  9.97e-01   8.032992593e-01   8.032992605e-01   1.0e-09  0.01  \n",
        "11  2.0e-10  6.7e-09  1.9e-05  1.00e+00   8.032992624e-01   8.032992625e-01   4.1e-11  0.01  \n",
        "Interior-point optimizer terminated. Time: 0.01. \n",
        "\n",
        "Optimizer terminated. Time: 0.01    \n",
        "\n",
        "Interior-point solution summary\n",
        "  Problem status  : PRIMAL_AND_DUAL_FEASIBLE\n",
        "  Solution status : OPTIMAL\n",
        "  Primal.  obj: 8.0329926244e-01    Viol.  con: 1e-10    var: 0e+00    barvar: 0e+00  \n",
        "  Dual.    obj: 8.0329926249e-01    Viol.  con: 0e+00    var: 4e-11    barvar: 3e-11  \n"
       ]
      }
     ],
     "prompt_number": 40
    },
    {
     "cell_type": "markdown",
     "metadata": {},
     "source": [
      "and we observe that the chordal relaxation is weaker. The third-order chordal relaxation gives the same value, however,"
     ]
    },
    {
     "cell_type": "code",
     "collapsed": false,
     "input": [
      "probc = Polyopt.momentprob_chordal(3, K, f, g, [ 1, 2, 1, 2, 2 ]);"
     ],
     "language": "python",
     "metadata": {},
     "outputs": [],
     "prompt_number": 41
    },
    {
     "cell_type": "code",
     "collapsed": false,
     "input": [
      "Xc, Zc, tc, yc, solstac = solve_mosek(probc);"
     ],
     "language": "python",
     "metadata": {},
     "outputs": [
      {
       "output_type": "stream",
       "stream": "stdout",
       "text": [
        "Open file 'polyopt.task'\n",
        "Computer\n"
       ]
      },
      {
       "output_type": "stream",
       "stream": "stdout",
       "text": [
        "  Platform               : Linux/64-X86    \n",
        "  Cores                  : 20              \n",
        "\n",
        "Problem\n",
        "  Name                   :                 \n",
        "  Objective sense        : max             \n",
        "  Type                   : CONIC (conic optimization problem)\n",
        "  Constraints            : 84              \n",
        "  Cones                  : 0               \n",
        "  Scalar variables       : 1               \n",
        "  Matrix variables       : 7               \n",
        "  Integer variables      : 0               \n",
        "\n",
        "Optimizer started.\n",
        "Conic interior-point optimizer started.\n",
        "Presolve started.\n",
        "Linear dependency checker started.\n",
        "Linear dependency checker terminated.\n",
        "Eliminator - tries                  : 0                 time                   : 0.00            \n",
        "Eliminator - elim's                 : 0               \n",
        "Lin. dep.  - tries                  : 1                 time                   : 0.00            \n",
        "Lin. dep.  - number                 : 0               \n",
        "Presolve terminated. Time: 0.00    \n",
        "rnumcone: 0 0\n",
        "rnummcone: 1 numfrli: 2\n",
        "======\n",
        "nrmc: 1.000000e+00 0.000000e+00\n",
        "flops: 1.450400e+04\n",
        "flops: 1.450400e+04\n",
        "flops: 1.450400e+04\n",
        "Factor flops: 1.45e+04 (0.00e+00)\n",
        "Optimizer  - threads                : 8               \n",
        "Optimizer  - solved problem         : the primal      \n",
        "Optimizer  - Constraints            : 49\n",
        "Optimizer  - Cones                  : 1\n",
        "Optimizer  - Scalar variables       : 2                 conic                  : 2               \n",
        "Optimizer  - Semi-definite variables: 7                 scalarized             : 185             \n",
        "Factor     - setup time             : 0.00              dense det. time        : 0.00            \n",
        "Factor     - ML order time          : 0.00              GP order time          : 0.00            \n",
        "Factor     - nonzeros before factor : 784               after factor           : 784             \n",
        "Factor     - dense dim.             : 0                 flops                  : 4.76e+04        \n",
        "ITE PFEAS    DFEAS    GFEAS    PRSTATUS   POBJ              DOBJ              MU       TIME  \n",
        "0   6.0e+00  1.0e+00  1.0e+00  0.00e+00   0.000000000e+00   0.000000000e+00   1.0e+00  0.00  \n",
        "1   2.2e+00  3.6e-01  2.4e+00  2.55e+00   9.755657472e-02   6.513108810e-01   3.6e-01  0.00  \n",
        "2   8.4e-01  1.4e-01  1.1e+00  1.80e+00   8.373283513e-01   9.846116567e-01   1.4e-01  0.00  \n",
        "3   2.0e-01  3.3e-02  5.6e-01  1.59e+00   8.472028045e-01   8.726098186e-01   3.3e-02  0.00  \n",
        "4   4.3e-02  7.1e-03  2.8e-01  1.20e+00   8.607515820e-01   8.659201491e-01   7.1e-03  0.00  \n",
        "5   3.8e-03  6.3e-04  8.8e-02  1.08e+00   8.496340509e-01   8.500848291e-01   6.3e-04  0.01  \n",
        "6   2.2e-04  3.7e-05  2.2e-02  1.01e+00   8.498179273e-01   8.498444325e-01   3.7e-05  0.01  \n",
        "7   8.5e-06  1.4e-06  4.3e-03  1.00e+00   8.498564451e-01   8.498574720e-01   1.4e-06  0.01  \n",
        "8   4.2e-07  7.0e-08  9.6e-04  1.00e+00   8.498583262e-01   8.498583771e-01   7.0e-08  0.01  \n",
        "9   4.4e-08  7.5e-09  3.1e-04  1.00e+00   8.498584344e-01   8.498584396e-01   7.3e-09  0.01  \n",
        "10  4.6e-09  3.2e-09  1.0e-04  1.00e+00   8.498584458e-01   8.498584463e-01   7.7e-10  0.01  \n",
        "11  6.4e-10  1.3e-08  3.8e-05  1.00e+00   8.498584468e-01   8.498584469e-01   1.1e-10  0.01  \n",
        "Interior-point optimizer terminated. Time: 0.01. \n",
        "\n",
        "Optimizer terminated. Time: 0.01    \n",
        "\n",
        "Interior-point solution summary\n",
        "  Problem status  : PRIMAL_AND_DUAL_FEASIBLE\n",
        "  Solution status : OPTIMAL\n",
        "  Primal.  obj: 8.4985844685e-01    Viol.  con: 3e-10    var: 0e+00    barvar: 0e+00  \n",
        "  Dual.    obj: 8.4985844692e-01    Viol.  con: 0e+00    var: 3e-11    barvar: 5e-11  \n"
       ]
      }
     ],
     "prompt_number": 42
    },
    {
     "cell_type": "heading",
     "level": 2,
     "metadata": {},
     "source": [
      "Chordal embedding"
     ]
    },
    {
     "cell_type": "markdown",
     "metadata": {},
     "source": [
      "When the correlative sparsity pattern is non-chordal it is difficult to find the cliques (it is NP-hard in general). In that case we embed the correlative sparsity pattern in a larger chordal graph for which we can easily detect the cliques. The chordal embedding procedure essentially corresponds to a symbolic Cholesky factorization of the correlative sparsity pattern, and the amount of generated fill-in depends on the quality of a symmetric matrix reordering (performed by <code>CHOLMOD</code>). "
     ]
    },
    {
     "cell_type": "markdown",
     "metadata": {},
     "source": [
      "To demonstrate this procedure we consider a problem from http://gamsworld.org/global/globallib/ex5_4_2.htm, where we have rescaled the problem such that $x_i\\leq 1$ to make the relaxations easier to solve. "
     ]
    },
    {
     "cell_type": "code",
     "collapsed": false,
     "input": [
      "x1,x2,x3,x4,x5,x6,x7,x8 = variables([\"x1\",\"x2\",\"x3\",\"x4\",\"x5\",\"x6\",\"x7\",\"x8\"]);"
     ],
     "language": "python",
     "metadata": {},
     "outputs": [],
     "prompt_number": 43
    },
    {
     "cell_type": "code",
     "collapsed": false,
     "input": [
      "f = x1 + x2 + x3;"
     ],
     "language": "python",
     "metadata": {},
     "outputs": [],
     "prompt_number": 44
    },
    {
     "cell_type": "code",
     "collapsed": false,
     "input": [
      "g = [ 400/1000 - (x4 + x6),\n",
      "      300/1000 - (-x4 + x5 + x7),\n",
      "      100/1000 - (-x5 + x8),\n",
      "      .083333 - (0.01*x1 - 10*x1*x6 + 0.83333*x4),      \n",
      "      -(x2*x4 - x2*x7 - 0.125*x4 + 0.125*x5),\n",
      "      -0.125 - (x3*x5 - x3*x8 - 0.25*x5),\n",
      "      x1-100/10000, 1-x1, \n",
      "      x2-1000/10000, 1-x2, \n",
      "      x3-1000/10000, 1-x3, \n",
      "      x4-10/1000, 1-x4, \n",
      "      x5-10/1000, 1-x5, \n",
      "      x6-10/1000, 1-x6, \n",
      "      x7-10/1000, 1-x7, \n",
      "      x8-10/1000, 1-x8 ];"
     ],
     "language": "python",
     "metadata": {},
     "outputs": [],
     "prompt_number": 45
    },
    {
     "cell_type": "markdown",
     "metadata": {},
     "source": [
      "For reference, let us first solve the third-order standard moment relaxation."
     ]
    },
    {
     "cell_type": "code",
     "collapsed": false,
     "input": [
      "prob = momentprob(3, f, g);"
     ],
     "language": "python",
     "metadata": {},
     "outputs": [],
     "prompt_number": 46
    },
    {
     "cell_type": "code",
     "collapsed": false,
     "input": [
      "X, Z, t, y, solsta = solve_mosek(prob);"
     ],
     "language": "python",
     "metadata": {},
     "outputs": [
      {
       "output_type": "stream",
       "stream": "stdout",
       "text": [
        "Open file 'polyopt.task'\n",
        "Computer\n"
       ]
      },
      {
       "output_type": "stream",
       "stream": "stdout",
       "text": [
        "  Platform               : Linux/64-X86    \n",
        "  Cores                  : 20              \n",
        "\n",
        "Problem\n",
        "  Name                   :                 \n",
        "  Objective sense        : max             \n",
        "  Type                   : CONIC (conic optimization problem)\n",
        "  Constraints            : 3003            \n",
        "  Cones                  : 0               \n",
        "  Scalar variables       : 1               \n",
        "  Matrix variables       : 23              \n",
        "  Integer variables      : 0               \n",
        "\n",
        "Optimizer started.\n",
        "Conic interior-point optimizer started.\n",
        "Presolve started.\n",
        "Linear dependency checker started.\n",
        "Linear dependency checker terminated.\n",
        "Eliminator - tries                  : 0                 time                   : 0.00            \n",
        "Eliminator - elim's                 : 0               \n",
        "Lin. dep.  - tries                  : 1                 time                   : 0.00            \n",
        "Lin. dep.  - number                 : 0               \n",
        "Presolve terminated. Time: 0.00    \n",
        "rnumcone: 0 0\n",
        "rnummcone: 1 numfrli: 2\n",
        "======\n",
        "nrmc: 1.000000e+00 0.000000e+00\n",
        "flops: 9.027026e+09\n",
        "flops: 9.027026e+09\n"
       ]
      },
      {
       "output_type": "stream",
       "stream": "stdout",
       "text": [
        "flops: 9.027026e+09\n",
        "Factor flops: 9.03e+09 (0.00e+00)\n",
        "Optimizer  - threads                : 8               \n",
        "Optimizer  - solved problem         : the primal      \n",
        "Optimizer  - Constraints            : 3003\n",
        "Optimizer  - Cones                  : 1\n",
        "Optimizer  - Scalar variables       : 2                 conic                  : 2               \n",
        "Optimizer  - Semi-definite variables: 23                scalarized             : 36465           \n",
        "Factor     - setup time             : 1.46              dense det. time        : 0.00            \n",
        "Factor     - ML order time          : 0.53              GP order time          : 0.00            \n",
        "Factor     - nonzeros before factor : 4.51e+06          after factor           : 4.51e+06        \n",
        "Factor     - dense dim.             : 0                 flops                  : 9.65e+09        \n",
        "ITE PFEAS    DFEAS    GFEAS    PRSTATUS   POBJ              DOBJ              MU       TIME  \n",
        "0   9.5e+00  1.0e+00  1.0e+00  0.00e+00   0.000000000e+00   0.000000000e+00   1.0e+00  1.50  \n",
        "1   5.9e+00  6.3e-01  1.2e+00  1.26e+00   -5.317978953e-02  1.531240147e-01   6.3e-01  2.55  \n",
        "2   3.1e+00  3.2e-01  1.2e+00  2.23e+00   3.242736877e-01   3.937298576e-01   3.2e-01  3.66  \n"
       ]
      },
      {
       "output_type": "stream",
       "stream": "stdout",
       "text": [
        "3   1.6e+00  1.6e-01  1.2e+00  1.97e+00   3.299707417e-01   3.605292786e-01   1.6e-01  4.65  \n",
        "4   8.4e-01  8.8e-02  9.1e-01  1.48e+00   3.768757392e-01   3.909555414e-01   8.8e-02  5.62  \n"
       ]
      },
      {
       "output_type": "stream",
       "stream": "stdout",
       "text": [
        "5   4.1e-01  4.3e-02  5.5e-01  1.10e+00   4.526422766e-01   4.592613891e-01   4.3e-02  6.60  \n",
        "6   2.3e-01  2.4e-02  3.3e-01  6.54e-01   5.674553058e-01   5.714122588e-01   2.4e-02  7.66  \n"
       ]
      },
      {
       "output_type": "stream",
       "stream": "stdout",
       "text": [
        "7   8.2e-02  8.7e-03  1.9e-01  7.45e-01   6.805724055e-01   6.821485609e-01   8.7e-03  8.80  \n",
        "8   3.8e-02  4.0e-03  1.2e-01  7.52e-01   7.347102379e-01   7.355059452e-01   4.0e-03  9.87  \n"
       ]
      },
      {
       "output_type": "stream",
       "stream": "stdout",
       "text": [
        "9   1.6e-02  1.7e-03  7.8e-02  8.71e-01   7.426786773e-01   7.430566796e-01   1.7e-03  10.99 \n",
        "10  9.3e-03  9.8e-04  5.6e-02  8.78e-01   7.489941254e-01   7.492145083e-01   9.8e-04  12.08 \n"
       ]
      },
      {
       "output_type": "stream",
       "stream": "stdout",
       "text": [
        "11  2.3e-03  2.4e-04  2.8e-02  9.54e-01   7.506436533e-01   7.507000262e-01   2.4e-04  13.09 \n",
        "12  6.3e-04  6.6e-05  1.4e-02  9.55e-01   7.512962458e-01   7.513119722e-01   6.6e-05  14.10 \n"
       ]
      },
      {
       "output_type": "stream",
       "stream": "stdout",
       "text": [
        "13  2.3e-05  2.4e-06  2.7e-03  9.94e-01   7.512252428e-01   7.512258163e-01   2.4e-06  15.15 \n",
        "14  7.7e-07  8.1e-08  5.0e-04  9.98e-01   7.512226700e-01   7.512226889e-01   8.1e-08  16.22 \n"
       ]
      },
      {
       "output_type": "stream",
       "stream": "stdout",
       "text": [
        "15  4.7e-08  5.1e-09  1.2e-04  9.98e-01   7.512226077e-01   7.512226088e-01   4.9e-09  17.27 \n",
        "16  5.1e-09  3.7e-09  4.0e-05  1.00e+00   7.512226040e-01   7.512226042e-01   5.3e-10  18.41 \n"
       ]
      },
      {
       "output_type": "stream",
       "stream": "stdout",
       "text": [
        "Interior-point optimizer terminated. Time: 18.42. \n",
        "\n",
        "Optimizer terminated. Time: 18.42   \n",
        "\n",
        "Interior-point solution summary\n",
        "  Problem status  : PRIMAL_AND_DUAL_FEASIBLE\n",
        "  Solution status : OPTIMAL\n",
        "  Primal.  obj: 7.5122260403e-01    Viol.  con: 3e-09    var: 0e+00    barvar: 0e+00  \n",
        "  Dual.    obj: 7.5122260416e-01    Viol.  con: 0e+00    var: 5e-10    barvar: 3e-10  \n"
       ]
      }
     ],
     "prompt_number": 47
    },
    {
     "cell_type": "markdown",
     "metadata": {},
     "source": [
      "and the extracted solution "
     ]
    },
    {
     "cell_type": "code",
     "collapsed": false,
     "input": [
      "[ prob.basis[1:9] y[1:9] ]"
     ],
     "language": "python",
     "metadata": {},
     "outputs": [
      {
       "metadata": {},
       "output_type": "pyout",
       "prompt_number": 48,
       "text": [
        "9x2 Array{Polyopt.Poly{Float64},2}:\n",
        " 1.0  0.9999999994991451 \n",
        " x1   0.10269915871778719\n",
        " x2   0.10000001088281223\n",
        " x3   0.5485234345567718 \n",
        " x4   0.2650631144273248 \n",
        " x5   0.2805906229740244 \n",
        " x6   0.13493687335956642\n",
        " x7   0.2844724881381586 \n",
        " x8   0.3805906201257374 "
       ]
      }
     ],
     "prompt_number": 48
    },
    {
     "cell_type": "markdown",
     "metadata": {},
     "source": [
      "is feasible"
     ]
    },
    {
     "cell_type": "code",
     "collapsed": false,
     "input": [
      "[ Polyopt.evalpoly(gi, y[2:9]) for gi=g ]"
     ],
     "language": "python",
     "metadata": {},
     "outputs": [
      {
       "metadata": {},
       "output_type": "pyout",
       "prompt_number": 49,
       "text": [
        "22-element Array{Any,1}:\n",
        "  1.22131e-8 \n",
        "  3.31514e-9 \n",
        "  2.84829e-9 \n",
        " -2.99254e-9 \n",
        " -9.86025e-10\n",
        " -2.36317e-9 \n",
        "  0.0926992  \n",
        "  0.897301   \n",
        "  1.08828e-8 \n",
        "  0.9        \n",
        "  0.448523   \n",
        "  0.451477   \n",
        "  0.255063   \n",
        "  0.734937   \n",
        "  0.270591   \n",
        "  0.719409   \n",
        "  0.124937   \n",
        "  0.865063   \n",
        "  0.274472   \n",
        "  0.715528   \n",
        "  0.370591   \n",
        "  0.619409   "
       ]
      }
     ],
     "prompt_number": 49
    },
    {
     "cell_type": "markdown",
     "metadata": {},
     "source": [
      "Now, let us form the chordal moment relaxation using a chordal embedding,"
     ]
    },
    {
     "cell_type": "code",
     "collapsed": false,
     "input": [
      "probc = momentprob_chordalembedding(3, f, g);"
     ],
     "language": "python",
     "metadata": {},
     "outputs": [],
     "prompt_number": 50
    },
    {
     "cell_type": "code",
     "collapsed": false,
     "input": [
      "Xc, Zc, tc, yc, solstac = solve_mosek(probc);"
     ],
     "language": "python",
     "metadata": {},
     "outputs": [
      {
       "output_type": "stream",
       "stream": "stdout",
       "text": [
        "Open file 'polyopt.task'\n",
        "Computer\n"
       ]
      },
      {
       "output_type": "stream",
       "stream": "stdout",
       "text": [
        "  Platform               : Linux/64-X86    \n",
        "  Cores                  : 20              \n",
        "\n",
        "Problem\n",
        "  Name                   :                 \n",
        "  Objective sense        : max             \n",
        "  Type                   : CONIC (conic optimization problem)\n",
        "  Constraints            : 3003            \n",
        "  Cones                  : 0               \n",
        "  Scalar variables       : 1               \n",
        "  Matrix variables       : 25              \n",
        "  Integer variables      : 0               \n",
        "\n",
        "Optimizer started.\n",
        "Conic interior-point optimizer started.\n",
        "Presolve started.\n",
        "Linear dependency checker started.\n",
        "Linear dependency checker terminated.\n",
        "Eliminator - tries                  : 0                 time                   : 0.00            \n",
        "Eliminator - elim's                 : 0               \n",
        "Lin. dep.  - tries                  : 1                 time                   : 0.00            \n",
        "Lin. dep.  - number                 : 0               \n",
        "Presolve terminated. Time: 0.00    \n",
        "rnumcone: 0 0\n",
        "rnummcone: 1 numfrli: 2\n",
        "======\n",
        "nrmc: 1.000000e+00 0.000000e+00\n",
        "flops: 3.481786e+06\n",
        "flops: 3.481786e+06\n",
        "flops: 3.481786e+06\n",
        "Factor flops: 3.48e+06 (0.00e+00)\n",
        "Optimizer  - threads                : 8               \n",
        "Optimizer  - solved problem         : the primal      \n",
        "Optimizer  - Constraints            : 364\n",
        "Optimizer  - Cones                  : 1\n",
        "Optimizer  - Scalar variables       : 2                 conic                  : 2               \n",
        "Optimizer  - Semi-definite variables: 25                scalarized             : 2650            \n",
        "Factor     - setup time             : 0.01              dense det. time        : 0.00            \n",
        "Factor     - ML order time          : 0.00              GP order time          : 0.00            \n",
        "Factor     - nonzeros before factor : 2.92e+04          after factor           : 2.92e+04        \n",
        "Factor     - dense dim.             : 0                 flops                  : 5.87e+06        \n",
        "ITE PFEAS    DFEAS    GFEAS    PRSTATUS   POBJ              DOBJ              MU       TIME  \n",
        "0   1.1e+01  1.0e+00  1.0e+00  0.00e+00   0.000000000e+00   0.000000000e+00   1.0e+00  0.03  \n",
        "1   4.3e+00  3.8e-01  1.1e+00  1.40e+00   7.666775576e-02   2.268609009e-01   3.8e-01  0.04  \n",
        "2   1.3e+00  1.1e-01  6.1e-01  1.72e+00   3.307993684e-01   3.558156891e-01   1.1e-01  0.05  \n",
        "3   5.3e-01  4.6e-02  3.6e-01  1.41e+00   3.397646851e-01   3.462367308e-01   4.6e-02  0.06  \n",
        "4   1.9e-01  1.6e-02  1.6e-01  7.94e-01   4.221306643e-01   4.222097448e-01   1.6e-02  0.08  \n",
        "5   7.0e-02  6.1e-03  7.0e-02  4.54e-01   5.572893148e-01   5.554627852e-01   6.1e-03  0.09  \n",
        "6   2.4e-02  2.1e-03  3.7e-02  5.74e-01   6.715683315e-01   6.707228959e-01   2.1e-03  0.10  \n",
        "7   9.3e-03  8.1e-04  2.1e-02  6.97e-01   7.275621296e-01   7.271554423e-01   8.1e-04  0.11  \n",
        "8   3.1e-03  2.7e-04  1.2e-02  8.69e-01   7.421717690e-01   7.420109097e-01   2.7e-04  0.12  \n"
       ]
      },
      {
       "output_type": "stream",
       "stream": "stdout",
       "text": [
        "9   1.6e-03  1.4e-04  8.0e-03  8.69e-01   7.473683019e-01   7.472707640e-01   1.4e-04  0.13  \n",
        "10  2.8e-04  2.4e-05  3.3e-03  9.56e-01   7.504403964e-01   7.504222262e-01   2.4e-05  0.14  \n",
        "11  4.6e-05  4.0e-06  1.3e-03  9.71e-01   7.511164967e-01   7.511131674e-01   4.0e-06  0.16  \n",
        "12  3.7e-07  3.2e-08  1.2e-04  9.97e-01   7.512216547e-01   7.512216277e-01   3.2e-08  0.17  \n",
        "13  2.3e-08  2.0e-09  2.9e-05  9.98e-01   7.512225388e-01   7.512225371e-01   2.0e-09  0.18  \n",
        "14  7.8e-10  1.1e-09  5.3e-06  1.00e+00   7.512226011e-01   7.512226010e-01   6.7e-11  0.19  \n",
        "Interior-point optimizer terminated. Time: 0.19. \n",
        "\n",
        "Optimizer terminated. Time: 0.19    \n",
        "\n",
        "Interior-point solution summary\n",
        "  Problem status  : PRIMAL_AND_DUAL_FEASIBLE\n",
        "  Solution status : OPTIMAL\n",
        "  Primal.  obj: 7.5122260108e-01    Viol.  con: 1e-09    var: 0e+00    barvar: 0e+00  \n",
        "  Dual.    obj: 7.5122260102e-01    Viol.  con: 0e+00    var: 1e-10    barvar: 1e-10  \n"
       ]
      }
     ],
     "prompt_number": 51
    },
    {
     "cell_type": "code",
     "collapsed": false,
     "input": [
      "[ prob.basis[1:9] y[1:9] yc[1:9] ]"
     ],
     "language": "python",
     "metadata": {},
     "outputs": [
      {
       "metadata": {},
       "output_type": "pyout",
       "prompt_number": 52,
       "text": [
        "9x3 Array{Polyopt.Poly{Float64},2}:\n",
        " 1.0  0.9999999994991451   0.9999999998559402 \n",
        " x1   0.10269915871778719  0.10269343120530289\n",
        " x2   0.10000001088281223  0.10000000435387699\n",
        " x3   0.5485234345567718   0.5485291654603446 \n",
        " x4   0.2650631144273248   0.26505899468797384\n",
        " x5   0.2805906229740244   0.28058833251914567\n",
        " x6   0.13493687335956642  0.13494100097230263\n",
        " x7   0.2844724881381586   0.2844706611613501 \n",
        " x8   0.3805906201257374   0.38058833138113796"
       ]
      }
     ],
     "prompt_number": 52
    }
   ],
   "metadata": {}
  }
 ]
}