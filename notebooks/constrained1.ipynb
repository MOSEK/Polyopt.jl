{
 "metadata": {
  "name": ""
 },
 "nbformat": 3,
 "nbformat_minor": 0,
 "worksheets": [
  {
   "cells": [
    {
     "cell_type": "heading",
     "level": 1,
     "metadata": {},
     "source": [
      "Constrained minimization example"
     ]
    },
    {
     "cell_type": "markdown",
     "metadata": {},
     "source": [
      "We consider the simple example from the <b>Gloptipoly</b> manual,"
     ]
    },
    {
     "cell_type": "markdown",
     "metadata": {},
     "source": [
      "\\begin{array}{ll}\n",
      "\\text{minimize} & -2 x_1 + x_2 - x_3\\\\\n",
      "\\text{subject to} & 24 - 20 x_1 + 9 x_2 - 13 x_3 + 4 x_1^2 - 4 x_1 x_2 + 4 x_1 x_3 + 2 x_2^2 - 2 x_2 x_3 + 2 x_3^2 \\geq 0\\\\\n",
      "& x_1 + x_2 + x_3 \\leq 4, \\quad 3 x_2 \\leq 6\\\\\n",
      "& 0 \\leq x_1 \\leq 2, \\quad 0 \\leq x_2, \\quad 0\\leq x_3\\leq 3\n",
      "\\end{array}"
     ]
    },
    {
     "cell_type": "code",
     "collapsed": false,
     "input": [
      "using Polyopt"
     ],
     "language": "python",
     "metadata": {},
     "outputs": [
      {
       "output_type": "stream",
       "stream": "stderr",
       "text": [
        "Warning: New definition \n",
        "    convert(Type"
       ]
      },
      {
       "output_type": "stream",
       "stream": "stderr",
       "text": [
        "{Polyopt.Poly{S<:Number}},T<:Number) at /home/joachim/.julia/v0.4/Polyopt/src/polynomial.jl:135\n",
        "is ambiguous with: \n",
        "    convert(Type{T},T) at base.jl:40.\n",
        "To fix, define \n",
        "    convert(Type{Polyopt.Poly{S<:Number}},_<:Polyopt.Poly{S<:Number})\n",
        "before the new definition.\n",
        "WARNING: dlopen_e is deprecated, use Libdl.dlopen_e instead."
       ]
      },
      {
       "output_type": "stream",
       "stream": "stderr",
       "text": [
        "\n",
        " in depwarn at ./deprecated.jl:40\n",
        " in dlopen_e at deprecated.jl:10\n",
        " in anonymous at /home/joachim/.julia/v0.4/Mosek/src/../deps/deps.jl:4\n",
        " in include at ./boot.jl:250\n",
        " in include_from_node1 at ./loading.jl:129\n",
        " in include at ./boot.jl:250\n",
        " in include_from_node1 at ./loading.jl:129\n",
        " in reload_path at ./loading.jl:153\n",
        " in _require at ./loading.jl:68\n",
        " in require at ./loading.jl:54\n",
        " in include at ./boot.jl:250\n",
        " in include_from_node1 at ./loading.jl:129\n",
        " in include at ./boot.jl:250\n",
        " in include_from_node1 at ./loading.jl:129\n",
        " in reload_path at ./loading.jl:153\n",
        " in _require at ./loading.jl:68\n",
        " in require at ./loading.jl:51\n",
        " in include_string at loading.jl:98\n",
        " in execute_request_0x535c5df2 at /home/joachim/.julia/v0.4/IJulia/src/execute_request.jl:157\n",
        " in eventloop at /home/joachim/.julia/v0.4/IJulia/src/IJulia.jl:123\n",
        " in anonymous at task.jl:361\n",
        "WARNING: int32(x) is deprecated, use Int32(x) instead."
       ]
      },
      {
       "output_type": "stream",
       "stream": "stderr",
       "text": [
        "\n",
        " in depwarn at ./deprecated.jl:40\n",
        " in int32 at deprecated.jl:29\n",
        " in include at ./boot.jl:250\n",
        " in include_from_node1 at ./loading.jl:129\n",
        " in include at ./boot.jl:250\n",
        " in include_from_node1 at ./loading.jl:129\n",
        " in reload_path at ./loading.jl:153\n",
        " in _require at ./loading.jl:68\n",
        " in require at ./loading.jl:54\n",
        " in include at ./boot.jl:250\n",
        " in include_from_node1 at ./loading.jl:129\n",
        " in include at ./boot.jl:250\n",
        " in include_from_node1 at ./loading.jl:129\n",
        " in reload_path at ./loading.jl:153\n",
        " in _require at ./loading.jl:68\n",
        " in require at ./loading.jl:51\n",
        " in include_string at loading.jl:98\n",
        " in execute_request_0x535c5df2 at /home/joachim/.julia/v0.4/IJulia/src/execute_request.jl:157\n",
        " in eventloop at /home/joachim/.julia/v0.4/IJulia/src/IJulia.jl:123\n",
        " in anonymous at task.jl:361\n",
        "WARNING: int8(x) is deprecated, use Int8(x) instead."
       ]
      },
      {
       "output_type": "stream",
       "stream": "stderr",
       "text": [
        "\n",
        " in depwarn at ./deprecated.jl:40\n",
        " in int8 at deprecated.jl:29\n",
        " in include at ./boot.jl:250\n",
        " in include_from_node1 at ./loading.jl:129\n",
        " in include at ./boot.jl:250\n",
        " in include_from_node1 at ./loading.jl:129\n",
        " in reload_path at ./loading.jl:153\n",
        " in _require at ./loading.jl:68\n",
        " in require at ./loading.jl:54\n",
        " in include at ./boot.jl:250\n",
        " in include_from_node1 at ./loading.jl:129\n",
        " in include at ./boot.jl:250\n",
        " in include_from_node1 at ./loading.jl:129\n",
        " in reload_path at ./loading.jl:153\n",
        " in _require at ./loading.jl:68\n",
        " in require at ./loading.jl:51\n",
        " in include_string at loading.jl:98\n",
        " in execute_request_0x535c5df2 at /home/joachim/.julia/v0.4/IJulia/src/execute_request.jl:157\n",
        " in eventloop at /home/joachim/.julia/v0.4/IJulia/src/IJulia.jl:123\n",
        " in anonymous at task.jl:361\n"
       ]
      }
     ],
     "prompt_number": 2
    },
    {
     "cell_type": "code",
     "collapsed": false,
     "input": [
      "x1, x2, x3 = variables([\"x1\",\"x2\",\"x3\"])"
     ],
     "language": "python",
     "metadata": {},
     "outputs": [
      {
       "metadata": {},
       "output_type": "pyout",
       "prompt_number": 3,
       "text": [
        "3-element Array{Polyopt.Poly{Int64},1}:\n",
        " x1\n",
        " x2\n",
        " x3"
       ]
      }
     ],
     "prompt_number": 3
    },
    {
     "cell_type": "code",
     "collapsed": false,
     "input": [
      "f = -2*x1 + x2 - x3"
     ],
     "language": "python",
     "metadata": {},
     "outputs": [
      {
       "metadata": {},
       "output_type": "pyout",
       "prompt_number": 4,
       "text": [
        "-2*x1+x2-x3"
       ]
      }
     ],
     "prompt_number": 4
    },
    {
     "cell_type": "code",
     "collapsed": false,
     "input": [
      "g = [24 - 20*x1 + 9*x2 - 13*x3 + 4*x1^2 - 4*x1*x2 + 4*x1*x3 + 2*x2^2 - 2*x2*x3 + 2*x3^2,\n",
      "     4 - (x1 + x2 + x3),\n",
      "     6 - (3*x2 + x3),\n",
      "     x1, 2-x1, \n",
      "     x2, \n",
      "     x3, 3-x3]"
     ],
     "language": "python",
     "metadata": {},
     "outputs": [
      {
       "metadata": {},
       "output_type": "pyout",
       "prompt_number": 5,
       "text": [
        "8-element Array{Polyopt.Poly{Int64},1}:\n",
        " 24-20*x1+9*x2-13*x3+4*x1^2-4*x1*x2+4*x1*x3+2*x2^2-2*x2*x3+2*x3^2\n",
        " 4-x1-x2-x3                                                      \n",
        " 6-3*x2-x3                                                       \n",
        " x1                                                              \n",
        " 2-x1                                                            \n",
        " x2                                                              \n",
        " x3                                                              \n",
        " 3-x3                                                            "
       ]
      }
     ],
     "prompt_number": 5
    },
    {
     "cell_type": "code",
     "collapsed": false,
     "input": [
      "objperp = 1e-4*dot(randn(3), [x1,x2,x3])"
     ],
     "language": "python",
     "metadata": {},
     "outputs": [
      {
       "metadata": {},
       "output_type": "pyout",
       "prompt_number": 39,
       "text": [
        "1.6514855444974122e-5*x1-7.01374565506759e-5*x2-0.00016366118491008852*x3"
       ]
      }
     ],
     "prompt_number": 39
    },
    {
     "cell_type": "markdown",
     "metadata": {},
     "source": [
      "Let us form the fourth order relaxation (lower orders gives higher bounds on the objective),"
     ]
    },
    {
     "cell_type": "code",
     "collapsed": false,
     "input": [
      "prob = momentprob(4, f + objperp, g);"
     ],
     "language": "python",
     "metadata": {},
     "outputs": [
      {
       "output_type": "stream",
       "stream": "stderr",
       "text": [
        "WARNING: [a] concatenation is deprecated; use [a;] instead\n"
       ]
      },
      {
       "output_type": "stream",
       "stream": "stderr",
       "text": [
        " in depwarn at ./deprecated.jl:40\n",
        " in oldstyle_vcat_warning at ./abstractarray.jl:26\n",
        " in indexmap at /home/joachim/.julia/v0.4/Polyopt/src/Polyopt.jl:91\n",
        " in momentprob at /home/joachim/.julia/v0.4/Polyopt/src/Polyopt.jl:142\n",
        " in momentprob at /home/joachim/.julia/v0.4/Polyopt/src/Polyopt.jl:176\n",
        " in include_string at loading.jl:98\n",
        " in execute_request_0x535c5df2 at /home/joachim/.julia/v0.4/IJulia/src/execute_request.jl:157\n",
        " in eventloop at /home/joachim/.julia/v0.4/IJulia/src/IJulia.jl:123\n",
        " in anonymous at task.jl:361\n"
       ]
      }
     ],
     "prompt_number": 40
    },
    {
     "cell_type": "code",
     "collapsed": false,
     "input": [
      "X, t, y, solsta = solve_mosek(prob);"
     ],
     "language": "python",
     "metadata": {},
     "outputs": [
      {
       "output_type": "stream",
       "stream": "stdout",
       "text": [
        "Open file 'polyopt.task'\n",
        "Computer\n"
       ]
      },
      {
       "output_type": "stream",
       "stream": "stdout",
       "text": [
        "  Platform               : Linux/64-X86    \n",
        "  Cores                  : 20              \n",
        "\n",
        "Problem\n",
        "  Name                   :                 \n",
        "  Objective sense        : max             \n",
        "  Type                   : CONIC (conic optimization problem)\n",
        "  Constraints            : 165             \n",
        "  Cones                  : 0               \n",
        "  Scalar variables       : 1               \n",
        "  Matrix variables       : 9               \n",
        "  Integer variables      : 0               \n",
        "\n",
        "Optimizer started.\n",
        "Conic interior-point optimizer started.\n",
        "Presolve started.\n",
        "Linear dependency checker started.\n",
        "Linear dependency checker terminated.\n",
        "Eliminator - tries                  : 0                 time                   : 0.00            \n",
        "Eliminator - elim's                 : 0               \n",
        "Lin. dep.  - tries                  : 1                 time                   : 0.00            \n",
        "Lin. dep.  - number                 : 0               \n",
        "Presolve terminated. Time: 0.00    \n",
        "rnumcone: 0 0\n",
        "rnummcone: 1 numfrli: 2\n",
        "======\n",
        "nrmc: 1.000000e+00 0.000000e+00\n",
        "flops: 1.497320e+06\n",
        "flops: 1.497320e+06\n",
        "flops: 1.497320e+06\n",
        "Factor flops: 1.50e+06 (0.00e+00)\n",
        "Optimizer  - threads                : 8               \n",
        "Optimizer  - solved problem         : the primal      \n",
        "Optimizer  - Constraints            : 165\n",
        "Optimizer  - Cones                  : 1\n",
        "Optimizer  - Scalar variables       : 2                 conic                  : 2               \n",
        "Optimizer  - Semi-definite variables: 9                 scalarized             : 2310            \n",
        "Factor     - setup time             : 0.00              dense det. time        : 0.00            \n",
        "Factor     - ML order time          : 0.00              GP order time          : 0.00            \n",
        "Factor     - nonzeros before factor : 1.37e+04          after factor           : 1.37e+04        \n",
        "Factor     - dense dim.             : 0                 flops                  : 4.63e+06        \n",
        "ITE PFEAS    DFEAS    GFEAS    PRSTATUS   POBJ              DOBJ              MU       TIME  \n",
        "0   1.5e+00  1.0e+00  1.0e+00  0.00e+00   0.000000000e+00   0.000000000e+00   1.0e+00  0.01  \n",
        "1   5.8e-01  3.8e-01  3.0e-01  -2.46e-02  5.353576830e-01   -2.499916069e-01  3.8e-01  0.02  \n",
        "2   2.5e-01  1.7e-01  1.6e-01  -5.68e-02  -3.874807416e-03  -6.490569520e-01  1.7e-01  0.02  \n",
        "3   1.0e-01  6.6e-02  1.3e-01  8.27e-01   -7.828297858e-01  -8.574362891e-01  6.6e-02  0.03  \n",
        "4   4.5e-02  3.0e-02  9.2e-02  1.21e+00   -1.102635314e+00  -1.141219818e+00  3.0e-02  0.04  \n",
        "5   1.1e-02  7.5e-03  4.6e-02  1.15e+00   -1.608128438e+00  -1.618403799e+00  7.5e-03  0.05  \n",
        "6   4.2e-03  2.8e-03  1.9e-02  5.77e-01   -2.336231410e+00  -2.349223415e+00  2.8e-03  0.06  \n",
        "7   1.6e-03  1.1e-03  1.1e-02  7.56e-01   -2.850049139e+00  -2.856416635e+00  1.1e-03  0.07  \n",
        "8   5.7e-04  3.8e-04  6.3e-03  9.13e-01   -3.152658309e+00  -3.155017806e+00  3.8e-04  0.08  \n",
        "9   3.0e-04  2.0e-04  3.4e-03  6.23e-01   -3.280276222e+00  -3.282912590e+00  2.0e-04  0.09  \n",
        "10  1.4e-04  9.1e-05  1.9e-03  6.88e-01   -3.438661646e+00  -3.440461777e+00  9.1e-05  0.09  \n",
        "11  7.2e-05  4.8e-05  9.9e-04  2.58e-01   -3.556957839e+00  -3.558943888e+00  4.8e-05  0.10  \n"
       ]
      },
      {
       "output_type": "stream",
       "stream": "stdout",
       "text": [
        "12  2.6e-05  1.8e-05  4.6e-04  3.73e-01   -3.773137077e+00  -3.774437543e+00  1.8e-05  0.11  \n",
        "13  3.4e-06  2.2e-06  1.7e-04  7.94e-01   -3.968121594e+00  -3.968276069e+00  2.2e-06  0.12  \n",
        "14  8.1e-07  5.4e-07  7.7e-05  1.03e+00   -3.992250089e+00  -3.992294069e+00  5.4e-07  0.13  \n",
        "15  5.5e-08  3.7e-08  2.0e-05  1.03e+00   -3.999444719e+00  -3.999447565e+00  3.7e-08  0.14  \n",
        "16  9.2e-09  6.4e-09  8.2e-06  1.00e+00   -3.999880178e+00  -3.999880672e+00  6.1e-09  0.15  \n",
        "17  6.0e-09  4.5e-09  6.6e-06  1.00e+00   -3.999920455e+00  -3.999920782e+00  3.9e-09  0.16  \n",
        "18  6.0e-09  4.5e-09  6.6e-06  2.75e+00   -3.999920455e+00  -3.999920782e+00  3.9e-09  0.18  \n",
        "Interior-point optimizer terminated. Time: 0.18. \n",
        "\n",
        "Optimizer terminated. Time: 0.19    \n",
        "\n",
        "Interior-point solution summary\n",
        "  Problem status  : PRIMAL_AND_DUAL_FEASIBLE\n",
        "  Solution status : NEAR_OPTIMAL\n",
        "  Primal.  obj: -3.9999204549e+00   Viol.  con: 2e-06    var: 0e+00    barvar: 0e+00  \n",
        "  Dual.    obj: -3.9999207817e+00   Viol.  con: 0e+00    var: 3e-08    barvar: 5e-08  \n"
       ]
      }
     ],
     "prompt_number": 41
    },
    {
     "cell_type": "markdown",
     "metadata": {},
     "source": [
      "The solver stalls in the end with a near-optimal solution"
     ]
    },
    {
     "cell_type": "code",
     "collapsed": false,
     "input": [
      "t"
     ],
     "language": "python",
     "metadata": {},
     "outputs": [
      {
       "metadata": {},
       "output_type": "pyout",
       "prompt_number": 42,
       "text": [
        "-3.9999204548882545"
       ]
      }
     ],
     "prompt_number": 42
    },
    {
     "cell_type": "code",
     "collapsed": false,
     "input": [
      "[prob.basis[1:10] y[1:10]]"
     ],
     "language": "python",
     "metadata": {},
     "outputs": [
      {
       "metadata": {},
       "output_type": "pyout",
       "prompt_number": 43,
       "text": [
        "10x2 Array{Polyopt.Poly{Float64},2}:\n",
        " 1.0    0.999999974513855    \n",
        " x1     1.9683157972732577   \n",
        " x2     4.7208781797845286e-5\n",
        " x3     0.06335852973318216  \n",
        " x1^2   3.920773992693543    \n",
        " x1*x2  4.9641090656098766e-5\n",
        " x1*x3  0.03171366697171513  \n",
        " x2^2   3.7258161513015474e-5\n",
        " x2*x3  8.2631468064656e-5   \n",
        " x3^2   0.19002534509304536  "
       ]
      }
     ],
     "prompt_number": 43
    },
    {
     "cell_type": "code",
     "collapsed": false,
     "input": [
      "Polyopt.evalpoly(f, y[2:4])"
     ],
     "language": "python",
     "metadata": {},
     "outputs": [
      {
       "metadata": {},
       "output_type": "pyout",
       "prompt_number": 44,
       "text": [
        "-3.9999429154978996"
       ]
      }
     ],
     "prompt_number": 44
    },
    {
     "cell_type": "code",
     "collapsed": false,
     "input": [
      "[ Polyopt.evalpoly(gi, y[2:4]) for gi=g ]"
     ],
     "language": "python",
     "metadata": {},
     "outputs": [
      {
       "metadata": {},
       "output_type": "pyout",
       "prompt_number": 45,
       "text": [
        "8-element Array{Any,1}:\n",
        " -0.185994  \n",
        "  1.96828   \n",
        "  5.9365    \n",
        "  1.96832   \n",
        "  0.0316842 \n",
        "  4.72088e-5\n",
        "  0.0633585 \n",
        "  2.93664   "
       ]
      }
     ],
     "prompt_number": 45
    },
    {
     "cell_type": "markdown",
     "metadata": {},
     "source": [
      "The near-optimal solution is far from feasible!"
     ]
    },
    {
     "cell_type": "heading",
     "level": 2,
     "metadata": {},
     "source": [
      "Rescaling the problem"
     ]
    },
    {
     "cell_type": "markdown",
     "metadata": {},
     "source": [
      "The resulting semidefinite problems are very sensitive to scaling of the data, and can easily be ill-posed. Let us rescale the model, so that $0\\leq x_1 \\leq 1$ and $0\\leq x_3 \\leq 1$,"
     ]
    },
    {
     "cell_type": "code",
     "collapsed": false,
     "input": [
      "fs = -2*2*x1 + x2 - 3*x3"
     ],
     "language": "python",
     "metadata": {},
     "outputs": [
      {
       "metadata": {},
       "output_type": "pyout",
       "prompt_number": 46,
       "text": [
        "-4*x1+x2-3*x3"
       ]
      }
     ],
     "prompt_number": 46
    },
    {
     "cell_type": "code",
     "collapsed": false,
     "input": [
      "gs = [24 - 20*2*x1 + 9*x2 - 13*3*x3 + 4*4*x1^2 - 4*2*x1*x2 + 4*2*3*x1*x3 + 2*x2^2 - 2*3*x2*x3 + 2*9*x3^2,\n",
      "      4 - (2*x1 + x2 + 3*x3),\n",
      "      6 - (3*x2 + 3*x3),\n",
      "      x1, 1-x1, \n",
      "      x2, \n",
      "      x3, 1-x3]"
     ],
     "language": "python",
     "metadata": {},
     "outputs": [
      {
       "metadata": {},
       "output_type": "pyout",
       "prompt_number": 47,
       "text": [
        "8-element Array{Polyopt.Poly{Int64},1}:\n",
        " 24-40*x1+9*x2-39*x3+16*x1^2-8*x1*x2+24*x1*x3+2*x2^2-6*x2*x3+18*x3^2\n",
        " 4-2*x1-x2-3*x3                                                     \n",
        " 6-3*x2-3*x3                                                        \n",
        " x1                                                                 \n",
        " 1-x1                                                               \n",
        " x2                                                                 \n",
        " x3                                                                 \n",
        " 1-x3                                                               "
       ]
      }
     ],
     "prompt_number": 47
    },
    {
     "cell_type": "code",
     "collapsed": false,
     "input": [
      "probs = momentprob(4, fs + objperp, gs);"
     ],
     "language": "python",
     "metadata": {},
     "outputs": [
      {
       "output_type": "stream",
       "stream": "stderr",
       "text": [
        "WARNING: [a] concatenation is deprecated; use [a;] instead\n"
       ]
      },
      {
       "output_type": "stream",
       "stream": "stderr",
       "text": [
        " in depwarn at ./deprecated.jl:40\n",
        " in oldstyle_vcat_warning at ./abstractarray.jl:26\n",
        " in indexmap at /home/joachim/.julia/v0.4/Polyopt/src/Polyopt.jl:91\n",
        " in momentprob at /home/joachim/.julia/v0.4/Polyopt/src/Polyopt.jl:142\n",
        " in momentprob at /home/joachim/.julia/v0.4/Polyopt/src/Polyopt.jl:176\n",
        " in include_string at loading.jl:98\n",
        " in execute_request_0x535c5df2 at /home/joachim/.julia/v0.4/IJulia/src/execute_request.jl:157\n",
        " in eventloop at /home/joachim/.julia/v0.4/IJulia/src/IJulia.jl:123\n",
        " in anonymous at task.jl:361\n"
       ]
      }
     ],
     "prompt_number": 48
    },
    {
     "cell_type": "code",
     "collapsed": false,
     "input": [
      "Xs, ts, ys, solsta = solve_mosek(probs);"
     ],
     "language": "python",
     "metadata": {},
     "outputs": [
      {
       "output_type": "stream",
       "stream": "stdout",
       "text": [
        "Open file 'polyopt.task'\n",
        "Computer\n"
       ]
      },
      {
       "output_type": "stream",
       "stream": "stdout",
       "text": [
        "  Platform               : Linux/64-X86    \n",
        "  Cores                  : 20              \n",
        "\n",
        "Problem\n",
        "  Name                   :                 \n",
        "  Objective sense        : max             \n",
        "  Type                   : CONIC (conic optimization problem)\n",
        "  Constraints            : 165             \n",
        "  Cones                  : 0               \n",
        "  Scalar variables       : 1               \n",
        "  Matrix variables       : 9               \n",
        "  Integer variables      : 0               \n",
        "\n",
        "Optimizer started.\n",
        "Conic interior-point optimizer started.\n",
        "Presolve started.\n",
        "Linear dependency checker started.\n",
        "Linear dependency checker terminated.\n",
        "Eliminator - tries                  : 0                 time                   : 0.00            \n",
        "Eliminator - elim's                 : 0               \n",
        "Lin. dep.  - tries                  : 1                 time                   : 0.00            \n",
        "Lin. dep.  - number                 : 0               \n",
        "Presolve terminated. Time: 0.00    \n",
        "rnumcone: 0 0\n",
        "rnummcone: 1 numfrli: 2\n",
        "======\n",
        "nrmc: 1.000000e+00 0.000000e+00\n",
        "flops: 1.497320e+06\n",
        "flops: 1.497320e+06\n",
        "flops: 1.497320e+06\n",
        "Factor flops: 1.50e+06 (0.00e+00)\n",
        "Optimizer  - threads                : 8               \n",
        "Optimizer  - solved problem         : the primal      \n",
        "Optimizer  - Constraints            : 165\n",
        "Optimizer  - Cones                  : 1\n",
        "Optimizer  - Scalar variables       : 2                 conic                  : 2               \n",
        "Optimizer  - Semi-definite variables: 9                 scalarized             : 2310            \n",
        "Factor     - setup time             : 0.00              dense det. time        : 0.00            \n",
        "Factor     - ML order time          : 0.00              GP order time          : 0.00            \n",
        "Factor     - nonzeros before factor : 1.37e+04          after factor           : 1.37e+04        \n",
        "Factor     - dense dim.             : 0                 flops                  : 4.63e+06        \n",
        "ITE PFEAS    DFEAS    GFEAS    PRSTATUS   POBJ              DOBJ              MU       TIME  \n",
        "0   1.2e+00  1.0e+00  1.0e+00  0.00e+00   0.000000000e+00   0.000000000e+00   1.0e+00  0.01  \n",
        "1   4.5e-01  3.7e-01  2.3e-01  -6.20e-01  -1.152392930e+00  -2.686184989e+00  3.7e-01  0.02  \n",
        "2   2.7e-01  2.2e-01  8.1e-01  1.63e+00   -2.779217614e+00  -2.496332956e+00  2.2e-01  0.02  \n",
        "3   8.5e-02  7.0e-02  4.4e-01  1.33e+00   -3.355929691e+00  -3.295515572e+00  7.0e-02  0.03  \n",
        "4   3.6e-02  3.0e-02  2.2e-01  1.41e+00   -3.778187064e+00  -3.764356156e+00  3.0e-02  0.04  \n",
        "5   1.5e-02  1.3e-02  1.4e-01  1.15e+00   -3.936144125e+00  -3.931295868e+00  1.3e-02  0.05  \n",
        "6   6.8e-03  5.6e-03  8.7e-02  1.10e+00   -3.948628870e+00  -3.947144242e+00  5.6e-03  0.06  \n",
        "7   3.6e-03  2.9e-03  5.9e-02  1.02e+00   -3.957068155e+00  -3.956503128e+00  2.9e-03  0.07  \n",
        "8   1.1e-03  9.0e-04  3.3e-02  1.09e+00   -3.987915490e+00  -3.987793392e+00  9.0e-04  0.08  \n",
        "9   3.9e-04  3.2e-04  1.9e-02  1.01e+00   -3.994067569e+00  -3.994043575e+00  3.2e-04  0.09  \n",
        "10  4.5e-05  3.7e-05  6.6e-03  1.05e+00   -3.999453198e+00  -3.999449342e+00  3.7e-05  0.09  \n",
        "11  3.3e-06  2.7e-06  1.8e-03  1.02e+00   -4.000096581e+00  -4.000096167e+00  2.7e-06  0.10  \n"
       ]
      },
      {
       "output_type": "stream",
       "stream": "stdout",
       "text": [
        "12  9.9e-08  8.1e-08  3.6e-04  1.05e+00   -4.000157532e+00  -4.000157508e+00  8.1e-08  0.11  \n",
        "13  6.6e-09  5.8e-09  9.1e-05  9.96e-01   -4.000159407e+00  -4.000159406e+00  5.4e-09  0.12  \n",
        "14  7.6e-10  1.8e-08  2.5e-05  9.99e-01   -4.000159526e+00  -4.000159526e+00  4.0e-10  0.13  \n",
        "Interior-point optimizer terminated. Time: 0.13. \n",
        "\n",
        "Optimizer terminated. Time: 0.13    \n",
        "\n",
        "Interior-point solution summary\n",
        "  Problem status  : PRIMAL_AND_DUAL_FEASIBLE\n",
        "  Solution status : OPTIMAL\n",
        "  Primal.  obj: -4.0001595259e+00   Viol.  con: 4e-08    var: 0e+00    barvar: 0e+00  \n",
        "  Dual.    obj: -4.0001595258e+00   Viol.  con: 0e+00    var: 5e-11    barvar: 3e-10  \n"
       ]
      }
     ],
     "prompt_number": 49
    },
    {
     "cell_type": "markdown",
     "metadata": {},
     "source": [
      "The solution status for rescaled is optimal,"
     ]
    },
    {
     "cell_type": "code",
     "collapsed": false,
     "input": [
      "[probs.basis[1:10] ys[1:10]]"
     ],
     "language": "python",
     "metadata": {},
     "outputs": [
      {
       "metadata": {},
       "output_type": "pyout",
       "prompt_number": 50,
       "text": [
        "10x2 Array{Polyopt.Poly{Float64},2}:\n",
        " 1.0    0.9999999999526165   \n",
        " x1     0.2500237573766635   \n",
        " x2     1.1362511407479293e-8\n",
        " x3     0.9999683269121611   \n",
        " x1^2   0.06252969610286753  \n",
        " x1*x2  7.177969677384048e-9 \n",
        " x1*x3  0.24999208613846519  \n",
        " x2^2   1.0805050544520567e-8\n",
        " x2*x3  5.3754175687180195e-9\n",
        " x3^2   0.9999683258617588   "
       ]
      }
     ],
     "prompt_number": 50
    },
    {
     "cell_type": "code",
     "collapsed": false,
     "input": [
      "Polyopt.evalpoly(fs, ys[2:4])"
     ],
     "language": "python",
     "metadata": {},
     "outputs": [
      {
       "metadata": {},
       "output_type": "pyout",
       "prompt_number": 51,
       "text": [
        "-3.9999999988806256"
       ]
      }
     ],
     "prompt_number": 51
    },
    {
     "cell_type": "code",
     "collapsed": false,
     "input": [
      "[ Polyopt.evalpoly(gi, ys[2:4]) for gi=gs ]"
     ],
     "language": "python",
     "metadata": {},
     "outputs": [
      {
       "metadata": {},
       "output_type": "pyout",
       "prompt_number": 52,
       "text": [
        "8-element Array{Any,1}:\n",
        " -0.000285058\n",
        "  0.500047   \n",
        "  3.00009    \n",
        "  0.250024   \n",
        "  0.749976   \n",
        "  1.13625e-8 \n",
        "  0.999968   \n",
        "  3.16731e-5 "
       ]
      }
     ],
     "prompt_number": 52
    },
    {
     "cell_type": "markdown",
     "metadata": {},
     "source": [
      "and the computed solution is feasible."
     ]
    }
   ],
   "metadata": {}
  }
 ]
}