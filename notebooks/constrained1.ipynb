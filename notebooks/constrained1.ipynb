{
 "metadata": {
  "name": ""
 },
 "nbformat": 3,
 "nbformat_minor": 0,
 "worksheets": [
  {
   "cells": [
    {
     "cell_type": "heading",
     "level": 1,
     "metadata": {},
     "source": [
      "Constrained minimization example"
     ]
    },
    {
     "cell_type": "markdown",
     "metadata": {},
     "source": [
      "We consider the simple example from the <b>Gloptipoly</b> manual,"
     ]
    },
    {
     "cell_type": "markdown",
     "metadata": {},
     "source": [
      "\\begin{array}{ll}\n",
      "\\text{minimize} & -2 x_1 + x_2 - x_3\\\\\n",
      "\\text{subject to} & 24 - 20 x_1 + 9 x_2 - 13 x_3 + 4 x_1^2 - 4 x_1 x_2 + 4 x_1 x_3 + 2 x_2^2 - 2 x_2 x_3 + 2 x_3^2 \\geq 0\\\\\n",
      "& x_1 + x_2 + x_3 \\leq 4, \\quad 3 x_2 \\leq 6\\\\\n",
      "& 0 \\leq x_1 \\leq 2, \\quad 0 \\leq x_2, \\quad 0\\leq x_3\\leq 3\n",
      "\\end{array}"
     ]
    },
    {
     "cell_type": "code",
     "collapsed": false,
     "input": [
      "using Polyopt"
     ],
     "language": "python",
     "metadata": {},
     "outputs": [],
     "prompt_number": 1
    },
    {
     "cell_type": "markdown",
     "metadata": {},
     "source": [
      "We define the variables"
     ]
    },
    {
     "cell_type": "code",
     "collapsed": false,
     "input": [
      "x1, x2, x3 = variables([\"x1\",\"x2\",\"x3\"]);"
     ],
     "language": "python",
     "metadata": {},
     "outputs": [],
     "prompt_number": 2
    },
    {
     "cell_type": "markdown",
     "metadata": {},
     "source": [
      "and the objective function"
     ]
    },
    {
     "cell_type": "code",
     "collapsed": false,
     "input": [
      "f = -2*x1 + x2 - x3;"
     ],
     "language": "python",
     "metadata": {},
     "outputs": [],
     "prompt_number": 3
    },
    {
     "cell_type": "markdown",
     "metadata": {},
     "source": [
      "and an array with all inequalities in the form $g_i(x) \\geq 0$,"
     ]
    },
    {
     "cell_type": "code",
     "collapsed": false,
     "input": [
      "g = [24 - 20*x1 + 9*x2 - 13*x3 + 4*x1^2 - 4*x1*x2 + 4*x1*x3 + 2*x2^2 - 2*x2*x3 + 2*x3^2,\n",
      "     4 - (x1 + x2 + x3),\n",
      "     6 - (3*x2 + x3),\n",
      "     x1, 2-x1, \n",
      "     x2, \n",
      "     x3, 3-x3]"
     ],
     "language": "python",
     "metadata": {},
     "outputs": [
      {
       "metadata": {},
       "output_type": "pyout",
       "prompt_number": 4,
       "text": [
        "8-element Array{Polyopt.Poly{Int64},1}:\n",
        " 24-20*x1+9*x2-13*x3+4*x1^2-4*x1*x2+4*x1*x3+2*x2^2-2*x2*x3+2*x3^2\n",
        " 4-x1-x2-x3                                                      \n",
        " 6-3*x2-x3                                                       \n",
        " x1                                                              \n",
        " 2-x1                                                            \n",
        " x2                                                              \n",
        " x3                                                              \n",
        " 3-x3                                                            "
       ]
      }
     ],
     "prompt_number": 4
    },
    {
     "cell_type": "heading",
     "level": 2,
     "metadata": {},
     "source": [
      "Solving the second-order moment relaxation"
     ]
    },
    {
     "cell_type": "markdown",
     "metadata": {},
     "source": [
      "This problem has multiple optimal minima, so we perturb the problem to locate one of the minimizers,"
     ]
    },
    {
     "cell_type": "code",
     "collapsed": false,
     "input": [
      "prob = momentprob(2, f + 1e-3*(x1+x2+x3), g);"
     ],
     "language": "python",
     "metadata": {},
     "outputs": [],
     "prompt_number": 5
    },
    {
     "cell_type": "markdown",
     "metadata": {},
     "source": [
      "We next solve the problem using MOSEK, turning off log-output:"
     ]
    },
    {
     "cell_type": "code",
     "collapsed": false,
     "input": [
      "X, Z, t, y, solsta = solve_mosek(prob, showlog=false);"
     ],
     "language": "python",
     "metadata": {},
     "outputs": [],
     "prompt_number": 6
    },
    {
     "cell_type": "code",
     "collapsed": false,
     "input": [
      "t"
     ],
     "language": "python",
     "metadata": {},
     "outputs": [
      {
       "metadata": {},
       "output_type": "pyout",
       "prompt_number": 7,
       "text": [
        "-5.688383052090517"
       ]
      }
     ],
     "prompt_number": 7
    },
    {
     "cell_type": "heading",
     "level": 2,
     "metadata": {},
     "source": [
      "Solving the third-order moment relaxation"
     ]
    },
    {
     "cell_type": "code",
     "collapsed": false,
     "input": [
      "prob = momentprob(3, f + 1e-3*(x1+x2+x3), g);"
     ],
     "language": "python",
     "metadata": {},
     "outputs": [],
     "prompt_number": 8
    },
    {
     "cell_type": "code",
     "collapsed": false,
     "input": [
      "X, Z, t, y, solsta = solve_mosek(prob, showlog=false);"
     ],
     "language": "python",
     "metadata": {},
     "outputs": [],
     "prompt_number": 9
    },
    {
     "cell_type": "markdown",
     "metadata": {},
     "source": [
      "The lower bound decreases going from order two to order three,"
     ]
    },
    {
     "cell_type": "code",
     "collapsed": false,
     "input": [
      "t"
     ],
     "language": "python",
     "metadata": {},
     "outputs": [
      {
       "metadata": {},
       "output_type": "pyout",
       "prompt_number": 10,
       "text": [
        "-4.064834293672073"
       ]
      }
     ],
     "prompt_number": 10
    },
    {
     "cell_type": "heading",
     "level": 2,
     "metadata": {},
     "source": [
      "Solving the fourth-order order moment relaxation"
     ]
    },
    {
     "cell_type": "code",
     "collapsed": false,
     "input": [
      "prob = momentprob(4, f + 1e-3*(x1+x2+x3), g);"
     ],
     "language": "python",
     "metadata": {},
     "outputs": [],
     "prompt_number": 11
    },
    {
     "cell_type": "markdown",
     "metadata": {},
     "source": [
      "We solve the fourth-order relaxation, this time showing the log-output from the solver,"
     ]
    },
    {
     "cell_type": "code",
     "collapsed": false,
     "input": [
      "X, Z, t, y, solsta = solve_mosek(prob, showlog=true);"
     ],
     "language": "python",
     "metadata": {},
     "outputs": [
      {
       "output_type": "stream",
       "stream": "stdout",
       "text": [
        "Open file 'polyopt.task'\n",
        "Computer\n"
       ]
      },
      {
       "output_type": "stream",
       "stream": "stdout",
       "text": [
        "  Platform               : Linux/64-X86    \n",
        "  Cores                  : 20              \n",
        "\n",
        "Problem\n",
        "  Name                   :                 \n",
        "  Objective sense        : max             \n",
        "  Type                   : CONIC (conic optimization problem)\n",
        "  Constraints            : 165             \n",
        "  Cones                  : 0               \n",
        "  Scalar variables       : 1               \n",
        "  Matrix variables       : 9               \n",
        "  Integer variables      : 0               \n",
        "\n",
        "Optimizer started.\n",
        "Conic interior-point optimizer started.\n",
        "Presolve started.\n",
        "Linear dependency checker started.\n",
        "Linear dependency checker terminated.\n",
        "Eliminator - tries                  : 0                 time                   : 0.00            \n",
        "Eliminator - elim's                 : 0               \n",
        "Lin. dep.  - tries                  : 1                 time                   : 0.00            \n",
        "Lin. dep.  - number                 : 0               \n",
        "Presolve terminated. Time: 0.00    \n",
        "rnumcone: 0 0\n",
        "rnummcone: 1 numfrli: 2\n",
        "======\n",
        "nrmc: 1.000000e+00 0.000000e+00\n",
        "flops: 1.497320e+06\n",
        "flops: 1.497320e+06\n",
        "flops: 1.497320e+06\n",
        "Factor flops: 1.50e+06 (0.00e+00)\n",
        "Optimizer  - threads                : 8               \n",
        "Optimizer  - solved problem         : the primal      \n",
        "Optimizer  - Constraints            : 165\n",
        "Optimizer  - Cones                  : 1\n",
        "Optimizer  - Scalar variables       : 2                 conic                  : 2               \n",
        "Optimizer  - Semi-definite variables: 9                 scalarized             : 2310            \n",
        "Factor     - setup time             : 0.00              dense det. time        : 0.00            \n",
        "Factor     - ML order time          : 0.00              GP order time          : 0.00            \n",
        "Factor     - nonzeros before factor : 1.37e+04          after factor           : 1.37e+04        \n",
        "Factor     - dense dim.             : 0                 flops                  : 4.63e+06        \n",
        "ITE PFEAS    DFEAS    GFEAS    PRSTATUS   POBJ              DOBJ              MU       TIME  \n",
        "0   1.5e+00  1.0e+00  1.0e+00  0.00e+00   0.000000000e+00   0.000000000e+00   1.0e+00  0.01  \n",
        "1   5.8e-01  3.8e-01  3.0e-01  -2.46e-02  5.354328913e-01   -2.498346026e-01  3.8e-01  0.01  \n",
        "2   2.5e-01  1.7e-01  1.6e-01  -5.67e-02  -3.460869631e-03  -6.484988902e-01  1.7e-01  0.02  \n",
        "3   1.0e-01  6.6e-02  1.3e-01  8.27e-01   -7.818898506e-01  -8.565003054e-01  6.6e-02  0.03  \n",
        "4   4.5e-02  3.0e-02  9.2e-02  1.21e+00   -1.101371626e+00  -1.139945796e+00  3.0e-02  0.04  \n",
        "5   1.1e-02  7.5e-03  4.6e-02  1.15e+00   -1.606437915e+00  -1.616702602e+00  7.5e-03  0.05  \n",
        "6   4.2e-03  2.8e-03  1.9e-02  5.78e-01   -2.334125841e+00  -2.347107798e+00  2.8e-03  0.06  \n",
        "7   1.6e-03  1.1e-03  1.1e-02  7.57e-01   -2.847574109e+00  -2.853939720e+00  1.1e-03  0.06  \n",
        "8   5.7e-04  3.8e-04  6.3e-03  9.13e-01   -3.150346625e+00  -3.152705940e+00  3.8e-04  0.07  \n",
        "9   3.0e-04  2.0e-04  3.4e-03  6.24e-01   -3.278009108e+00  -3.280645322e+00  2.0e-04  0.08  \n",
        "10  1.4e-04  9.1e-05  1.9e-03  6.88e-01   -3.436416768e+00  -3.438216712e+00  9.1e-05  0.09  \n"
       ]
      },
      {
       "output_type": "stream",
       "stream": "stdout",
       "text": [
        "11  7.2e-05  4.8e-05  9.9e-04  2.58e-01   -3.554698423e+00  -3.556684047e+00  4.8e-05  0.11  \n",
        "12  2.6e-05  1.7e-05  4.5e-04  3.73e-01   -3.771501425e+00  -3.772801129e+00  1.7e-05  0.11  \n",
        "13  3.4e-06  2.2e-06  1.7e-04  7.95e-01   -3.966193322e+00  -3.966347446e+00  2.2e-06  0.12  \n",
        "14  7.9e-07  5.3e-07  7.6e-05  1.03e+00   -3.990433826e+00  -3.990477014e+00  5.3e-07  0.13  \n",
        "15  5.6e-08  3.7e-08  2.1e-05  1.03e+00   -3.997473068e+00  -3.997475876e+00  3.7e-08  0.14  \n",
        "16  2.8e-09  1.9e-09  4.8e-06  1.02e+00   -3.997974107e+00  -3.997974228e+00  1.8e-09  0.15  \n",
        "17  7.1e-10  1.1e-08  4.1e-07  9.97e-01   -3.997999705e+00  -3.997999706e+00  1.9e-11  0.15  \n",
        "18  1.4e-09  2.9e-06  8.8e-08  1.00e+00   -3.997999987e+00  -3.997999987e+00  8.6e-13  0.16  \n",
        "Interior-point optimizer terminated. Time: 0.16. \n",
        "\n",
        "Optimizer terminated. Time: 0.19    \n",
        "\n",
        "Interior-point solution summary\n",
        "  Problem status  : PRIMAL_AND_DUAL_FEASIBLE\n",
        "  Solution status : OPTIMAL\n",
        "  Primal.  obj: -3.9979999867e+00   Viol.  con: 5e-07    var: 0e+00    barvar: 0e+00  \n",
        "  Dual.    obj: -3.9979999867e+00   Viol.  con: 0e+00    var: 4e-12    barvar: 5e-12  \n"
       ]
      }
     ],
     "prompt_number": 12
    },
    {
     "cell_type": "markdown",
     "metadata": {},
     "source": [
      "Again the lower increases when we increase the relaxation order,"
     ]
    },
    {
     "cell_type": "code",
     "collapsed": false,
     "input": [
      "t"
     ],
     "language": "python",
     "metadata": {},
     "outputs": [
      {
       "metadata": {},
       "output_type": "pyout",
       "prompt_number": 13,
       "text": [
        "-3.9979999866604605"
       ]
      }
     ],
     "prompt_number": 13
    },
    {
     "cell_type": "markdown",
     "metadata": {},
     "source": [
      "At this point the hierarchy of relaxations has converged; higher order relaxations give the same bound. Let us inspect the recovered solution"
     ]
    },
    {
     "cell_type": "code",
     "collapsed": false,
     "input": [
      "[prob.basis[1:10] y[1:10]]"
     ],
     "language": "python",
     "metadata": {},
     "outputs": [
      {
       "metadata": {},
       "output_type": "pyout",
       "prompt_number": 14,
       "text": [
        "10x2 Array{Polyopt.Poly{Float64},2}:\n",
        " 1.0    0.9999999999960142   \n",
        " x1     1.9999948956672233   \n",
        " x2     7.071950589514764e-9 \n",
        " x3     1.0207556795660299e-5\n",
        " x1^2   3.9999872368940976   \n",
        " x1*x2  7.361524484544642e-9 \n",
        " x1*x3  5.108980226011731e-6 \n",
        " x2^2   5.437616092568123e-9 \n",
        " x2*x3  1.2616768006511281e-8\n",
        " x3^2   3.061550047109659e-5 "
       ]
      }
     ],
     "prompt_number": 14
    },
    {
     "cell_type": "markdown",
     "metadata": {},
     "source": [
      "Let us verify that the recovered solution"
     ]
    },
    {
     "cell_type": "code",
     "collapsed": false,
     "input": [
      "X1, X2, X3 = y[2:4]"
     ],
     "language": "python",
     "metadata": {},
     "outputs": [
      {
       "metadata": {},
       "output_type": "pyout",
       "prompt_number": 15,
       "text": [
        "3-element Array{Float64,1}:\n",
        " 1.99999   \n",
        " 7.07195e-9\n",
        " 1.02076e-5"
       ]
      }
     ],
     "prompt_number": 15
    },
    {
     "cell_type": "markdown",
     "metadata": {},
     "source": [
      " is optimal. It achieves the same objective value as the relaxation,"
     ]
    },
    {
     "cell_type": "code",
     "collapsed": false,
     "input": [
      "Polyopt.evalpoly(f, [X1; X2; X3])"
     ],
     "language": "python",
     "metadata": {},
     "outputs": [
      {
       "metadata": {},
       "output_type": "pyout",
       "prompt_number": 16,
       "text": [
        "-3.999999991819292"
       ]
      }
     ],
     "prompt_number": 16
    },
    {
     "cell_type": "markdown",
     "metadata": {},
     "source": [
      "and it is feasible,"
     ]
    },
    {
     "cell_type": "code",
     "collapsed": false,
     "input": [
      "[ Polyopt.evalpoly(gi, [X1; X2; X3]) for gi=g ]"
     ],
     "language": "python",
     "metadata": {},
     "outputs": [
      {
       "metadata": {},
       "output_type": "pyout",
       "prompt_number": 17,
       "text": [
        "8-element Array{Any,1}:\n",
        " -3.06133e-5\n",
        "  1.99999   \n",
        "  5.99999   \n",
        "  1.99999   \n",
        "  5.10433e-6\n",
        "  7.07195e-9\n",
        "  1.02076e-5\n",
        "  2.99999   "
       ]
      }
     ],
     "prompt_number": 17
    },
    {
     "cell_type": "code",
     "collapsed": false,
     "input": [],
     "language": "python",
     "metadata": {},
     "outputs": []
    }
   ],
   "metadata": {}
  }
 ]
}