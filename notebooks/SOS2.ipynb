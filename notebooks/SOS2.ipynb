{
 "metadata": {
  "name": ""
 },
 "nbformat": 3,
 "nbformat_minor": 0,
 "worksheets": [
  {
   "cells": [
    {
     "cell_type": "heading",
     "level": 1,
     "metadata": {},
     "source": [
      "Duality properties and sums of squares"
     ]
    },
    {
     "cell_type": "markdown",
     "metadata": {},
     "source": [
      "We consider a problem"
     ]
    },
    {
     "cell_type": "markdown",
     "metadata": {},
     "source": [
      "\\begin{array}{ll}\n",
      "\\text{minimize}   & x^4 + z^2 + 1\\\\\n",
      "\\text{subject to} & x^2 - z^2 - 1 \\geq 0,\n",
      "\\end{array}"
     ]
    },
    {
     "cell_type": "code",
     "collapsed": false,
     "input": [
      "using Polyopt"
     ],
     "language": "python",
     "metadata": {},
     "outputs": [
      {
       "output_type": "stream",
       "stream": "stderr",
       "text": [
        "Warning: New definition \n",
        "    convert(Type"
       ]
      },
      {
       "output_type": "stream",
       "stream": "stderr",
       "text": [
        "{Polyopt.Poly{S<:Number}},T<:Number) at /home/joachim/.julia/v0.4/Polyopt/src/polynomial.jl:135\n",
        "is ambiguous with: \n",
        "    convert(Type{T},T) at base.jl:40.\n",
        "To fix, define \n",
        "    convert(Type{Polyopt.Poly{S<:Number}},_<:Polyopt.Poly{S<:Number})\n",
        "before the new definition.\n",
        "WARNING: dlopen_e is deprecated, use Libdl.dlopen_e instead."
       ]
      },
      {
       "output_type": "stream",
       "stream": "stderr",
       "text": [
        "\n",
        " in depwarn at ./deprecated.jl:40\n",
        " in dlopen_e at deprecated.jl:10\n",
        " in anonymous at /home/joachim/.julia/v0.4/Mosek/src/../deps/deps.jl:4\n",
        " in include at ./boot.jl:250\n",
        " in include_from_node1 at ./loading.jl:129\n",
        " in include at ./boot.jl:250\n",
        " in include_from_node1 at ./loading.jl:129\n",
        " in reload_path at ./loading.jl:153\n",
        " in _require at ./loading.jl:68\n",
        " in require at ./loading.jl:54\n",
        " in include at ./boot.jl:250\n",
        " in include_from_node1 at ./loading.jl:129\n",
        " in include at ./boot.jl:250\n",
        " in include_from_node1 at ./loading.jl:129\n",
        " in reload_path at ./loading.jl:153\n",
        " in _require at ./loading.jl:68\n",
        " in require at ./loading.jl:51\n",
        " in include_string at loading.jl:98\n",
        " in execute_request_0x535c5df2 at /home/joachim/.julia/v0.4/IJulia/src/execute_request.jl:157\n",
        " in eventloop at /home/joachim/.julia/v0.4/IJulia/src/IJulia.jl:123\n",
        " in anonymous at task.jl:361\n",
        "WARNING: int32(x) is deprecated, use Int32(x) instead."
       ]
      },
      {
       "output_type": "stream",
       "stream": "stderr",
       "text": [
        "\n",
        " in depwarn at ./deprecated.jl:40\n",
        " in int32 at deprecated.jl:29\n",
        " in include at ./boot.jl:250\n",
        " in include_from_node1 at ./loading.jl:129\n",
        " in include at ./boot.jl:250\n",
        " in include_from_node1 at ./loading.jl:129\n",
        " in reload_path at ./loading.jl:153\n",
        " in _require at ./loading.jl:68\n",
        " in require at ./loading.jl:54\n",
        " in include at ./boot.jl:250\n",
        " in include_from_node1 at ./loading.jl:129\n",
        " in include at ./boot.jl:250\n",
        " in include_from_node1 at ./loading.jl:129\n",
        " in reload_path at ./loading.jl:153\n",
        " in _require at ./loading.jl:68\n",
        " in require at ./loading.jl:51\n",
        " in include_string at loading.jl:98\n",
        " in execute_request_0x535c5df2 at /home/joachim/.julia/v0.4/IJulia/src/execute_request.jl:157\n",
        " in eventloop at /home/joachim/.julia/v0.4/IJulia/src/IJulia.jl:123\n",
        " in anonymous at task.jl:361\n",
        "WARNING: int8(x) is deprecated, use Int8(x) instead."
       ]
      },
      {
       "output_type": "stream",
       "stream": "stderr",
       "text": [
        "\n",
        " in depwarn at ./deprecated.jl:40\n",
        " in int8 at deprecated.jl:29\n",
        " in include at ./boot.jl:250\n",
        " in include_from_node1 at ./loading.jl:129\n",
        " in include at ./boot.jl:250\n",
        " in include_from_node1 at ./loading.jl:129\n",
        " in reload_path at ./loading.jl:153\n",
        " in _require at ./loading.jl:68\n",
        " in require at ./loading.jl:54\n",
        " in include at ./boot.jl:250\n",
        " in include_from_node1 at ./loading.jl:129\n",
        " in include at ./boot.jl:250\n",
        " in include_from_node1 at ./loading.jl:129\n",
        " in reload_path at ./loading.jl:153\n",
        " in _require at ./loading.jl:68\n",
        " in require at ./loading.jl:51\n",
        " in include_string at loading.jl:98\n",
        " in execute_request_0x535c5df2 at /home/joachim/.julia/v0.4/IJulia/src/execute_request.jl:157\n",
        " in eventloop at /home/joachim/.julia/v0.4/IJulia/src/IJulia.jl:123\n",
        " in anonymous at task.jl:361\n"
       ]
      }
     ],
     "prompt_number": 1
    },
    {
     "cell_type": "code",
     "collapsed": false,
     "input": [
      "x, z = variables([\"x\", \"z\"])"
     ],
     "language": "python",
     "metadata": {},
     "outputs": [
      {
       "metadata": {},
       "output_type": "pyout",
       "prompt_number": 2,
       "text": [
        "2-element Array{Polyopt.Poly{Int64},1}:\n",
        " x\n",
        " z"
       ]
      }
     ],
     "prompt_number": 2
    },
    {
     "cell_type": "code",
     "collapsed": false,
     "input": [
      "f = x^4 + z^2 + 1"
     ],
     "language": "python",
     "metadata": {},
     "outputs": [
      {
       "metadata": {},
       "output_type": "pyout",
       "prompt_number": 3,
       "text": [
        "1+z^2+x^4"
       ]
      }
     ],
     "prompt_number": 3
    },
    {
     "cell_type": "code",
     "collapsed": false,
     "input": [
      "g = x^2 - z^2 - 1"
     ],
     "language": "python",
     "metadata": {},
     "outputs": [
      {
       "metadata": {},
       "output_type": "pyout",
       "prompt_number": 4,
       "text": [
        "-1+x^2-z^2"
       ]
      }
     ],
     "prompt_number": 4
    },
    {
     "cell_type": "code",
     "collapsed": false,
     "input": [
      "prob = momentprob(2, f, [g]);"
     ],
     "language": "python",
     "metadata": {},
     "outputs": [
      {
       "output_type": "stream",
       "stream": "stderr",
       "text": [
        "WARNING: [a] concatenation is deprecated; use [a;] instead\n"
       ]
      },
      {
       "output_type": "stream",
       "stream": "stderr",
       "text": [
        " in depwarn at ./deprecated.jl:40\n",
        " in oldstyle_vcat_warning at ./abstractarray.jl:26\n",
        " in indexmap at /home/joachim/.julia/v0.4/Polyopt/src/Polyopt.jl:91\n",
        " in momentprob at /home/joachim/.julia/v0.4/Polyopt/src/Polyopt.jl:142\n",
        " in momentprob at /home/joachim/.julia/v0.4/Polyopt/src/Polyopt.jl:176\n",
        " in include_string at loading.jl:98\n",
        " in execute_request_0x535c5df2 at /home/joachim/.julia/v0.4/IJulia/src/execute_request.jl:157\n",
        " in eventloop at /home/joachim/.julia/v0.4/IJulia/src/IJulia.jl:123\n",
        " in anonymous at task.jl:361\n"
       ]
      }
     ],
     "prompt_number": 5
    },
    {
     "cell_type": "code",
     "collapsed": false,
     "input": [
      "X, t, y, solsta = solve_mosek(prob);"
     ],
     "language": "python",
     "metadata": {},
     "outputs": [
      {
       "output_type": "stream",
       "stream": "stderr",
       "text": [
        "WARNING: int32(x) is deprecated, use Int32(x) instead.\n"
       ]
      },
      {
       "output_type": "stream",
       "stream": "stdout",
       "text": [
        "Open file 'polyopt.task'\n",
        "Computer\n"
       ]
      },
      {
       "output_type": "stream",
       "stream": "stderr",
       "text": [
        " in depwarn at ./deprecated.jl:40\n",
        " in int32 at deprecated.jl:29\n",
        " in solve_mosek at /home/joachim/.julia/v0.4/Polyopt/src/solver_mosek.jl:43\n",
        " in solve_mosek at /home/joachim/.julia/v0.4/Polyopt/src/solver_mosek.jl:18\n",
        " in include_string at loading.jl:98\n",
        " in execute_request_0x535c5df2 at /home/joachim/.julia/v0.4/IJulia/src/execute_request.jl:157\n",
        " in eventloop at /home/joachim/.julia/v0.4/IJulia/src/IJulia.jl:123\n",
        " in anonymous at task.jl:361\n",
        "WARNING: int32(x) is deprecated, use Int32(x) instead.\n",
        " in depwarn at ./deprecated.jl:40\n",
        " in int32 at deprecated.jl:29\n",
        " in solve_mosek at /home/joachim/.julia/v0.4/Polyopt/src/solver_mosek.jl:43\n",
        " in solve_mosek at /home/joachim/.julia/v0.4/Polyopt/src/solver_mosek.jl:18\n",
        " in include_string at loading.jl:98\n",
        " in execute_request_0x535c5df2 at /home/joachim/.julia/v0.4/IJulia/src/execute_request.jl:157\n",
        " in eventloop at /home/joachim/.julia/v0.4/IJulia/src/IJulia.jl:123\n",
        " in anonymous at task.jl:361\n",
        "WARNING: float64(x::AbstractArray) is deprecated, use map(Float64,x) instead.\n",
        " in depwarn at ./deprecated.jl:40\n",
        " in float64 at deprecated.jl:29\n",
        " in solve_mosek at /home/joachim/.julia/v0.4/Polyopt/src/solver_mosek.jl:43\n",
        " in solve_mosek at /home/joachim/.julia/v0.4/Polyopt/src/solver_mosek.jl:18\n",
        " in include_string at loading.jl:98\n",
        " in execute_request_0x535c5df2 at /home/joachim/.julia/v0.4/IJulia/src/execute_request.jl:157\n",
        " in eventloop at /home/joachim/.julia/v0.4/IJulia/src/IJulia.jl:123\n",
        " in anonymous at task.jl:361\n",
        "WARNING: float64(x::AbstractArray) is deprecated, use map(Float64,x) instead.\n",
        " in depwarn at ./deprecated.jl:40\n",
        " in float64 at deprecated.jl:29\n",
        " in solve_mosek at /home/joachim/.julia/v0.4/Polyopt/src/solver_mosek.jl:43\n",
        " in solve_mosek at /home/joachim/.julia/v0.4/Polyopt/src/solver_mosek.jl:18\n",
        " in include_string at loading.jl:98\n",
        " in execute_request_0x535c5df2 at /home/joachim/.julia/v0.4/IJulia/src/execute_request.jl:157\n",
        " in eventloop at /home/joachim/.julia/v0.4/IJulia/src/IJulia.jl:123\n",
        " in anonymous at task.jl:361\n",
        "WARNING: int32(x) is deprecated, use Int32(x) instead.\n",
        " in depwarn at ./deprecated.jl:40\n",
        " in int32 at deprecated.jl:29\n",
        " in solve_mosek at /home/joachim/.julia/v0.4/Polyopt/src/solver_mosek.jl:48\n",
        " in solve_mosek at /home/joachim/.julia/v0.4/Polyopt/src/solver_mosek.jl:18\n",
        " in include_string at loading.jl:98\n",
        " in execute_request_0x535c5df2 at /home/joachim/.julia/v0.4/IJulia/src/execute_request.jl:157\n",
        " in eventloop at /home/joachim/.julia/v0.4/IJulia/src/IJulia.jl:123\n",
        " in anonymous at task.jl:361\n",
        "WARNING: float64(x) is deprecated, use Float64(x) instead.\n",
        " in depwarn at ./deprecated.jl:40\n",
        " in float64 at deprecated.jl:29\n",
        " in solve_mosek at /home/joachim/.julia/v0.4/Polyopt/src/solver_mosek.jl:48\n",
        " in solve_mosek at /home/joachim/.julia/v0.4/Polyopt/src/solver_mosek.jl:18\n",
        " in include_string at loading.jl:98\n",
        " in execute_request_0x535c5df2 at /home/joachim/.julia/v0.4/IJulia/src/execute_request.jl:157\n",
        " in eventloop at /home/joachim/.julia/v0.4/IJulia/src/IJulia.jl:123\n",
        " in anonymous at task.jl:361\n",
        "WARNING: int32(x) is deprecated, use Int32(x) instead.\n",
        " in depwarn at ./deprecated.jl:40\n",
        " in int32 at deprecated.jl:29\n",
        " in solve_mosek at /home/joachim/.julia/v0.4/Polyopt/src/solver_mosek.jl:55\n",
        " in solve_mosek at /home/joachim/.julia/v0.4/Polyopt/src/solver_mosek.jl:18\n",
        " in include_string at loading.jl:98\n",
        " in execute_request_0x535c5df2 at /home/joachim/.julia/v0.4/IJulia/src/execute_request.jl:157\n",
        " in eventloop at /home/joachim/.julia/v0.4/IJulia/src/IJulia.jl:123\n",
        " in anonymous at task.jl:361\n",
        "WARNING: int32(x) is deprecated, use Int32(x) instead.\n",
        " in depwarn at ./deprecated.jl:40\n",
        " in int32 at deprecated.jl:29\n",
        " in solve_mosek at /home/joachim/.julia/v0.4/Polyopt/src/solver_mosek.jl:55\n",
        " in solve_mosek at /home/joachim/.julia/v0.4/Polyopt/src/solver_mosek.jl:18\n",
        " in include_string at loading.jl:98\n",
        " in execute_request_0x535c5df2 at /home/joachim/.julia/v0.4/IJulia/src/execute_request.jl:157\n",
        " in eventloop at /home/joachim/.julia/v0.4/IJulia/src/IJulia.jl:123\n",
        " in anonymous at task.jl:361\n",
        "WARNING: float64(x) is deprecated, use Float64(x) instead.\n",
        " in depwarn at ./deprecated.jl:40\n",
        " in float64 at deprecated.jl:29\n",
        " in solve_mosek at /home/joachim/.julia/v0.4/Polyopt/src/solver_mosek.jl:55\n",
        " in solve_mosek at /home/joachim/.julia/v0.4/Polyopt/src/solver_mosek.jl:18\n",
        " in include_string at loading.jl:98\n",
        " in execute_request_0x535c5df2 at /home/joachim/.julia/v0.4/IJulia/src/execute_request.jl:157\n",
        " in eventloop at /home/joachim/.julia/v0.4/IJulia/src/IJulia.jl:123\n",
        " in anonymous at task.jl:361\n",
        "WARNING: int32(x) is deprecated, use Int32(x) instead.\n",
        " in depwarn at ./deprecated.jl:40\n",
        " in int32 at deprecated.jl:29\n",
        " in putconboundslice at /home/joachim/.julia/v0.4/Mosek/src/msk_functions.jl:2846\n",
        " in solve_mosek at /home/joachim/.julia/v0.4/Polyopt/src/solver_mosek.jl:73\n",
        " in solve_mosek at /home/joachim/.julia/v0.4/Polyopt/src/solver_mosek.jl:18\n",
        " in include_string at loading.jl:98\n",
        " in execute_request_0x535c5df2 at /home/joachim/.julia/v0.4/IJulia/src/execute_request.jl:157\n",
        " in eventloop at /home/joachim/.julia/v0.4/IJulia/src/IJulia.jl:123\n",
        " in anonymous at task.jl:361\n",
        "WARNING: int32(x) is deprecated, use Int32(x) instead.\n",
        " in depwarn at ./deprecated.jl:40\n",
        " in int32 at deprecated.jl:29\n",
        " in putconboundslice at /home/joachim/.julia/v0.4/Mosek/src/msk_functions.jl:2846\n",
        " in solve_mosek at /home/joachim/.julia/v0.4/Polyopt/src/solver_mosek.jl:73\n",
        " in solve_mosek at /home/joachim/.julia/v0.4/Polyopt/src/solver_mosek.jl:18\n",
        " in include_string at loading.jl:98\n",
        " in execute_request_0x535c5df2 at /home/joachim/.julia/v0.4/IJulia/src/execute_request.jl:157\n",
        " in eventloop at /home/joachim/.julia/v0.4/IJulia/src/IJulia.jl:123\n",
        " in anonymous at task.jl:361\n",
        "WARNING: float64(x::AbstractArray) is deprecated, use map(Float64,x) instead.\n",
        " in depwarn at ./deprecated.jl:40\n",
        " in float64 at deprecated.jl:29\n",
        " in putconboundslice at /home/joachim/.julia/v0.4/Mosek/src/msk_functions.jl:2846\n",
        " in solve_mosek at /home/joachim/.julia/v0.4/Polyopt/src/solver_mosek.jl:73\n",
        " in solve_mosek at /home/joachim/.julia/v0.4/Polyopt/src/solver_mosek.jl:18\n",
        " in include_string at loading.jl:98\n",
        " in execute_request_0x535c5df2 at /home/joachim/.julia/v0.4/IJulia/src/execute_request.jl:157\n",
        " in eventloop at /home/joachim/.julia/v0.4/IJulia/src/IJulia.jl:123\n",
        " in anonymous at task.jl:361\n",
        "WARNING: float64(x::AbstractArray) is deprecated, use map(Float64,x) instead.\n",
        " in depwarn at ./deprecated.jl:40\n",
        " in float64 at deprecated.jl:29\n",
        " in putconboundslice at /home/joachim/.julia/v0.4/Mosek/src/msk_functions.jl:2846\n",
        " in solve_mosek at /home/joachim/.julia/v0.4/Polyopt/src/solver_mosek.jl:73\n",
        " in solve_mosek at /home/joachim/.julia/v0.4/Polyopt/src/solver_mosek.jl:18\n",
        " in include_string at loading.jl:98\n",
        " in execute_request_0x535c5df2 at /home/joachim/.julia/v0.4/IJulia/src/execute_request.jl:157\n",
        " in eventloop at /home/joachim/.julia/v0.4/IJulia/src/IJulia.jl:123\n",
        " in anonymous at task.jl:361\n",
        "WARNING: int32(x) is deprecated, use Int32(x) instead.\n",
        " in depwarn at ./deprecated.jl:40\n",
        " in int32 at deprecated.jl:29\n",
        " in getbarxj at /home/joachim/.julia/v0.4/Mosek/src/msk_functions.jl:847\n",
        " in solve_mosek at /home/joachim/.julia/v0.4/Polyopt/src/solver_mosek.jl:103\n",
        " in solve_mosek at /home/joachim/.julia/v0.4/Polyopt/src/solver_mosek.jl:18\n",
        " in include_string at loading.jl:98\n",
        " in execute_request_0x535c5df2 at /home/joachim/.julia/v0.4/IJulia/src/execute_request.jl:157\n",
        " in eventloop at /home/joachim/.julia/v0.4/IJulia/src/IJulia.jl:123\n",
        " in anonymous at task.jl:361\n",
        "WARNING: int(x::FloatingPoint) is deprecated, use round(Int,x) instead.\n",
        " in depwarn at ./deprecated.jl:40\n",
        " in int at deprecated.jl:29\n",
        " in solve_mosek at /home/joachim/.julia/v0.4/Polyopt/src/solver_mosek.jl:103\n"
       ]
      },
      {
       "output_type": "stream",
       "stream": "stdout",
       "text": [
        "  Platform               : Linux/64-X86    \n",
        "  Cores                  : 20              \n",
        "\n",
        "Problem\n",
        "  Name                   :                 \n",
        "  Objective sense        : max             \n",
        "  Type                   : CONIC (conic optimization problem)\n",
        "  Constraints            : 15              \n",
        "  Cones                  : 0               \n",
        "  Scalar variables       : 1               \n",
        "  Matrix variables       : 2               \n",
        "  Integer variables      : 0               \n",
        "\n",
        "Optimizer started.\n",
        "Conic interior-point optimizer started.\n",
        "Presolve started.\n",
        "Linear dependency checker started.\n",
        "Linear dependency checker terminated.\n",
        "Eliminator - tries                  : 0                 time                   : 0.00            \n",
        "Eliminator - elim's                 : 0               \n",
        "Lin. dep.  - tries                  : 1                 time                   : 0.00            \n",
        "Lin. dep.  - number                 : 0               \n",
        "Presolve terminated. Time: 0.00    \n",
        "rnumcone: 0 0\n",
        "rnummcone: 1 numfrli: 2\n",
        "======\n",
        "nrmc: 1.000000e+00 0.000000e+00\n",
        "flops: 1.120000e+03\n",
        "flops: 1.120000e+03\n",
        "flops: 1.120000e+03\n",
        "Factor flops: 1.12e+03 (0.00e+00)\n",
        "Optimizer  - threads                : 8               \n",
        "Optimizer  - solved problem         : the primal      \n",
        "Optimizer  - Constraints            : 15\n",
        "Optimizer  - Cones                  : 1\n",
        "Optimizer  - Scalar variables       : 2                 conic                  : 2               \n",
        "Optimizer  - Semi-definite variables: 2                 scalarized             : 27              \n",
        "Factor     - setup time             : 0.00              dense det. time        : 0.00            \n",
        "Factor     - ML order time          : 0.00              GP order time          : 0.00            \n",
        "Factor     - nonzeros before factor : 120               after factor           : 120             \n",
        "Factor     - dense dim.             : 0                 flops                  : 3.83e+03        \n",
        "ITE PFEAS    DFEAS    GFEAS    PRSTATUS   POBJ              DOBJ              MU       TIME  \n",
        "0   2.0e+00  1.0e+00  1.0e+00  0.00e+00   0.000000000e+00   0.000000000e+00   1.0e+00  0.00  \n",
        "1   6.4e-01  3.2e-01  5.1e-01  8.70e-01   8.646066208e-01   8.256726907e-01   3.2e-01  0.00  \n",
        "2   2.0e-01  9.9e-02  2.4e-01  4.36e-01   1.861514032e+00   1.819532698e+00   9.9e-02  0.00  \n",
        "3   9.2e-03  4.6e-03  7.8e-02  1.07e+00   1.990299546e+00   1.992719767e+00   4.6e-03  0.00  \n",
        "4   2.3e-05  1.1e-05  3.7e-03  1.00e+00   1.999961387e+00   1.999966844e+00   1.1e-05  0.00  \n",
        "5   5.3e-07  2.7e-07  5.9e-04  1.01e+00   1.999998859e+00   1.999998997e+00   2.7e-07  0.00  \n",
        "6   1.2e-08  6.0e-09  9.0e-05  1.00e+00   1.999999972e+00   1.999999975e+00   6.0e-09  0.00  \n",
        "7   1.2e-10  5.9e-11  8.8e-06  1.00e+00   2.000000000e+00   2.000000000e+00   6.1e-11  0.00  \n",
        "Interior-point optimizer terminated. Time: 0.00. \n",
        "\n",
        "Optimizer terminated. Time: 0.02    \n",
        "\n",
        "Interior-point solution summary\n",
        "  Problem status  : PRIMAL_AND_DUAL_FEASIBLE\n",
        "  Solution status : OPTIMAL\n",
        "  Primal.  obj: 1.9999999997e+00    Viol.  con: 1e-10    var: 0e+00    barvar: 0e+00  \n",
        "  Dual.    obj: 1.9999999998e+00    Viol.  con: 0e+00    var: 1e-10    barvar: 6e-11  \n"
       ]
      },
      {
       "output_type": "stream",
       "stream": "stderr",
       "text": [
        " in solve_mosek at /home/joachim/.julia/v0.4/Polyopt/src/solver_mosek.jl:18\n",
        " in include_string at loading.jl:98\n",
        " in execute_request_0x535c5df2 at /home/joachim/.julia/v0.4/IJulia/src/execute_request.jl:157\n",
        " in eventloop at /home/joachim/.julia/v0.4/IJulia/src/IJulia.jl:123\n",
        " in anonymous at task.jl:361\n",
        "WARNING: int32(x) is deprecated, use Int32(x) instead.\n",
        " in depwarn at ./deprecated.jl:40\n",
        " in int32 at deprecated.jl:29\n",
        " in getxxslice at /home/joachim/.julia/v0.4/Mosek/src/msk_functions.jl:2288\n",
        " in solve_mosek at /home/joachim/.julia/v0.4/Polyopt/src/solver_mosek.jl:104\n",
        " in solve_mosek at /home/joachim/.julia/v0.4/Polyopt/src/solver_mosek.jl:18\n",
        " in include_string at loading.jl:98\n",
        " in execute_request_0x535c5df2 at /home/joachim/.julia/v0.4/IJulia/src/execute_request.jl:157\n",
        " in eventloop at /home/joachim/.julia/v0.4/IJulia/src/IJulia.jl:123\n",
        " in anonymous at task.jl:361\n",
        "WARNING: int32(x) is deprecated, use Int32(x) instead.\n",
        " in depwarn at ./deprecated.jl:40\n",
        " in int32 at deprecated.jl:29\n",
        " in getxxslice at /home/joachim/.julia/v0.4/Mosek/src/msk_functions.jl:2288\n",
        " in solve_mosek at /home/joachim/.julia/v0.4/Polyopt/src/solver_mosek.jl:104\n",
        " in solve_mosek at /home/joachim/.julia/v0.4/Polyopt/src/solver_mosek.jl:18\n",
        " in include_string at loading.jl:98\n",
        " in execute_request_0x535c5df2 at /home/joachim/.julia/v0.4/IJulia/src/execute_request.jl:157\n",
        " in eventloop at /home/joachim/.julia/v0.4/IJulia/src/IJulia.jl:123\n",
        " in anonymous at task.jl:361\n"
       ]
      }
     ],
     "prompt_number": 6
    },
    {
     "cell_type": "markdown",
     "metadata": {},
     "source": [
      "The dual interpretation of the moment problem is a certificate $f - t = v_1^T X_1 v_1 + g(x,z) v_2^T X_2 v_2$, i.e., $f-t$ is a weighted sum of squares,"
     ]
    },
    {
     "cell_type": "code",
     "collapsed": false,
     "input": [
      "v1 = monomials(2, [x,z])"
     ],
     "language": "python",
     "metadata": {},
     "outputs": [
      {
       "metadata": {},
       "output_type": "pyout",
       "prompt_number": 7,
       "text": [
        "6-element Array{Polyopt.Poly{Int64},1}:\n",
        " 1  \n",
        " x  \n",
        " z  \n",
        " x^2\n",
        " x*z\n",
        " z^2"
       ]
      }
     ],
     "prompt_number": 7
    },
    {
     "cell_type": "code",
     "collapsed": false,
     "input": [
      "v2 = monomials(1, [x,z])"
     ],
     "language": "python",
     "metadata": {},
     "outputs": [
      {
       "metadata": {},
       "output_type": "pyout",
       "prompt_number": 8,
       "text": [
        "3-element Array{Polyopt.Poly{Int64},1}:\n",
        " 1\n",
        " x\n",
        " z"
       ]
      }
     ],
     "prompt_number": 8
    },
    {
     "cell_type": "code",
     "collapsed": false,
     "input": [
      "f-t"
     ],
     "language": "python",
     "metadata": {},
     "outputs": [
      {
       "metadata": {},
       "output_type": "pyout",
       "prompt_number": 9,
       "text": [
        "-0.9999999997284168+z^2+x^4"
       ]
      }
     ],
     "prompt_number": 9
    },
    {
     "cell_type": "code",
     "collapsed": false,
     "input": [
      "truncate(dot(v1,X[1]*v1) + g*dot(v2,X[2]*v2), 1e-8)"
     ],
     "language": "python",
     "metadata": {},
     "outputs": [
      {
       "metadata": {},
       "output_type": "pyout",
       "prompt_number": 10,
       "text": [
        "-0.9999999997642184+0.999999999851251*z^2+1.0000000000744869*x^4"
       ]
      }
     ],
     "prompt_number": 10
    },
    {
     "cell_type": "code",
     "collapsed": false,
     "input": [],
     "language": "python",
     "metadata": {},
     "outputs": []
    }
   ],
   "metadata": {}
  }
 ]
}